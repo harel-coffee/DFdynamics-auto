{
 "cells": [
  {
   "cell_type": "code",
   "execution_count": 1,
   "metadata": {},
   "outputs": [],
   "source": [
    "import pandas as pd"
   ]
  },
  {
   "cell_type": "code",
   "execution_count": 25,
   "metadata": {},
   "outputs": [],
   "source": [
    "df = None\n",
    "folders = ['healey_2018_BJN', 'baxter_2019_mbio', 'vandeputte_2017_gut','creswell_2020_GM']\n",
    "for k,f in enumerate(folders):\n",
    "    _df = pd.read_excel('%s/bayesian_regression_summary.xlsx'%(f), index_col=0)\n",
    "    _df = _df[_df.Significant==True]\n",
    "    _df['Study'] = f\n",
    "    if k==0:\n",
    "        df = _df\n",
    "    else:\n",
    "        df = pd.concat([df,_df], axis=0)\n",
    "df = df.reset_index(drop=True)\n",
    "df.to_csv('all_significant_glv_coefs.csv')"
   ]
  },
  {
   "cell_type": "code",
   "execution_count": null,
   "metadata": {},
   "outputs": [],
   "source": []
  }
 ],
 "metadata": {
  "kernelspec": {
   "display_name": "Python 3",
   "language": "python",
   "name": "python3"
  },
  "language_info": {
   "codemirror_mode": {
    "name": "ipython",
    "version": 3
   },
   "file_extension": ".py",
   "mimetype": "text/x-python",
   "name": "python",
   "nbconvert_exporter": "python",
   "pygments_lexer": "ipython3",
   "version": "3.8.3"
  }
 },
 "nbformat": 4,
 "nbformat_minor": 4
}
