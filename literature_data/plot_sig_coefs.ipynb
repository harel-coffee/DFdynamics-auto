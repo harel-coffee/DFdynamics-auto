{
 "cells": [
  {
   "cell_type": "code",
   "execution_count": 30,
   "metadata": {},
   "outputs": [],
   "source": [
    "import pandas as pd\n",
    "import numpy as np\n",
    "import seaborn as sns\n",
    "import matplotlib.pyplot as plt"
   ]
  },
  {
   "cell_type": "markdown",
   "metadata": {},
   "source": [
    "# Find all significant coefficients"
   ]
  },
  {
   "cell_type": "code",
   "execution_count": 4,
   "metadata": {},
   "outputs": [],
   "source": [
    "df = None\n",
    "folders = ['healey_2018_BJN', 'baxter_2019_mbio', 'vandeputte_2017_gut','creswell_2020_GM']\n",
    "for k,f in enumerate(folders):\n",
    "    _df = pd.read_excel('%s/bayesian_regression_summary.xlsx'%(f), index_col=0)\n",
    "    _df = _df[_df.Significant==True]\n",
    "    _df['Study'] = f\n",
    "    if k==0:\n",
    "        df = _df\n",
    "    else:\n",
    "        df = pd.concat([df,_df], axis=0)\n",
    "df = df.reset_index(drop=True)\n",
    "df.to_csv('all_significant_glv_coefs.csv')"
   ]
  },
  {
   "cell_type": "code",
   "execution_count": 10,
   "metadata": {},
   "outputs": [
    {
     "data": {
      "text/html": [
       "<div>\n",
       "<style scoped>\n",
       "    .dataframe tbody tr th:only-of-type {\n",
       "        vertical-align: middle;\n",
       "    }\n",
       "\n",
       "    .dataframe tbody tr th {\n",
       "        vertical-align: top;\n",
       "    }\n",
       "\n",
       "    .dataframe thead th {\n",
       "        text-align: right;\n",
       "    }\n",
       "</style>\n",
       "<table border=\"1\" class=\"dataframe\">\n",
       "  <thead>\n",
       "    <tr style=\"text-align: right;\">\n",
       "      <th></th>\n",
       "      <th>Type</th>\n",
       "      <th>Taxa</th>\n",
       "      <th>Left</th>\n",
       "      <th>Right</th>\n",
       "      <th>Middle</th>\n",
       "      <th>SNR</th>\n",
       "      <th>Significant</th>\n",
       "      <th>Study</th>\n",
       "    </tr>\n",
       "  </thead>\n",
       "  <tbody>\n",
       "    <tr>\n",
       "      <th>1</th>\n",
       "      <td>fiber_response</td>\n",
       "      <td>Bifidobacterium</td>\n",
       "      <td>0.10</td>\n",
       "      <td>0.14</td>\n",
       "      <td>0.120</td>\n",
       "      <td>12.336286</td>\n",
       "      <td>True</td>\n",
       "      <td>healey_2018_BJN</td>\n",
       "    </tr>\n",
       "    <tr>\n",
       "      <th>2</th>\n",
       "      <td>fiber_response</td>\n",
       "      <td>Anaerostipes</td>\n",
       "      <td>0.06</td>\n",
       "      <td>0.10</td>\n",
       "      <td>0.080</td>\n",
       "      <td>8.065097</td>\n",
       "      <td>True</td>\n",
       "      <td>healey_2018_BJN</td>\n",
       "    </tr>\n",
       "    <tr>\n",
       "      <th>3</th>\n",
       "      <td>fiber_response</td>\n",
       "      <td>Prevotella</td>\n",
       "      <td>0.01</td>\n",
       "      <td>0.05</td>\n",
       "      <td>0.030</td>\n",
       "      <td>2.737115</td>\n",
       "      <td>True</td>\n",
       "      <td>healey_2018_BJN</td>\n",
       "    </tr>\n",
       "    <tr>\n",
       "      <th>11</th>\n",
       "      <td>fiber_response</td>\n",
       "      <td>Faecalibacterium</td>\n",
       "      <td>0.01</td>\n",
       "      <td>0.04</td>\n",
       "      <td>0.025</td>\n",
       "      <td>3.879450</td>\n",
       "      <td>True</td>\n",
       "      <td>baxter_2019_mbio</td>\n",
       "    </tr>\n",
       "    <tr>\n",
       "      <th>13</th>\n",
       "      <td>fiber_response</td>\n",
       "      <td>Bifidobacterium</td>\n",
       "      <td>0.02</td>\n",
       "      <td>0.05</td>\n",
       "      <td>0.035</td>\n",
       "      <td>5.346078</td>\n",
       "      <td>True</td>\n",
       "      <td>baxter_2019_mbio</td>\n",
       "    </tr>\n",
       "    <tr>\n",
       "      <th>14</th>\n",
       "      <td>fiber_response</td>\n",
       "      <td>Anaerostipes</td>\n",
       "      <td>0.01</td>\n",
       "      <td>0.04</td>\n",
       "      <td>0.025</td>\n",
       "      <td>2.876799</td>\n",
       "      <td>True</td>\n",
       "      <td>baxter_2019_mbio</td>\n",
       "    </tr>\n",
       "    <tr>\n",
       "      <th>23</th>\n",
       "      <td>fiber_response</td>\n",
       "      <td>Lachnospiraceae</td>\n",
       "      <td>0.01</td>\n",
       "      <td>0.06</td>\n",
       "      <td>0.035</td>\n",
       "      <td>2.753969</td>\n",
       "      <td>True</td>\n",
       "      <td>vandeputte_2017_gut</td>\n",
       "    </tr>\n",
       "    <tr>\n",
       "      <th>24</th>\n",
       "      <td>fiber_response</td>\n",
       "      <td>Anaerostipes</td>\n",
       "      <td>0.01</td>\n",
       "      <td>0.06</td>\n",
       "      <td>0.035</td>\n",
       "      <td>2.738454</td>\n",
       "      <td>True</td>\n",
       "      <td>vandeputte_2017_gut</td>\n",
       "    </tr>\n",
       "    <tr>\n",
       "      <th>25</th>\n",
       "      <td>fiber_response</td>\n",
       "      <td>Bifidobacterium</td>\n",
       "      <td>0.02</td>\n",
       "      <td>0.07</td>\n",
       "      <td>0.045</td>\n",
       "      <td>3.269076</td>\n",
       "      <td>True</td>\n",
       "      <td>vandeputte_2017_gut</td>\n",
       "    </tr>\n",
       "    <tr>\n",
       "      <th>35</th>\n",
       "      <td>fiber_response</td>\n",
       "      <td>Anaerostipes_hadrus</td>\n",
       "      <td>0.01</td>\n",
       "      <td>0.06</td>\n",
       "      <td>0.035</td>\n",
       "      <td>2.616084</td>\n",
       "      <td>True</td>\n",
       "      <td>creswell_2020_GM</td>\n",
       "    </tr>\n",
       "  </tbody>\n",
       "</table>\n",
       "</div>"
      ],
      "text/plain": [
       "              Type                 Taxa  Left  Right  Middle        SNR  \\\n",
       "1   fiber_response      Bifidobacterium  0.10   0.14   0.120  12.336286   \n",
       "2   fiber_response         Anaerostipes  0.06   0.10   0.080   8.065097   \n",
       "3   fiber_response           Prevotella  0.01   0.05   0.030   2.737115   \n",
       "11  fiber_response     Faecalibacterium  0.01   0.04   0.025   3.879450   \n",
       "13  fiber_response      Bifidobacterium  0.02   0.05   0.035   5.346078   \n",
       "14  fiber_response         Anaerostipes  0.01   0.04   0.025   2.876799   \n",
       "23  fiber_response      Lachnospiraceae  0.01   0.06   0.035   2.753969   \n",
       "24  fiber_response         Anaerostipes  0.01   0.06   0.035   2.738454   \n",
       "25  fiber_response      Bifidobacterium  0.02   0.07   0.045   3.269076   \n",
       "35  fiber_response  Anaerostipes_hadrus  0.01   0.06   0.035   2.616084   \n",
       "\n",
       "    Significant                Study  \n",
       "1          True      healey_2018_BJN  \n",
       "2          True      healey_2018_BJN  \n",
       "3          True      healey_2018_BJN  \n",
       "11         True     baxter_2019_mbio  \n",
       "13         True     baxter_2019_mbio  \n",
       "14         True     baxter_2019_mbio  \n",
       "23         True  vandeputte_2017_gut  \n",
       "24         True  vandeputte_2017_gut  \n",
       "25         True  vandeputte_2017_gut  \n",
       "35         True     creswell_2020_GM  "
      ]
     },
     "execution_count": 10,
     "metadata": {},
     "output_type": "execute_result"
    }
   ],
   "source": [
    "df_sig = df[(df.Type=='fiber_response') & (df.Middle>0) & (df.Taxa != 'Trichuris_dash_trichiura_dash__leftroundbrackethuman_dash_whipworm_rightroundbracket_')]\n",
    "df_sig"
   ]
  },
  {
   "cell_type": "code",
   "execution_count": 11,
   "metadata": {},
   "outputs": [
    {
     "data": {
      "text/plain": [
       "['Bifidobacterium',\n",
       " 'Anaerostipes',\n",
       " 'Prevotella',\n",
       " 'Faecalibacterium',\n",
       " 'Bifidobacterium',\n",
       " 'Anaerostipes',\n",
       " 'Lachnospiraceae',\n",
       " 'Anaerostipes',\n",
       " 'Bifidobacterium',\n",
       " 'Anaerostipes_hadrus']"
      ]
     },
     "execution_count": 11,
     "metadata": {},
     "output_type": "execute_result"
    }
   ],
   "source": [
    "list(df_sig.Taxa)"
   ]
  },
  {
   "cell_type": "code",
   "execution_count": 32,
   "metadata": {},
   "outputs": [
    {
     "data": {
      "image/png": "[encoded data removed]",
      "text/plain": [
       "<Figure size 360x360 with 2 Axes>"
      ]
     },
     "metadata": {
      "needs_background": "light"
     },
     "output_type": "display_data"
    }
   ],
   "source": [
    "matrix = np.array([[1,1,0,1,0],[1,1,1,0,0],[1,1,0,0,1],[0,1,0,0,0]])\n",
    "df_mat = pd.DataFrame(matrix).T\n",
    "\n",
    "fig, ax= plt.subplots(figsize=(5,5))\n",
    "_ = sns.heatmap(df_mat, cmap='gray_r', ax=ax)\n",
    "plt.savefig('meta_analysis.svg', format='svg')"
   ]
  },
  {
   "cell_type": "code",
   "execution_count": null,
   "metadata": {},
   "outputs": [],
   "source": []
  }
 ],
 "metadata": {
  "kernelspec": {
   "display_name": "Python 3",
   "language": "python",
   "name": "python3"
  },
  "language_info": {
   "codemirror_mode": {
    "name": "ipython",
    "version": 3
   },
   "file_extension": ".py",
   "mimetype": "text/x-python",
   "name": "python",
   "nbconvert_exporter": "python",
   "pygments_lexer": "ipython3",
   "version": "3.8.3"
  }
 },
 "nbformat": 4,
 "nbformat_minor": 4
}
