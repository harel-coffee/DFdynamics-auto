{
 "cells": [
  {
   "cell_type": "code",
   "execution_count": 1,
   "metadata": {},
   "outputs": [],
   "source": [
    "import pandas as pd\n",
    "import numpy as np\n",
    "from sklearn.preprocessing import MinMaxScaler, StandardScaler\n",
    "from copy import deepcopy\n",
    "import matplotlib.pyplot as plt\n",
    "import seaborn as sns\n",
    "from scipy.interpolate import CubicSpline\n",
    "import warnings\n",
    "warnings.filterwarnings(\"ignore\")\n",
    "import arviz as az\n",
    "%run -i '../../utils.py'"
   ]
  },
  {
   "cell_type": "markdown",
   "metadata": {},
   "source": [
    "# Read data"
   ]
  },
  {
   "cell_type": "code",
   "execution_count": 3,
   "metadata": {},
   "outputs": [],
   "source": [
    "df_bac = pd.read_excel('./16S_relative_abundance.xlsx', index_col=0)\n",
    "df_meta = pd.read_csv('metadata.csv', index_col=0)"
   ]
  },
  {
   "cell_type": "markdown",
   "metadata": {},
   "source": [
    "# Generate stan program files"
   ]
  },
  {
   "cell_type": "code",
   "execution_count": 4,
   "metadata": {},
   "outputs": [],
   "source": [
    "bacterial_taxa = generate_stan_files_for_fiber_respones(\n",
    "    df_bac, # 16S data (relative or absolute), rows are samples, columns are taxa\n",
    "    df_meta, # meta data, rows are samples, columns are SubjectID, Day, and Dose\n",
    "    prefix='healey_2018', # prefix of stan file name\n",
    "    topN=20, # select the topN taxa to run bayesian regression\n",
    "    stan_path='/Users/liaoc/Documents/cmdstan-2.24.1/projects/microbiome_fiber_response_LD'\n",
    ") "
   ]
  },
  {
   "cell_type": "markdown",
   "metadata": {},
   "source": [
    "# Extract stan output and show significant fiber responses"
   ]
  },
  {
   "cell_type": "code",
   "execution_count": null,
   "metadata": {},
   "outputs": [],
   "source": [
    "fit = az.from_cmdstan([\"healey_2018_output_%d.csv\"%(i) for i in np.arange(1,4)])\n",
    "\n",
    "lines = []\n",
    "# basal growth rate\n",
    "for c in bacterial_taxa:\n",
    "    var = 'alpha__%s'%(c)\n",
    "    data = []\n",
    "    for i in np.arange(0,3):\n",
    "        data.extend(list(fit.posterior[var][i].values))\n",
    "    hpd_mu, x_mu, y_mu, modes_mu = hpd_grid(data)\n",
    "    assert len(hpd_mu) == 1\n",
    "    (x0, x1) = hpd_mu[0]\n",
    "    lines.append(['basal_growth_rate', c, x0, x1, (x0+x1)/2, np.mean(data)/np.std(data), x0*x1>0])\n",
    "# inulin response\n",
    "for c in bacterial_taxa:\n",
    "    var = 'epsilon__%s'%(c)\n",
    "    data = []\n",
    "    for i in np.arange(0,3):\n",
    "        data.extend(list(fit.posterior[var][i].values))\n",
    "    hpd_mu, x_mu, y_mu, modes_mu = hpd_grid(data)\n",
    "    assert len(hpd_mu) == 1\n",
    "    (x0, x1) = hpd_mu[0]\n",
    "    lines.append(['fiber_response', c, x0, x1, (x0+x1)/2, np.mean(data)/np.std(data), x0*x1>0])\n",
    "# pairwise interactions\n",
    "for c1 in bacterial_taxa:\n",
    "    for c2 in bacterial_taxa:\n",
    "        var = 'beta__%s_%s'%(c1,c2)\n",
    "        data = []\n",
    "        for i in np.arange(0,3):\n",
    "            data.extend(list(fit.posterior[var][i].values))\n",
    "        hpd_mu, x_mu, y_mu, modes_mu = hpd_grid(data)\n",
    "        assert len(hpd_mu) == 1\n",
    "        (x0, x1) = hpd_mu[0]\n",
    "        lines.append(['pairwise_interaction', (c1,c2), x0, x1, (x0+x1)/2, np.mean(data)/np.std(data), x0*x1>0])\n",
    "    \n",
    "df_stan_output_summary = pd.DataFrame(lines, columns = ['Type','Taxa','Left','Right','Middle','SNR','Significant'])\n",
    "df_stan_output_summary.to_excel('bayesian_regression_summary_healey_2018.xlsx')"
   ]
  },
  {
   "cell_type": "code",
   "execution_count": null,
   "metadata": {},
   "outputs": [],
   "source": [
    "# select only significant ones\n",
    "df_stan_output_summary[df_stan_output_summary.Significant==True]"
   ]
  },
  {
   "cell_type": "code",
   "execution_count": null,
   "metadata": {},
   "outputs": [],
   "source": []
  }
 ],
 "metadata": {
  "kernelspec": {
   "display_name": "Python 3",
   "language": "python",
   "name": "python3"
  },
  "language_info": {
   "codemirror_mode": {
    "name": "ipython",
    "version": 3
   },
   "file_extension": ".py",
   "mimetype": "text/x-python",
   "name": "python",
   "nbconvert_exporter": "python",
   "pygments_lexer": "ipython3",
   "version": "3.8.3"
  }
 },
 "nbformat": 4,
 "nbformat_minor": 4
}
