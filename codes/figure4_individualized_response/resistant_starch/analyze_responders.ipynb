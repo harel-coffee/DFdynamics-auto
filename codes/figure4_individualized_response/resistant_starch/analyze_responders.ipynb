{
 "cells": [
  {
   "cell_type": "code",
   "execution_count": 1,
   "metadata": {},
   "outputs": [],
   "source": [
    "import pandas as pd\n",
    "import seaborn as sns\n",
    "import numpy as np\n",
    "from scipy.integrate import simps\n",
    "import matplotlib.pyplot as plt"
   ]
  },
  {
   "cell_type": "markdown",
   "metadata": {},
   "source": [
    "# Which bacteria are top responders?"
   ]
  },
  {
   "cell_type": "code",
   "execution_count": 7,
   "metadata": {},
   "outputs": [
    {
     "data": {
      "text/html": [
       "<div>\n",
       "<style scoped>\n",
       "    .dataframe tbody tr th:only-of-type {\n",
       "        vertical-align: middle;\n",
       "    }\n",
       "\n",
       "    .dataframe tbody tr th {\n",
       "        vertical-align: top;\n",
       "    }\n",
       "\n",
       "    .dataframe thead th {\n",
       "        text-align: right;\n",
       "    }\n",
       "</style>\n",
       "<table border=\"1\" class=\"dataframe\">\n",
       "  <thead>\n",
       "    <tr style=\"text-align: right;\">\n",
       "      <th></th>\n",
       "      <th>Variable</th>\n",
       "      <th>P_rsp_corrected</th>\n",
       "      <th>meanAbsab_rs</th>\n",
       "    </tr>\n",
       "  </thead>\n",
       "  <tbody>\n",
       "    <tr>\n",
       "      <th>198</th>\n",
       "      <td>Muribaculaceae</td>\n",
       "      <td>0.000034</td>\n",
       "      <td>4.955180e+07</td>\n",
       "    </tr>\n",
       "    <tr>\n",
       "      <th>139</th>\n",
       "      <td>Faecalibaculum</td>\n",
       "      <td>0.000034</td>\n",
       "      <td>1.171252e+07</td>\n",
       "    </tr>\n",
       "    <tr>\n",
       "      <th>166</th>\n",
       "      <td>Lachnospiraceae-NK4A136-group</td>\n",
       "      <td>0.000468</td>\n",
       "      <td>1.158938e+07</td>\n",
       "    </tr>\n",
       "    <tr>\n",
       "      <th>41</th>\n",
       "      <td>Bacteroides-acidifaciens</td>\n",
       "      <td>0.004343</td>\n",
       "      <td>9.769171e+06</td>\n",
       "    </tr>\n",
       "    <tr>\n",
       "      <th>214</th>\n",
       "      <td>Parabacteroides-goldsteinii</td>\n",
       "      <td>0.008000</td>\n",
       "      <td>7.499777e+06</td>\n",
       "    </tr>\n",
       "    <tr>\n",
       "      <th>162</th>\n",
       "      <td>Lachnospiraceae</td>\n",
       "      <td>0.000334</td>\n",
       "      <td>5.066223e+06</td>\n",
       "    </tr>\n",
       "    <tr>\n",
       "      <th>84</th>\n",
       "      <td>Clostridia-UCG-014</td>\n",
       "      <td>0.000468</td>\n",
       "      <td>1.628652e+06</td>\n",
       "    </tr>\n",
       "    <tr>\n",
       "      <th>250</th>\n",
       "      <td>Ruminococcaceae</td>\n",
       "      <td>0.043546</td>\n",
       "      <td>1.197686e+06</td>\n",
       "    </tr>\n",
       "    <tr>\n",
       "      <th>28</th>\n",
       "      <td>Anaerotruncus</td>\n",
       "      <td>0.038786</td>\n",
       "      <td>1.013401e+06</td>\n",
       "    </tr>\n",
       "    <tr>\n",
       "      <th>248</th>\n",
       "      <td>Roseburia</td>\n",
       "      <td>0.039900</td>\n",
       "      <td>6.975235e+05</td>\n",
       "    </tr>\n",
       "  </tbody>\n",
       "</table>\n",
       "</div>"
      ],
      "text/plain": [
       "                          Variable  P_rsp_corrected  meanAbsab_rs\n",
       "198                 Muribaculaceae         0.000034  4.955180e+07\n",
       "139                 Faecalibaculum         0.000034  1.171252e+07\n",
       "166  Lachnospiraceae-NK4A136-group         0.000468  1.158938e+07\n",
       "41        Bacteroides-acidifaciens         0.004343  9.769171e+06\n",
       "214    Parabacteroides-goldsteinii         0.008000  7.499777e+06\n",
       "162                Lachnospiraceae         0.000334  5.066223e+06\n",
       "84              Clostridia-UCG-014         0.000468  1.628652e+06\n",
       "250                Ruminococcaceae         0.043546  1.197686e+06\n",
       "28                   Anaerotruncus         0.038786  1.013401e+06\n",
       "248                      Roseburia         0.039900  6.975235e+05"
      ]
     },
     "execution_count": 7,
     "metadata": {},
     "output_type": "execute_result"
    }
   ],
   "source": [
    "df = pd.read_csv('individualized_response_bacteria_species_absolute_abundance.csv',index_col=0)\n",
    "df = df[(df.P_rsp_corrected<0.05)&(df.meanAbsab_ratio>1)]\n",
    "df = df[['Variable','P_rsp_corrected','meanAbsab_rs']].sort_values('meanAbsab_rs', ascending=False)\n",
    "responders_to_show = list(df.Variable)[0:7]\n",
    "df.head(10)"
   ]
  },
  {
   "cell_type": "code",
   "execution_count": 8,
   "metadata": {},
   "outputs": [
    {
     "data": {
      "text/plain": [
       "['Muribaculaceae',\n",
       " 'Faecalibaculum',\n",
       " 'Lachnospiraceae-NK4A136-group',\n",
       " 'Bacteroides-acidifaciens',\n",
       " 'Parabacteroides-goldsteinii',\n",
       " 'Lachnospiraceae',\n",
       " 'Clostridia-UCG-014']"
      ]
     },
     "execution_count": 8,
     "metadata": {},
     "output_type": "execute_result"
    }
   ],
   "source": [
    "responders_to_show"
   ]
  },
  {
   "cell_type": "markdown",
   "metadata": {},
   "source": [
    "# Plot heatmap of top7 responders"
   ]
  },
  {
   "cell_type": "code",
   "execution_count": 10,
   "metadata": {},
   "outputs": [
    {
     "data": {
      "image/png": "[encoded data removed]",
      "text/plain": [
       "<Figure size 576x576 with 2 Axes>"
      ]
     },
     "metadata": {
      "needs_background": "light"
     },
     "output_type": "display_data"
    }
   ],
   "source": [
    "df_meta = pd.read_csv('../../../our_data/meta_data.csv',index_col=0)\n",
    "df_bac = pd.read_csv('../../../our_data/16S_absolute_abundance_species.csv',index_col=0)\n",
    "df = pd.merge(df_meta, df_bac[responders_to_show], left_index=True, right_index=True, how='inner')\n",
    "df = df[df.Diet=='Inulin']\n",
    "\n",
    "# get mean relative abundance\n",
    "lines_area = []\n",
    "all_miceid = list(set(df.MiceID))\n",
    "for mice in all_miceid:\n",
    "    df_tmp = df[df.MiceID==mice].sort_values('Day')\n",
    "    vendor = list(set(df_tmp.Vendor))\n",
    "    assert len(vendor)==1\n",
    "    vendor = vendor[0]\n",
    "    for r in responders_to_show:\n",
    "        area = simps(df_tmp[r], df_tmp['Day'])/df_tmp['Day'].max()\n",
    "        lines_area.append([mice,vendor,r,area])\n",
    "df_area = pd.DataFrame(lines_area, columns=['MiceID','Vendor','Responder','Area'])\n",
    "df_mean_area = pd.pivot_table(df_area, index='Responder', columns='Vendor', values='Area', aggfunc=np.mean)\n",
    "df_mean_area = np.log10(df_mean_area)\n",
    "df_mean_area = df_mean_area.loc[responders_to_show,['Beijing','Guangdong','Hunan','Shanghai']]\n",
    "\n",
    "# plot\n",
    "fig, ax = plt.subplots(nrows=1, ncols=1, figsize=(8,8))\n",
    "_ = sns.heatmap(df_mean_area, ax=ax, cmap='Blues', vmax=8.5, vmin=4.5)\n",
    "plt.rcParams['svg.fonttype'] = 'none'\n",
    "fig.savefig(\"top7_responders.svg\", format=\"svg\")"
   ]
  },
  {
   "cell_type": "code",
   "execution_count": null,
   "metadata": {},
   "outputs": [],
   "source": []
  }
 ],
 "metadata": {
  "kernelspec": {
   "display_name": "Python 3",
   "language": "python",
   "name": "python3"
  },
  "language_info": {
   "codemirror_mode": {
    "name": "ipython",
    "version": 3
   },
   "file_extension": ".py",
   "mimetype": "text/x-python",
   "name": "python",
   "nbconvert_exporter": "python",
   "pygments_lexer": "ipython3",
   "version": "3.8.3"
  }
 },
 "nbformat": 4,
 "nbformat_minor": 4
}
