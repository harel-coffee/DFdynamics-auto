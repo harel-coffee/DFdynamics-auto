{
 "cells": [
  {
   "cell_type": "code",
   "execution_count": 1,
   "metadata": {},
   "outputs": [],
   "source": [
    "import pandas as pd\n",
    "import numpy as np\n",
    "import matplotlib.pyplot as plt\n",
    "import seaborn as sns\n",
    "from random import random\n",
    "import scipy \n",
    "from scipy.optimize import minimize\n",
    "from numpy import array\n",
    "from sklearn.metrics import r2_score\n",
    "from skbio.diversity.alpha import shannon\n",
    "from scipy import stats\n",
    "from scipy.spatial.distance import pdist\n",
    "from skbio.stats.distance import permanova\n",
    "from skbio import DistanceMatrix\n",
    "import warnings\n",
    "warnings.filterwarnings(\"ignore\")"
   ]
  },
  {
   "cell_type": "markdown",
   "metadata": {},
   "source": [
    "# Read metadata"
   ]
  },
  {
   "cell_type": "code",
   "execution_count": 2,
   "metadata": {},
   "outputs": [
    {
     "data": {
      "text/html": [
       "<div>\n",
       "<style scoped>\n",
       "    .dataframe tbody tr th:only-of-type {\n",
       "        vertical-align: middle;\n",
       "    }\n",
       "\n",
       "    .dataframe tbody tr th {\n",
       "        vertical-align: top;\n",
       "    }\n",
       "\n",
       "    .dataframe thead th {\n",
       "        text-align: right;\n",
       "    }\n",
       "</style>\n",
       "<table border=\"1\" class=\"dataframe\">\n",
       "  <thead>\n",
       "    <tr style=\"text-align: right;\">\n",
       "      <th></th>\n",
       "      <th>MiceID</th>\n",
       "      <th>Vendor</th>\n",
       "      <th>Day</th>\n",
       "      <th>Diet</th>\n",
       "      <th>RandomizedGroup</th>\n",
       "      <th>AlphaDiversity</th>\n",
       "    </tr>\n",
       "  </thead>\n",
       "  <tbody>\n",
       "    <tr>\n",
       "      <th>sample131</th>\n",
       "      <td>BC1</td>\n",
       "      <td>Beijing</td>\n",
       "      <td>0</td>\n",
       "      <td>Control</td>\n",
       "      <td>C</td>\n",
       "      <td>5.438002</td>\n",
       "    </tr>\n",
       "    <tr>\n",
       "      <th>sample132</th>\n",
       "      <td>BC2</td>\n",
       "      <td>Beijing</td>\n",
       "      <td>0</td>\n",
       "      <td>Control</td>\n",
       "      <td>B</td>\n",
       "      <td>5.991971</td>\n",
       "    </tr>\n",
       "    <tr>\n",
       "      <th>sample133</th>\n",
       "      <td>BC3</td>\n",
       "      <td>Beijing</td>\n",
       "      <td>0</td>\n",
       "      <td>Control</td>\n",
       "      <td>A</td>\n",
       "      <td>5.449612</td>\n",
       "    </tr>\n",
       "    <tr>\n",
       "      <th>sample134</th>\n",
       "      <td>BC4</td>\n",
       "      <td>Beijing</td>\n",
       "      <td>0</td>\n",
       "      <td>Control</td>\n",
       "      <td>D</td>\n",
       "      <td>5.992422</td>\n",
       "    </tr>\n",
       "    <tr>\n",
       "      <th>sample135</th>\n",
       "      <td>BC5</td>\n",
       "      <td>Beijing</td>\n",
       "      <td>0</td>\n",
       "      <td>Control</td>\n",
       "      <td>E</td>\n",
       "      <td>5.421850</td>\n",
       "    </tr>\n",
       "  </tbody>\n",
       "</table>\n",
       "</div>"
      ],
      "text/plain": [
       "          MiceID   Vendor  Day     Diet RandomizedGroup  AlphaDiversity\n",
       "sample131    BC1  Beijing    0  Control               C        5.438002\n",
       "sample132    BC2  Beijing    0  Control               B        5.991971\n",
       "sample133    BC3  Beijing    0  Control               A        5.449612\n",
       "sample134    BC4  Beijing    0  Control               D        5.992422\n",
       "sample135    BC5  Beijing    0  Control               E        5.421850"
      ]
     },
     "execution_count": 2,
     "metadata": {},
     "output_type": "execute_result"
    }
   ],
   "source": [
    "df_meta = pd.read_csv('../../../our_data/meta_data.csv', index_col=0)\n",
    "df_bac = pd.read_csv('../../../our_data/16S_relative_abundance_asv.csv', index_col=0).T\n",
    "asvs = list(df_bac.columns)\n",
    "alpha_diversity = -np.sum(df_bac*np.log2(df_bac), axis=1).to_frame()\n",
    "alpha_diversity.columns = ['AlphaDiversity']\n",
    "df_meta_bac = pd.merge(df_meta, alpha_diversity, left_index=True, right_index=True, how='inner')\n",
    "df_meta_bac.head()"
   ]
  },
  {
   "cell_type": "markdown",
   "metadata": {},
   "source": [
    "# Fit harmonic oscillator model (for each mice)"
   ]
  },
  {
   "cell_type": "code",
   "execution_count": 3,
   "metadata": {},
   "outputs": [],
   "source": [
    "def harmonic(params,xdata):\n",
    "    k1,k2,D,H,Ai = params\n",
    "    ypred = H/k1/k2+((D+k2*Ai-H/k1)*np.exp(-k1*xdata)-(D+k1*Ai-H/k2)*np.exp(-k2*xdata))/(k2-k1)\n",
    "    return ypred"
   ]
  },
  {
   "cell_type": "code",
   "execution_count": 4,
   "metadata": {},
   "outputs": [],
   "source": [
    "def hill_function(params,xdata):\n",
    "    A1,n,K,Ai = params\n",
    "    ypred = Ai+A1*(xdata**n)/(xdata**n+K**n)\n",
    "    return ypred"
   ]
  },
  {
   "cell_type": "code",
   "execution_count": 5,
   "metadata": {},
   "outputs": [],
   "source": [
    "def residual_harmonic(params,xdata,ydata):\n",
    "    ypred = harmonic(params,xdata)\n",
    "    return -r2_score(ydata, ypred)"
   ]
  },
  {
   "cell_type": "code",
   "execution_count": 6,
   "metadata": {},
   "outputs": [],
   "source": [
    "def residual_hill(params,xdata,ydata):\n",
    "    ypred = hill_function(params,xdata)\n",
    "    return -r2_score(ydata, ypred)"
   ]
  },
  {
   "cell_type": "code",
   "execution_count": null,
   "metadata": {},
   "outputs": [],
   "source": [
    "df_meta_bac_inulin = df_meta_bac[df_meta_bac.Diet=='Inulin']\n",
    "all_mice = list(set(df_meta_bac_inulin.MiceID))\n",
    "initial_condition = 'fixedIC' # free initial condition or fixed initial condition\n",
    "\n",
    "lines = []\n",
    "for j, mice_ in enumerate(all_mice):\n",
    "    if mice_ != 'SI2':\n",
    "        continue\n",
    "    curr_df = df_meta_bac_inulin[df_meta_bac_inulin.MiceID==mice_].sort_values(by='Day')\n",
    "    vendor_ = list(set(curr_df.Vendor))[0]\n",
    "\n",
    "    # get X and Y data\n",
    "    xdata = np.array(curr_df.Day)\n",
    "    ydata = np.array(curr_df.AlphaDiversity)\n",
    "\n",
    "    # model fitting\n",
    "    min_obj_over = 1e10\n",
    "    best_sol_over = None\n",
    "    trial=0\n",
    "    while trial < 100:\n",
    "        try:\n",
    "            if initial_condition=='freeIC':\n",
    "                res = minimize(residual_harmonic, \n",
    "                               [random(),random(),random(),random(),random()], \n",
    "                               args=(xdata,ydata),\n",
    "                               bounds = ((0, 10), (0, 10), (None, 0), (0, None), (0,None)),\n",
    "                               method='Powell', # Powell\n",
    "                               tol=1e-8,\n",
    "                               options={'maxiter':1000}\n",
    "                              )\n",
    "            elif initial_condition=='fixedIC':\n",
    "                res = minimize(residual_harmonic, \n",
    "                   [random(),random(),random(),random(),ydata[0]], \n",
    "                   args=(xdata,ydata),\n",
    "                   bounds = ((0, 10), (0, 10), (None, 0), (0, None), (ydata[0],ydata[0])),\n",
    "                   method='Powell', # Powell\n",
    "                   tol=1e-8,\n",
    "                   options={'maxiter':1000}\n",
    "                  )\n",
    "            else:\n",
    "                print('unknown initial condition: %s'%(initial_condition))\n",
    "                raise\n",
    "            assert res.success==True\n",
    "            if res.fun < min_obj_over:\n",
    "                best_sol_over = res.x\n",
    "                min_obj_over = res.fun\n",
    "            trial += 1\n",
    "        except:\n",
    "            pass\n",
    "    print(mice_)\n",
    "    print(best_sol_over)\n",
    "    lines.append([mice_, vendor_] + list(best_sol_over) + [r2_score(ydata, harmonic(best_sol_over, xdata))])\n",
    "\n",
    "# # write to file\n",
    "# df_bfit = pd.DataFrame(lines, columns=['MiceID','Vendor','k1','k2','D','H','Ai','R2'])\n",
    "# df_bfit['zeta'] = [(k1+k2)/2/np.sqrt(k1*k2) for k1,k2 in zip(df_bfit['k1'],df_bfit['k2'])]\n",
    "# df_bfit.to_csv('best_fit_parameters_inulin_%s_harmonic.csv'%(initial_condition))"
   ]
  },
  {
   "cell_type": "code",
   "execution_count": 7,
   "metadata": {
    "scrolled": true
   },
   "outputs": [
    {
     "name": "stdout",
     "output_type": "stream",
     "text": [
      "BI3\n",
      "[ 0.45988789  0.45988787 -2.19433946  1.10760898  5.74529588]\n",
      "GI2\n",
      "[ 3.73813244e-10  8.14034125e-02 -3.05356346e-01  1.88943114e-02\n",
      "  6.13993700e+00]\n",
      "GI3\n",
      "[ 0.08508584  0.08508944 -0.4225507   0.04805588  6.2899339 ]\n",
      "HI5\n",
      "[ 1.04902073  1.04906645 -6.07553664  5.22544795  5.60963487]\n",
      "SI5\n",
      "[ 0.59058003  0.59057999 -1.96840292  1.5480865   5.12223855]\n",
      "BI1\n",
      "[ 0.59017849  0.59017628 -2.41391141  1.86677482  5.71362705]\n",
      "SI2\n",
      "[ 8.69034019e+00  8.03372783e+00 -1.10102975e+06  3.18493835e+02\n",
      "  4.92714091e+00]\n",
      "SI3\n",
      "[ 3.98663426e-03  6.09880328e+00 -4.33236494e-01  2.75495575e-01\n",
      "  3.71325178e+00]\n",
      "SI4\n",
      "[ 3.99215799e-01  6.38094939e-09 -3.86628032e-01  1.78450206e-02\n",
      "  4.37924191e+00]\n",
      "GI4\n",
      "[ 1.82306607  2.07488794 -8.51552878 21.51528557  6.50107579]\n",
      "BI2\n",
      "[ 0.69443921  0.69443896 -2.60650407  2.38725778  5.9305581 ]\n",
      "GI1\n",
      "[ 0.07059018  0.07056056 -0.41510387  0.04691368  6.33259138]\n",
      "HI1\n",
      "[ 1.8259298   1.70884838 -7.74144986 13.64255432  5.47963625]\n",
      "HI4\n",
      "[ 0.35994363  0.35994365 -1.94717594  0.59119952  4.68092386]\n",
      "SI1\n",
      "[ 0.02959909  0.05060923 -0.08380153  0.01131305  4.43479378]\n",
      "HI2\n",
      "[ 0.6189611   0.61895652 -1.60614658  1.6985771   4.98621434]\n",
      "BI5\n",
      "[  9.98003751   0.43840113 -37.18155446  22.06364981   6.02373857]\n",
      "BI4\n",
      "[ 0.43974912  2.57274229 -4.68085748  5.47135512  6.32624945]\n"
     ]
    }
   ],
   "source": [
    "df_meta_bac_inulin = df_meta_bac[df_meta_bac.Diet=='Inulin']\n",
    "all_mice = list(set(df_meta_bac_inulin.MiceID))\n",
    "initial_condition = 'fixedIC' # free initial condition or fixed initial condition\n",
    "\n",
    "lines = []\n",
    "for j, mice_ in enumerate(all_mice):\n",
    "    curr_df = df_meta_bac_inulin[df_meta_bac_inulin.MiceID==mice_].sort_values(by='Day')\n",
    "    vendor_ = list(set(curr_df.Vendor))[0]\n",
    "\n",
    "    # get X and Y data\n",
    "    xdata = np.array(curr_df.Day)\n",
    "    ydata = np.array(curr_df.AlphaDiversity)\n",
    "\n",
    "    # model fitting\n",
    "    min_obj_over = 1e10\n",
    "    best_sol_over = None\n",
    "    trial=0\n",
    "    while trial < 100:\n",
    "        try:\n",
    "            if initial_condition=='freeIC':\n",
    "                res = minimize(residual_harmonic, \n",
    "                               [random(),random(),random(),random(),random()], \n",
    "                               args=(xdata,ydata),\n",
    "                               bounds = ((0, 10), (0, 10), (None, 0), (0, None), (0,None)),\n",
    "                               method='Powell', # Powell\n",
    "                               tol=1e-8,\n",
    "                               options={'maxiter':1000}\n",
    "                              )\n",
    "            elif initial_condition=='fixedIC':\n",
    "                res = minimize(residual_harmonic, \n",
    "                   [random(),random(),random(),random(),ydata[0]], \n",
    "                   args=(xdata,ydata),\n",
    "                   bounds = ((0, 10), (0, 10), (None, 0), (0, None), (ydata[0],ydata[0])),\n",
    "                   method='Powell', # Powell\n",
    "                   tol=1e-8,\n",
    "                   options={'maxiter':1000}\n",
    "                  )\n",
    "            else:\n",
    "                print('unknown initial condition: %s'%(initial_condition))\n",
    "                raise\n",
    "            assert res.success==True\n",
    "            if res.fun < min_obj_over:\n",
    "                best_sol_over = res.x\n",
    "                min_obj_over = res.fun\n",
    "            trial += 1\n",
    "        except:\n",
    "            pass\n",
    "    print(mice_)\n",
    "    print(best_sol_over)\n",
    "    lines.append([mice_, vendor_] + list(best_sol_over) + [r2_score(ydata, harmonic(best_sol_over, xdata))])\n",
    "\n",
    "# write to file\n",
    "df_bfit = pd.DataFrame(lines, columns=['MiceID','Vendor','k1','k2','D','H','Ai','R2'])\n",
    "df_bfit['zeta'] = [(k1+k2)/2/np.sqrt(k1*k2) for k1,k2 in zip(df_bfit['k1'],df_bfit['k2'])]\n",
    "df_bfit.to_csv('best_fit_parameters_inulin_%s_harmonic.csv'%(initial_condition))"
   ]
  },
  {
   "cell_type": "code",
   "execution_count": null,
   "metadata": {
    "scrolled": true
   },
   "outputs": [],
   "source": [
    "df_meta_bac_inulin = df_meta_bac[df_meta_bac.Diet=='Inulin']\n",
    "all_mice = list(set(df_meta_bac_inulin.MiceID))\n",
    "initial_condition = 'fixedIC' # free initial condition or fixed initial condition\n",
    "\n",
    "lines = []\n",
    "for j, mice_ in enumerate(all_mice):\n",
    "    curr_df = df_meta_bac_inulin[df_meta_bac_inulin.MiceID==mice_].sort_values(by='Day')\n",
    "    vendor_ = list(set(curr_df.Vendor))[0]\n",
    "\n",
    "    # get X and Y data\n",
    "    xdata = np.array(curr_df.Day)\n",
    "    ydata = np.array(curr_df.AlphaDiversity)\n",
    "\n",
    "    # model fitting\n",
    "    min_obj_over = 1e10\n",
    "    best_sol_over = None\n",
    "    trial=0\n",
    "    while trial < 100:\n",
    "        try:\n",
    "            if initial_condition=='freeIC':\n",
    "                res = minimize(residual_hill, \n",
    "                               [random(),random(),random(),random()], \n",
    "                               args=(xdata,ydata),\n",
    "                               bounds = ((-10, 10), (0, 10), (0, 31), (0, None)),\n",
    "                               method='Powell', # Powell\n",
    "                               tol=1e-8,\n",
    "                               options={'maxiter':1000}\n",
    "                              )\n",
    "            elif initial_condition=='fixedIC':\n",
    "                res = minimize(residual_hill, \n",
    "                   [random(),random(),random(),ydata[0]], \n",
    "                   args=(xdata,ydata),\n",
    "                   bounds = ((-10, 10), (0, 10), (0, 31), (ydata[0],ydata[0])),\n",
    "                   method='Powell', # Powell\n",
    "                   tol=1e-8,\n",
    "                   options={'maxiter':1000}\n",
    "                  )\n",
    "            else:\n",
    "                print('unknown initial condition: %s'%(initial_condition))\n",
    "                raise\n",
    "            assert res.success==True\n",
    "            if res.fun < min_obj_over:\n",
    "                best_sol_over = res.x\n",
    "                min_obj_over = res.fun\n",
    "            trial += 1\n",
    "        except:\n",
    "            pass\n",
    "    print(mice_)\n",
    "    print(best_sol_over)\n",
    "    lines.append([mice_, vendor_] + list(best_sol_over) + [r2_score(ydata, hill_function(best_sol_over, xdata))])\n",
    "\n",
    "# write to file\n",
    "df_bfit = pd.DataFrame(lines, columns=['MiceID','Vendor','A1','n','K','Ai','R2'])\n",
    "df_bfit.to_csv('best_fit_parameters_inulin_%s_hill.csv'%(initial_condition))"
   ]
  },
  {
   "cell_type": "markdown",
   "metadata": {},
   "source": [
    "# Compare R2 between harmonic and inulin"
   ]
  },
  {
   "cell_type": "code",
   "execution_count": 9,
   "metadata": {},
   "outputs": [
    {
     "name": "stdout",
     "output_type": "stream",
     "text": [
      "0.7285217205484158 0.16476893949275717\n"
     ]
    }
   ],
   "source": [
    "df_bfit_harmonic = pd.read_csv('best_fit_parameters_inulin_fixedIC_harmonic.csv', index_col=0)\n",
    "print(df_bfit_harmonic['R2'].mean(), df_bfit_harmonic['R2'].std())"
   ]
  },
  {
   "cell_type": "code",
   "execution_count": 10,
   "metadata": {},
   "outputs": [
    {
     "name": "stdout",
     "output_type": "stream",
     "text": [
      "-2.1915020896563533 1.8031077458581322\n"
     ]
    }
   ],
   "source": [
    "df_bfit_hill = pd.read_csv('best_fit_parameters_inulin_fixedIC_hill.csv', index_col=0)\n",
    "print(df_bfit_hill['R2'].mean(), df_bfit_hill['R2'].std())"
   ]
  },
  {
   "cell_type": "code",
   "execution_count": 11,
   "metadata": {},
   "outputs": [
    {
     "data": {
      "text/plain": [
       "MannwhitneyuResult(statistic=8.0, pvalue=5.97318287555885e-07)"
      ]
     },
     "execution_count": 11,
     "metadata": {},
     "output_type": "execute_result"
    }
   ],
   "source": [
    "scipy.stats.mannwhitneyu(df_bfit_harmonic['R2'],df_bfit_hill['R2'])"
   ]
  },
  {
   "cell_type": "markdown",
   "metadata": {},
   "source": [
    "# Plot harmonic fitting for inulin mice"
   ]
  },
  {
   "cell_type": "code",
   "execution_count": 18,
   "metadata": {},
   "outputs": [
    {
     "data": {
      "image/png": "[encoded data removed]",
      "text/plain": [
       "<Figure size 1080x144 with 5 Axes>"
      ]
     },
     "metadata": {
      "needs_background": "light"
     },
     "output_type": "display_data"
    }
   ],
   "source": [
    "fig, ax = plt.subplots(figsize=(15, 2), nrows=1, ncols=5, sharey=True)\n",
    "df_bfit = pd.read_csv('best_fit_parameters_inulin_fixedIC_hill.csv', index_col=0)\n",
    "\n",
    "df_meta_bac_inulin = df_meta_bac[df_meta_bac.Diet=='Inulin']\n",
    "colors = ['#FFB300', # Vivid Yellow,\n",
    "          '#803E75', # Strong Purple\n",
    "          '#FF6800', # Vivid Orange\n",
    "          '#A6BDD7', # Very Light Blue\n",
    "          '#C10020'] # Vivid Red'\n",
    "for j, vendor_ in enumerate(['Beijing','Guangdong','Hunan','Shanghai']):\n",
    "    curr_df = df_meta_bac_inulin[df_meta_bac_inulin.Vendor==vendor_]\n",
    "    for k, mice_ in enumerate(set(curr_df.MiceID)):\n",
    "        curr_df2 = curr_df[curr_df.MiceID==mice_].sort_values(by='Day')\n",
    "\n",
    "        # get X and Y data\n",
    "        xdata = np.array(curr_df2.Day)\n",
    "        ydata = np.array(curr_df2.AlphaDiversity)\n",
    "        ax[j].plot(xdata, ydata, marker='o', linestyle = 'None', markersize=8, color=colors[k])\n",
    "\n",
    "        xdata_dense = np.linspace(0,31,100)\n",
    "        #best_sol_over = df_bfit.loc[df_bfit.MiceID==mice_, ['k1','k2','D','H','Ai']].values[0]\n",
    "        #ypred = harmonic(best_sol_over, xdata_dense)\n",
    "        best_sol_over = df_bfit.loc[df_bfit.MiceID==mice_, ['A1','n','K','Ai']].values[0]\n",
    "        ypred = hill_function(best_sol_over, xdata_dense)\n",
    "        ax[j].plot(xdata_dense, ypred, color=colors[k])\n",
    "        ax[j].set_title(vendor_)\n",
    "        ax[j].set_xlabel('Day')\n",
    "        ax[j].set_ylabel('AlphaDiversity')\n",
    "        ax[j].set_ylim([2,8])\n",
    "\n",
    "# plot R2\n",
    "_ = sns.barplot(x='Vendor', y='R2', data=df_bfit, ax=ax[4])\n",
    "                \n",
    "plt.tight_layout()\n",
    "\n",
    "plt.rcParams['svg.fonttype'] = 'none'\n",
    "fig.savefig(\"harmonic_fitting_scfa_inulin_fixedIC.svg\", format=\"svg\")"
   ]
  },
  {
   "cell_type": "code",
   "execution_count": null,
   "metadata": {},
   "outputs": [],
   "source": []
  }
 ],
 "metadata": {
  "kernelspec": {
   "display_name": "Python 3",
   "language": "python",
   "name": "python3"
  },
  "language_info": {
   "codemirror_mode": {
    "name": "ipython",
    "version": 3
   },
   "file_extension": ".py",
   "mimetype": "text/x-python",
   "name": "python",
   "nbconvert_exporter": "python",
   "pygments_lexer": "ipython3",
   "version": "3.8.3"
  }
 },
 "nbformat": 4,
 "nbformat_minor": 4
}
