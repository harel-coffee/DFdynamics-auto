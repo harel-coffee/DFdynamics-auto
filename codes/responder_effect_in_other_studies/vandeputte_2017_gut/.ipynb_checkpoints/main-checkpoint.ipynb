{
 "cells": [
  {
   "cell_type": "code",
   "execution_count": 33,
   "metadata": {},
   "outputs": [],
   "source": [
    "import pandas as pd\n",
    "import numpy as np\n",
    "from sklearn.preprocessing import MinMaxScaler, StandardScaler\n",
    "from copy import deepcopy\n",
    "import matplotlib.pyplot as plt\n",
    "import seaborn as sns\n",
    "from scipy.interpolate import CubicSpline\n",
    "import warnings\n",
    "warnings.filterwarnings(\"ignore\")\n",
    "import arviz as az\n",
    "from scipy.stats import pearsonr\n",
    "from scipy.stats import spearmanr\n",
    "%run -i '../../../miscellaneous/utils.py'"
   ]
  },
  {
   "cell_type": "code",
   "execution_count": null,
   "metadata": {},
   "outputs": [],
   "source": [
    "df_bac = pd.read_excel('16S_relative_abundance.xlsx', index_col=0)\n",
    "df_meta = pd.read_csv('metadata.txt', sep='\\t', skiprows=[1], index_col=0)\n",
    "df_meta = df_meta[df_meta.test_period.str.contains('inulin')]\n",
    "\n",
    "degraders = ['Lachnospiraceae','Anaerostipes','Bifidobacterium']\n",
    "scfas = ['Acetate','Propionate','Butyrate']\n",
    "df = pd.merge(df_bac[degraders], df_meta[scfas+['test_period']], left_index=True, right_index=True)\n",
    "df['All_degraders'] = df[degraders].sum(axis=1)\n",
    "\n",
    "fig, ax = plt.subplots(nrows=4, ncols=3, figsize=(15,15))\n",
    "for i,degrader in enumerate(degraders+['All_degraders']):\n",
    "    for j,scfa in enumerate(scfas):\n",
    "        _ = sns.scatterplot(x=degrader, y=scfa, data=df, ax=ax[i,j], hue='test_period')\n",
    "        r1,p1 = pearsonr(df[degrader], df[scfa])\n",
    "        r2,p2 = spearmanr(df[degrader], df[scfa])\n",
    "        ax[i,j].set_title('Pearson=%2.2f(p=%2.3f), Spearman=%2.2f(p=%2.3f)'%(r1,p1,r2,p2))\n",
    "        ax[i,j].xaxis.label.set_size(20)\n",
    "        ax[i,j].yaxis.label.set_size(20)\n",
    "        \n",
    "plt.tight_layout()"
   ]
  },
  {
   "cell_type": "code",
   "execution_count": null,
   "metadata": {},
   "outputs": [],
   "source": []
  }
 ],
 "metadata": {
  "kernelspec": {
   "display_name": "Python 3",
   "language": "python",
   "name": "python3"
  },
  "language_info": {
   "codemirror_mode": {
    "name": "ipython",
    "version": 3
   },
   "file_extension": ".py",
   "mimetype": "text/x-python",
   "name": "python",
   "nbconvert_exporter": "python",
   "pygments_lexer": "ipython3",
   "version": "3.8.3"
  }
 },
 "nbformat": 4,
 "nbformat_minor": 4
}
