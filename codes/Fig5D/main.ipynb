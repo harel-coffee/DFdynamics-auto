{
 "cells": [
  {
   "cell_type": "code",
   "execution_count": 21,
   "metadata": {},
   "outputs": [],
   "source": [
    "import pandas as pd\n",
    "from sklearn.metrics import r2_score\n",
    "import matplotlib.pyplot as plt\n",
    "import numpy as np"
   ]
  },
  {
   "cell_type": "code",
   "execution_count": 25,
   "metadata": {},
   "outputs": [
    {
     "data": {
      "text/html": [
       "<div>\n",
       "<style scoped>\n",
       "    .dataframe tbody tr th:only-of-type {\n",
       "        vertical-align: middle;\n",
       "    }\n",
       "\n",
       "    .dataframe tbody tr th {\n",
       "        vertical-align: top;\n",
       "    }\n",
       "\n",
       "    .dataframe thead th {\n",
       "        text-align: right;\n",
       "    }\n",
       "</style>\n",
       "<table border=\"1\" class=\"dataframe\">\n",
       "  <thead>\n",
       "    <tr style=\"text-align: right;\">\n",
       "      <th></th>\n",
       "      <th>Method</th>\n",
       "      <th>R2_intra</th>\n",
       "      <th>R2_extra</th>\n",
       "    </tr>\n",
       "  </thead>\n",
       "  <tbody>\n",
       "    <tr>\n",
       "      <th>2</th>\n",
       "      <td>RF+5DEG</td>\n",
       "      <td>0.428976</td>\n",
       "      <td>-0.203406</td>\n",
       "    </tr>\n",
       "    <tr>\n",
       "      <th>3</th>\n",
       "      <td>RF+7SUB</td>\n",
       "      <td>0.353963</td>\n",
       "      <td>-0.368765</td>\n",
       "    </tr>\n",
       "    <tr>\n",
       "      <th>0</th>\n",
       "      <td>RF_alone</td>\n",
       "      <td>0.350431</td>\n",
       "      <td>-0.755109</td>\n",
       "    </tr>\n",
       "    <tr>\n",
       "      <th>1</th>\n",
       "      <td>RF+LASSO</td>\n",
       "      <td>0.294888</td>\n",
       "      <td>-0.453784</td>\n",
       "    </tr>\n",
       "    <tr>\n",
       "      <th>5</th>\n",
       "      <td>RF+4KEY</td>\n",
       "      <td>0.291569</td>\n",
       "      <td>-0.357336</td>\n",
       "    </tr>\n",
       "    <tr>\n",
       "      <th>4</th>\n",
       "      <td>RF+5BEST</td>\n",
       "      <td>0.287492</td>\n",
       "      <td>-0.538491</td>\n",
       "    </tr>\n",
       "  </tbody>\n",
       "</table>\n",
       "</div>"
      ],
      "text/plain": [
       "     Method  R2_intra  R2_extra\n",
       "2   RF+5DEG  0.428976 -0.203406\n",
       "3   RF+7SUB  0.353963 -0.368765\n",
       "0  RF_alone  0.350431 -0.755109\n",
       "1  RF+LASSO  0.294888 -0.453784\n",
       "5   RF+4KEY  0.291569 -0.357336\n",
       "4  RF+5BEST  0.287492 -0.538491"
      ]
     },
     "execution_count": 25,
     "metadata": {},
     "output_type": "execute_result"
    }
   ],
   "source": [
    "files = ['rf.csv', 'rf_lasso.csv', 'rf_5degraders.csv', 'rf_5degraders_amuc_buni.csv', 'rf_5best_fregress.csv', 'rf_baci_umur_amuc_buni.csv']\n",
    "labels = ['RF_alone','RF+LASSO','RF+5DEG','RF+7SUB','RF+5BEST','RF+4KEY']\n",
    "lines = []\n",
    "for f,l in zip(files,labels):\n",
    "    df = pd.read_csv(f, index_col=0)\n",
    "    df_intra = df[(df.PerturbationType == 'intrapolation') & (df.SCFA=='Propionate') & (df.PredictionType=='test')]\n",
    "    r2_intra = r2_score(y_true=df_intra.ObservedValue, y_pred=df_intra.PredictedValue)\n",
    "    df_extra = df[(df.PerturbationType == 'extrapolation') & (df.SCFA=='Propionate') & (df.PredictionType=='test')]\n",
    "    r2_extra = r2_score(y_true=df_extra.ObservedValue, y_pred=df_extra.PredictedValue)\n",
    "    lines.append([l, r2_intra, r2_extra])\n",
    "    \n",
    "df_res = pd.DataFrame(lines, columns = ['Method','R2_intra','R2_extra']).sort_values('R2_intra', ascending=False)\n",
    "df_res"
   ]
  },
  {
   "cell_type": "code",
   "execution_count": 26,
   "metadata": {},
   "outputs": [
    {
     "data": {
      "text/plain": [
       "Text(0.5, 0, 'R2')"
      ]
     },
     "execution_count": 26,
     "metadata": {},
     "output_type": "execute_result"
    },
    {
     "data": {
      "image/png": "[encoded data removed]",
      "text/plain": [
       "<Figure size 432x288 with 1 Axes>"
      ]
     },
     "metadata": {
      "needs_background": "light"
     },
     "output_type": "display_data"
    }
   ],
   "source": [
    "fig, ax = plt.subplots()\n",
    "\n",
    "labels = list(df_res.Method)\n",
    "y_pos = np.arange(len(df_res))\n",
    "x_pos = df_res.R2_intra\n",
    "\n",
    "ax.barh(y_pos, x_pos, align='center')\n",
    "ax.set_yticks(y_pos)\n",
    "ax.set_yticklabels(labels)\n",
    "ax.invert_yaxis()  # labels read top-to-bottom\n",
    "ax.set_xlabel('R2')"
   ]
  },
  {
   "cell_type": "code",
   "execution_count": null,
   "metadata": {},
   "outputs": [],
   "source": []
  },
  {
   "cell_type": "code",
   "execution_count": null,
   "metadata": {},
   "outputs": [],
   "source": []
  }
 ],
 "metadata": {
  "kernelspec": {
   "display_name": "Python 3",
   "language": "python",
   "name": "python3"
  },
  "language_info": {
   "codemirror_mode": {
    "name": "ipython",
    "version": 3
   },
   "file_extension": ".py",
   "mimetype": "text/x-python",
   "name": "python",
   "nbconvert_exporter": "python",
   "pygments_lexer": "ipython3",
   "version": "3.8.3"
  }
 },
 "nbformat": 4,
 "nbformat_minor": 4
}
