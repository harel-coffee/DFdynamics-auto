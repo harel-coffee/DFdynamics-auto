{
 "cells": [
  {
   "cell_type": "code",
   "execution_count": 1,
   "metadata": {},
   "outputs": [],
   "source": [
    "import matplotlib.pyplot as plt\n",
    "import seaborn as sns\n",
    "import pandas as pd\n",
    "import numpy as np\n",
    "from copy import deepcopy\n",
    "from sklearn.metrics import r2_score\n",
    "from sklearn.pipeline import make_pipeline                                           \n",
    "from sklearn.preprocessing import StandardScaler                                     \n",
    "from sklearn.feature_selection import SelectFromModel\n",
    "from sklearn.model_selection import StratifiedKFold as SKF\n",
    "from sklearn.ensemble import RandomForestClassifier, RandomForestRegressor\n",
    "from sklearn.metrics import roc_auc_score as AUC\n",
    "from sklearn.base import clone\n",
    "from sklearn import tree\n",
    "from sklearn.model_selection import ParameterGrid, GridSearchCV\n",
    "from joblib import Parallel, delayed\n",
    "from multiprocessing import Pool\n",
    "from tqdm import tqdm\n",
    "from scipy.spatial import distance\n",
    "from skbio.stats.ordination import pcoa\n",
    "import umap\n",
    "from sklearn.metrics import make_scorer\n",
    "from sklearn import linear_model\n",
    "import warnings\n",
    "warnings.filterwarnings(\"ignore\")"
   ]
  },
  {
   "cell_type": "markdown",
   "metadata": {},
   "source": [
    "# Get data"
   ]
  },
  {
   "cell_type": "code",
   "execution_count": 8,
   "metadata": {},
   "outputs": [],
   "source": [
    "# read meta data\n",
    "df_meta = pd.read_csv('../../../../../../our_data/meta_data.csv', index_col=0)\n",
    "df_meta = df_meta[df_meta.Diet=='Inulin'] # only for inulin group\n",
    "df_meta = df_meta[df_meta.Day != 0] # remove day 0\n",
    "\n",
    "# read SCFA data\n",
    "df_scfa = pd.read_csv('../../../../../../our_data/SCFA.csv', index_col=0)\n",
    "\n",
    "# read bacterial abundance (asv level)\n",
    "df_bac = pd.read_csv('../../../../../../our_data/16S_absolute_abundance_asv.csv', index_col=0).T\n",
    "\n",
    "# find common samples\n",
    "common_samples = list(set(df_meta.index).intersection(df_scfa.index).intersection(df_bac.index))\n",
    "df_meta = df_meta.loc[common_samples]\n",
    "df_scfa = df_scfa.loc[common_samples]\n",
    "df_bac = df_bac.loc[common_samples]\n",
    "\n",
    "# remove genes that are constant across all samples\n",
    "df_bac = df_bac[list(df_bac.std()[df_bac.std()>0].index)]\n",
    "\n",
    "# select top 1000 genes based on averaged abundance\n",
    "df_bac_T = df_bac.T\n",
    "df_bac_T['sum'] = df_bac_T.sum(axis=1)\n",
    "df_bac_T = df_bac_T.sort_values('sum', ascending=False)\n",
    "df_bac_T = df_bac_T.head(1000).drop('sum', axis=1)\n",
    "df_bac = df_bac_T.T"
   ]
  },
  {
   "cell_type": "markdown",
   "metadata": {},
   "source": [
    "# Run random forest model"
   ]
  },
  {
   "cell_type": "markdown",
   "metadata": {},
   "source": [
    "## self-defined function"
   ]
  },
  {
   "cell_type": "code",
   "execution_count": 17,
   "metadata": {},
   "outputs": [],
   "source": [
    "def get_weights(X, Z, method=None): # X is test and Z is train\n",
    "    X.loc[:, \"is_z\"] = 0\n",
    "    Z.loc[:, \"is_z\"] = 1\n",
    "    XZ = pd.concat([X, Z],ignore_index=False) # keep index\n",
    "    labels = XZ['is_z'].values\n",
    "    XZ_mat = XZ.drop('is_z', axis=1).values\n",
    "     \n",
    "    # test if X and Z can be distinguished\n",
    "    clf = RandomForestClassifier(n_estimators=100, max_depth=3,random_state=0)\n",
    "    predictions = np.zeros(labels.shape)\n",
    "    skf = SKF(n_splits=20, shuffle=True, random_state=0)\n",
    "    for fold, (train_idx, test_idx) in enumerate(skf.split(XZ_mat, labels)):\n",
    "        X_train, X_test = XZ_mat[train_idx,:], XZ_mat[test_idx,:]\n",
    "        y_train, y_test = labels[train_idx], labels[test_idx]\n",
    "\n",
    "        clf.fit(X_train, y_train)\n",
    "        probs = clf.predict_proba(X_test)[:, 1] # probability that each data point is a sample from training set\n",
    "        predictions[test_idx] = probs\n",
    "    roc_auc = AUC(labels, predictions)\n",
    "    \n",
    "    # weight_i = p_i(X|D)/p_i(Z|D)\n",
    "    predictions_Z = predictions[len(X):] # p(Z/D)\n",
    "    weights = (1./predictions_Z) - 1. # p(X|D)/p(Z/D)\n",
    "    weights /= np.mean(weights) # we do this to re-normalize the computed log-loss\n",
    "    XZ['size'] = 4\n",
    "    XZ.iloc[len(X):, XZ.columns.get_loc('size')] = 0.1 + weights*15\n",
    "    \n",
    "    # perform decomposition\n",
    "    if method is not None:\n",
    "        XZ = XZ.sort_index()\n",
    "        XZ_mat = XZ.drop(['is_z','size'], axis=1).values\n",
    "\n",
    "        # dimensionality reduction\n",
    "        if method=='UMAP':\n",
    "            fit = umap.UMAP(random_state=0)\n",
    "            u = fit.fit_transform(XZ_mat)\n",
    "            XZ_dec = pd.DataFrame(u, index=XZ.index, columns=['Axis1','Axis2'])\n",
    "        elif method=='PCoA':\n",
    "            dist_relab = distance.squareform(distance.pdist(XZ_mat, metric=\"braycurtis\"))\n",
    "            OrdinationResults = pcoa(dist_relab, number_of_dimensions=2)\n",
    "            XZ_dec = pd.DataFrame(OrdinationResults.samples.values, index=XZ.index, columns=['Axis1','Axis2'])\n",
    "        else:\n",
    "            print('uknown method: %s'%(method))\n",
    "            raise\n",
    "\n",
    "        XZ_dec['is_z'] = XZ['is_z']\n",
    "        XZ_dec['size'] = XZ['size']        \n",
    "        return roc_auc, weights, XZ_dec\n",
    "    else:\n",
    "        return roc_auc, weights, XZ"
   ]
  },
  {
   "cell_type": "markdown",
   "metadata": {},
   "source": [
    "## initialization"
   ]
  },
  {
   "cell_type": "code",
   "execution_count": 18,
   "metadata": {},
   "outputs": [],
   "source": [
    "roc_auc = {}\n",
    "results = []\n",
    "use_weights=False\n",
    "plot_weights=False"
   ]
  },
  {
   "cell_type": "markdown",
   "metadata": {},
   "source": [
    "## intrapolation"
   ]
  },
  {
   "cell_type": "code",
   "execution_count": 19,
   "metadata": {},
   "outputs": [
    {
     "name": "stdout",
     "output_type": "stream",
     "text": [
      "Fitting 5 folds for each of 1440 candidates, totalling 7200 fits\n"
     ]
    },
    {
     "name": "stderr",
     "output_type": "stream",
     "text": [
      "[Parallel(n_jobs=-1)]: Using backend LokyBackend with 24 concurrent workers.\n",
      "[Parallel(n_jobs=-1)]: Done 114 tasks      | elapsed:   53.6s\n",
      "[Parallel(n_jobs=-1)]: Done 317 tasks      | elapsed:  2.3min\n",
      "[Parallel(n_jobs=-1)]: Done 600 tasks      | elapsed:  4.3min\n",
      "[Parallel(n_jobs=-1)]: Done 965 tasks      | elapsed:  6.8min\n",
      "[Parallel(n_jobs=-1)]: Done 1410 tasks      | elapsed:  9.9min\n",
      "[Parallel(n_jobs=-1)]: Done 1937 tasks      | elapsed: 13.6min\n",
      "[Parallel(n_jobs=-1)]: Done 2544 tasks      | elapsed: 17.9min\n",
      "[Parallel(n_jobs=-1)]: Done 3233 tasks      | elapsed: 22.7min\n",
      "[Parallel(n_jobs=-1)]: Done 4002 tasks      | elapsed: 28.3min\n",
      "[Parallel(n_jobs=-1)]: Done 4853 tasks      | elapsed: 34.3min\n",
      "[Parallel(n_jobs=-1)]: Done 5784 tasks      | elapsed: 41.1min\n",
      "[Parallel(n_jobs=-1)]: Done 6797 tasks      | elapsed: 48.2min\n",
      "[Parallel(n_jobs=-1)]: Done 7200 out of 7200 | elapsed: 51.1min finished\n"
     ]
    },
    {
     "name": "stdout",
     "output_type": "stream",
     "text": [
      "Intrapolation, group A, Acetate, best score and parameter combination = \n",
      "0.060750827655105685\n",
      "{'randomforestregressor__max_depth': 16, 'randomforestregressor__max_features': 0.64, 'randomforestregressor__min_samples_leaf': 4, 'randomforestregressor__min_samples_split': 16, 'selectfrommodel__estimator__alpha': 0.001}\n",
      "\n",
      "\n",
      "Fitting 5 folds for each of 1440 candidates, totalling 7200 fits\n"
     ]
    },
    {
     "name": "stderr",
     "output_type": "stream",
     "text": [
      "[Parallel(n_jobs=-1)]: Using backend LokyBackend with 24 concurrent workers.\n",
      "[Parallel(n_jobs=-1)]: Done 114 tasks      | elapsed:   49.6s\n",
      "[Parallel(n_jobs=-1)]: Done 317 tasks      | elapsed:  2.2min\n",
      "[Parallel(n_jobs=-1)]: Done 600 tasks      | elapsed:  4.1min\n",
      "[Parallel(n_jobs=-1)]: Done 965 tasks      | elapsed:  6.5min\n",
      "[Parallel(n_jobs=-1)]: Done 1410 tasks      | elapsed:  9.4min\n",
      "[Parallel(n_jobs=-1)]: Done 1937 tasks      | elapsed: 13.0min\n",
      "[Parallel(n_jobs=-1)]: Done 2544 tasks      | elapsed: 17.0min\n",
      "[Parallel(n_jobs=-1)]: Done 3233 tasks      | elapsed: 21.7min\n",
      "[Parallel(n_jobs=-1)]: Done 4002 tasks      | elapsed: 27.0min\n",
      "[Parallel(n_jobs=-1)]: Done 4853 tasks      | elapsed: 32.7min\n",
      "[Parallel(n_jobs=-1)]: Done 5784 tasks      | elapsed: 39.1min\n",
      "[Parallel(n_jobs=-1)]: Done 6797 tasks      | elapsed: 45.9min\n",
      "[Parallel(n_jobs=-1)]: Done 7200 out of 7200 | elapsed: 48.6min finished\n"
     ]
    },
    {
     "name": "stdout",
     "output_type": "stream",
     "text": [
      "Intrapolation, group A, Propionate, best score and parameter combination = \n",
      "0.3411877193992031\n",
      "{'randomforestregressor__max_depth': 16, 'randomforestregressor__max_features': 'log2', 'randomforestregressor__min_samples_leaf': 2, 'randomforestregressor__min_samples_split': 2, 'selectfrommodel__estimator__alpha': 0.001}\n",
      "\n",
      "\n",
      "Fitting 5 folds for each of 1440 candidates, totalling 7200 fits\n"
     ]
    },
    {
     "name": "stderr",
     "output_type": "stream",
     "text": [
      "[Parallel(n_jobs=-1)]: Using backend LokyBackend with 24 concurrent workers.\n",
      "[Parallel(n_jobs=-1)]: Done 114 tasks      | elapsed:   48.2s\n",
      "[Parallel(n_jobs=-1)]: Done 317 tasks      | elapsed:  2.2min\n",
      "[Parallel(n_jobs=-1)]: Done 600 tasks      | elapsed:  4.0min\n",
      "[Parallel(n_jobs=-1)]: Done 965 tasks      | elapsed:  6.3min\n",
      "[Parallel(n_jobs=-1)]: Done 1410 tasks      | elapsed:  9.2min\n",
      "[Parallel(n_jobs=-1)]: Done 1937 tasks      | elapsed: 12.6min\n",
      "[Parallel(n_jobs=-1)]: Done 2544 tasks      | elapsed: 16.6min\n",
      "[Parallel(n_jobs=-1)]: Done 3233 tasks      | elapsed: 21.0min\n",
      "[Parallel(n_jobs=-1)]: Done 4002 tasks      | elapsed: 26.2min\n",
      "[Parallel(n_jobs=-1)]: Done 4853 tasks      | elapsed: 31.7min\n",
      "[Parallel(n_jobs=-1)]: Done 5784 tasks      | elapsed: 37.9min\n",
      "[Parallel(n_jobs=-1)]: Done 6797 tasks      | elapsed: 44.5min\n",
      "[Parallel(n_jobs=-1)]: Done 7200 out of 7200 | elapsed: 47.2min finished\n"
     ]
    },
    {
     "name": "stdout",
     "output_type": "stream",
     "text": [
      "Intrapolation, group A, Butyrate, best score and parameter combination = \n",
      "0.40453325771021487\n",
      "{'randomforestregressor__max_depth': 16, 'randomforestregressor__max_features': 'sqrt', 'randomforestregressor__min_samples_leaf': 2, 'randomforestregressor__min_samples_split': 2, 'selectfrommodel__estimator__alpha': 0.01}\n",
      "\n",
      "\n",
      "Fitting 5 folds for each of 1440 candidates, totalling 7200 fits\n"
     ]
    },
    {
     "name": "stderr",
     "output_type": "stream",
     "text": [
      "[Parallel(n_jobs=-1)]: Using backend LokyBackend with 24 concurrent workers.\n",
      "[Parallel(n_jobs=-1)]: Done 114 tasks      | elapsed:   49.0s\n",
      "[Parallel(n_jobs=-1)]: Done 317 tasks      | elapsed:  2.2min\n",
      "[Parallel(n_jobs=-1)]: Done 600 tasks      | elapsed:  4.1min\n",
      "[Parallel(n_jobs=-1)]: Done 965 tasks      | elapsed:  6.4min\n",
      "[Parallel(n_jobs=-1)]: Done 1410 tasks      | elapsed:  9.3min\n",
      "[Parallel(n_jobs=-1)]: Done 1937 tasks      | elapsed: 12.8min\n",
      "[Parallel(n_jobs=-1)]: Done 2544 tasks      | elapsed: 16.8min\n",
      "[Parallel(n_jobs=-1)]: Done 3233 tasks      | elapsed: 21.4min\n",
      "[Parallel(n_jobs=-1)]: Done 4002 tasks      | elapsed: 26.7min\n",
      "[Parallel(n_jobs=-1)]: Done 4853 tasks      | elapsed: 32.3min\n",
      "[Parallel(n_jobs=-1)]: Done 5784 tasks      | elapsed: 38.7min\n",
      "[Parallel(n_jobs=-1)]: Done 6797 tasks      | elapsed: 45.5min\n",
      "[Parallel(n_jobs=-1)]: Done 7200 out of 7200 | elapsed: 48.2min finished\n"
     ]
    },
    {
     "name": "stdout",
     "output_type": "stream",
     "text": [
      "Intrapolation, group B, Acetate, best score and parameter combination = \n",
      "0.164353290989475\n",
      "{'randomforestregressor__max_depth': 16, 'randomforestregressor__max_features': 'log2', 'randomforestregressor__min_samples_leaf': 1, 'randomforestregressor__min_samples_split': 16, 'selectfrommodel__estimator__alpha': 0.01}\n",
      "\n",
      "\n",
      "Fitting 5 folds for each of 1440 candidates, totalling 7200 fits\n"
     ]
    },
    {
     "name": "stderr",
     "output_type": "stream",
     "text": [
      "[Parallel(n_jobs=-1)]: Using backend LokyBackend with 24 concurrent workers.\n",
      "[Parallel(n_jobs=-1)]: Done 114 tasks      | elapsed:   49.0s\n",
      "[Parallel(n_jobs=-1)]: Done 317 tasks      | elapsed:  2.2min\n",
      "[Parallel(n_jobs=-1)]: Done 600 tasks      | elapsed:  4.1min\n",
      "[Parallel(n_jobs=-1)]: Done 965 tasks      | elapsed:  6.5min\n",
      "[Parallel(n_jobs=-1)]: Done 1410 tasks      | elapsed:  9.5min\n",
      "[Parallel(n_jobs=-1)]: Done 1937 tasks      | elapsed: 13.1min\n",
      "[Parallel(n_jobs=-1)]: Done 2544 tasks      | elapsed: 17.2min\n",
      "[Parallel(n_jobs=-1)]: Done 3233 tasks      | elapsed: 21.8min\n",
      "[Parallel(n_jobs=-1)]: Done 4002 tasks      | elapsed: 27.1min\n",
      "[Parallel(n_jobs=-1)]: Done 4853 tasks      | elapsed: 32.8min\n",
      "[Parallel(n_jobs=-1)]: Done 5784 tasks      | elapsed: 39.3min\n",
      "[Parallel(n_jobs=-1)]: Done 6797 tasks      | elapsed: 46.1min\n",
      "[Parallel(n_jobs=-1)]: Done 7200 out of 7200 | elapsed: 48.9min finished\n"
     ]
    },
    {
     "name": "stdout",
     "output_type": "stream",
     "text": [
      "Intrapolation, group B, Propionate, best score and parameter combination = \n",
      "0.48405585031668164\n",
      "{'randomforestregressor__max_depth': 8, 'randomforestregressor__max_features': 'auto', 'randomforestregressor__min_samples_leaf': 2, 'randomforestregressor__min_samples_split': 2, 'selectfrommodel__estimator__alpha': 0.1}\n",
      "\n",
      "\n",
      "Fitting 5 folds for each of 1440 candidates, totalling 7200 fits\n"
     ]
    },
    {
     "name": "stderr",
     "output_type": "stream",
     "text": [
      "[Parallel(n_jobs=-1)]: Using backend LokyBackend with 24 concurrent workers.\n",
      "[Parallel(n_jobs=-1)]: Done 114 tasks      | elapsed:   48.8s\n",
      "[Parallel(n_jobs=-1)]: Done 317 tasks      | elapsed:  2.2min\n",
      "[Parallel(n_jobs=-1)]: Done 600 tasks      | elapsed:  4.0min\n",
      "[Parallel(n_jobs=-1)]: Done 965 tasks      | elapsed:  6.4min\n",
      "[Parallel(n_jobs=-1)]: Done 1410 tasks      | elapsed:  9.3min\n",
      "[Parallel(n_jobs=-1)]: Done 1937 tasks      | elapsed: 12.8min\n",
      "[Parallel(n_jobs=-1)]: Done 2544 tasks      | elapsed: 16.8min\n",
      "[Parallel(n_jobs=-1)]: Done 3233 tasks      | elapsed: 21.4min\n",
      "[Parallel(n_jobs=-1)]: Done 4002 tasks      | elapsed: 26.6min\n",
      "[Parallel(n_jobs=-1)]: Done 4853 tasks      | elapsed: 32.2min\n",
      "[Parallel(n_jobs=-1)]: Done 5784 tasks      | elapsed: 38.5min\n",
      "[Parallel(n_jobs=-1)]: Done 6797 tasks      | elapsed: 45.3min\n",
      "[Parallel(n_jobs=-1)]: Done 7200 out of 7200 | elapsed: 48.0min finished\n"
     ]
    },
    {
     "name": "stdout",
     "output_type": "stream",
     "text": [
      "Intrapolation, group B, Butyrate, best score and parameter combination = \n",
      "0.5976082781975526\n",
      "{'randomforestregressor__max_depth': 16, 'randomforestregressor__max_features': 0.32, 'randomforestregressor__min_samples_leaf': 2, 'randomforestregressor__min_samples_split': 2, 'selectfrommodel__estimator__alpha': 0.01}\n",
      "\n",
      "\n",
      "Fitting 5 folds for each of 1440 candidates, totalling 7200 fits\n"
     ]
    },
    {
     "name": "stderr",
     "output_type": "stream",
     "text": [
      "[Parallel(n_jobs=-1)]: Using backend LokyBackend with 24 concurrent workers.\n",
      "[Parallel(n_jobs=-1)]: Done 114 tasks      | elapsed:   48.4s\n",
      "[Parallel(n_jobs=-1)]: Done 317 tasks      | elapsed:  2.2min\n",
      "[Parallel(n_jobs=-1)]: Done 600 tasks      | elapsed:  4.0min\n",
      "[Parallel(n_jobs=-1)]: Done 965 tasks      | elapsed:  6.3min\n",
      "[Parallel(n_jobs=-1)]: Done 1410 tasks      | elapsed:  9.2min\n",
      "[Parallel(n_jobs=-1)]: Done 1937 tasks      | elapsed: 12.7min\n",
      "[Parallel(n_jobs=-1)]: Done 2544 tasks      | elapsed: 16.7min\n",
      "[Parallel(n_jobs=-1)]: Done 3233 tasks      | elapsed: 21.2min\n",
      "[Parallel(n_jobs=-1)]: Done 4002 tasks      | elapsed: 26.5min\n",
      "[Parallel(n_jobs=-1)]: Done 4853 tasks      | elapsed: 32.0min\n",
      "[Parallel(n_jobs=-1)]: Done 5784 tasks      | elapsed: 38.4min\n",
      "[Parallel(n_jobs=-1)]: Done 6797 tasks      | elapsed: 45.1min\n",
      "[Parallel(n_jobs=-1)]: Done 7200 out of 7200 | elapsed: 47.8min finished\n"
     ]
    },
    {
     "name": "stdout",
     "output_type": "stream",
     "text": [
      "Intrapolation, group C, Acetate, best score and parameter combination = \n",
      "0.141345055222151\n",
      "{'randomforestregressor__max_depth': 16, 'randomforestregressor__max_features': 0.16, 'randomforestregressor__min_samples_leaf': 2, 'randomforestregressor__min_samples_split': 2, 'selectfrommodel__estimator__alpha': 1}\n",
      "\n",
      "\n",
      "Fitting 5 folds for each of 1440 candidates, totalling 7200 fits\n"
     ]
    },
    {
     "name": "stderr",
     "output_type": "stream",
     "text": [
      "[Parallel(n_jobs=-1)]: Using backend LokyBackend with 24 concurrent workers.\n",
      "[Parallel(n_jobs=-1)]: Done 114 tasks      | elapsed:   48.3s\n",
      "[Parallel(n_jobs=-1)]: Done 317 tasks      | elapsed:  2.2min\n",
      "[Parallel(n_jobs=-1)]: Done 600 tasks      | elapsed:  4.0min\n",
      "[Parallel(n_jobs=-1)]: Done 965 tasks      | elapsed:  6.3min\n",
      "[Parallel(n_jobs=-1)]: Done 1410 tasks      | elapsed:  9.2min\n",
      "[Parallel(n_jobs=-1)]: Done 1937 tasks      | elapsed: 12.7min\n",
      "[Parallel(n_jobs=-1)]: Done 2544 tasks      | elapsed: 16.7min\n",
      "[Parallel(n_jobs=-1)]: Done 3233 tasks      | elapsed: 21.1min\n",
      "[Parallel(n_jobs=-1)]: Done 4002 tasks      | elapsed: 26.3min\n",
      "[Parallel(n_jobs=-1)]: Done 4853 tasks      | elapsed: 31.9min\n",
      "[Parallel(n_jobs=-1)]: Done 5784 tasks      | elapsed: 38.2min\n",
      "[Parallel(n_jobs=-1)]: Done 6797 tasks      | elapsed: 44.8min\n",
      "[Parallel(n_jobs=-1)]: Done 7200 out of 7200 | elapsed: 47.5min finished\n"
     ]
    },
    {
     "name": "stdout",
     "output_type": "stream",
     "text": [
      "Intrapolation, group C, Propionate, best score and parameter combination = \n",
      "0.5698631703495165\n",
      "{'randomforestregressor__max_depth': 16, 'randomforestregressor__max_features': 0.32, 'randomforestregressor__min_samples_leaf': 2, 'randomforestregressor__min_samples_split': 2, 'selectfrommodel__estimator__alpha': 0.0001}\n",
      "\n",
      "\n",
      "Fitting 5 folds for each of 1440 candidates, totalling 7200 fits\n"
     ]
    },
    {
     "name": "stderr",
     "output_type": "stream",
     "text": [
      "[Parallel(n_jobs=-1)]: Using backend LokyBackend with 24 concurrent workers.\n",
      "[Parallel(n_jobs=-1)]: Done 114 tasks      | elapsed:   48.1s\n",
      "[Parallel(n_jobs=-1)]: Done 317 tasks      | elapsed:  2.2min\n",
      "[Parallel(n_jobs=-1)]: Done 600 tasks      | elapsed:  4.0min\n",
      "[Parallel(n_jobs=-1)]: Done 965 tasks      | elapsed:  6.3min\n",
      "[Parallel(n_jobs=-1)]: Done 1410 tasks      | elapsed:  9.2min\n",
      "[Parallel(n_jobs=-1)]: Done 1937 tasks      | elapsed: 12.7min\n",
      "[Parallel(n_jobs=-1)]: Done 2544 tasks      | elapsed: 16.6min\n",
      "[Parallel(n_jobs=-1)]: Done 3233 tasks      | elapsed: 21.1min\n",
      "[Parallel(n_jobs=-1)]: Done 4002 tasks      | elapsed: 26.3min\n",
      "[Parallel(n_jobs=-1)]: Done 4853 tasks      | elapsed: 31.8min\n",
      "[Parallel(n_jobs=-1)]: Done 5784 tasks      | elapsed: 38.1min\n",
      "[Parallel(n_jobs=-1)]: Done 6797 tasks      | elapsed: 44.7min\n",
      "[Parallel(n_jobs=-1)]: Done 7200 out of 7200 | elapsed: 47.4min finished\n"
     ]
    },
    {
     "name": "stdout",
     "output_type": "stream",
     "text": [
      "Intrapolation, group C, Butyrate, best score and parameter combination = \n",
      "0.3589558671906555\n",
      "{'randomforestregressor__max_depth': 16, 'randomforestregressor__max_features': 0.64, 'randomforestregressor__min_samples_leaf': 4, 'randomforestregressor__min_samples_split': 2, 'selectfrommodel__estimator__alpha': 0.001}\n",
      "\n",
      "\n",
      "Fitting 5 folds for each of 1440 candidates, totalling 7200 fits\n"
     ]
    },
    {
     "name": "stderr",
     "output_type": "stream",
     "text": [
      "[Parallel(n_jobs=-1)]: Using backend LokyBackend with 24 concurrent workers.\n",
      "[Parallel(n_jobs=-1)]: Done 114 tasks      | elapsed:   53.0s\n",
      "[Parallel(n_jobs=-1)]: Done 317 tasks      | elapsed:  2.3min\n",
      "[Parallel(n_jobs=-1)]: Done 600 tasks      | elapsed:  4.4min\n",
      "[Parallel(n_jobs=-1)]: Done 965 tasks      | elapsed:  6.9min\n",
      "[Parallel(n_jobs=-1)]: Done 1410 tasks      | elapsed: 10.0min\n",
      "[Parallel(n_jobs=-1)]: Done 1937 tasks      | elapsed: 13.8min\n",
      "[Parallel(n_jobs=-1)]: Done 2544 tasks      | elapsed: 18.1min\n",
      "[Parallel(n_jobs=-1)]: Done 3233 tasks      | elapsed: 23.1min\n",
      "[Parallel(n_jobs=-1)]: Done 4002 tasks      | elapsed: 29.1min\n",
      "[Parallel(n_jobs=-1)]: Done 4853 tasks      | elapsed: 35.7min\n",
      "[Parallel(n_jobs=-1)]: Done 5784 tasks      | elapsed: 42.7min\n",
      "[Parallel(n_jobs=-1)]: Done 6797 tasks      | elapsed: 50.1min\n",
      "[Parallel(n_jobs=-1)]: Done 7200 out of 7200 | elapsed: 53.1min finished\n"
     ]
    },
    {
     "name": "stdout",
     "output_type": "stream",
     "text": [
      "Intrapolation, group D, Acetate, best score and parameter combination = \n",
      "0.04582786995616297\n",
      "{'randomforestregressor__max_depth': 4, 'randomforestregressor__max_features': 0.64, 'randomforestregressor__min_samples_leaf': 1, 'randomforestregressor__min_samples_split': 2, 'selectfrommodel__estimator__alpha': 0.0001}\n",
      "\n",
      "\n",
      "Fitting 5 folds for each of 1440 candidates, totalling 7200 fits\n"
     ]
    },
    {
     "name": "stderr",
     "output_type": "stream",
     "text": [
      "[Parallel(n_jobs=-1)]: Using backend LokyBackend with 24 concurrent workers.\n",
      "[Parallel(n_jobs=-1)]: Done 114 tasks      | elapsed:   56.4s\n",
      "[Parallel(n_jobs=-1)]: Done 317 tasks      | elapsed:  2.5min\n",
      "[Parallel(n_jobs=-1)]: Done 600 tasks      | elapsed:  4.6min\n",
      "[Parallel(n_jobs=-1)]: Done 965 tasks      | elapsed:  7.3min\n",
      "[Parallel(n_jobs=-1)]: Done 1410 tasks      | elapsed: 10.8min\n",
      "[Parallel(n_jobs=-1)]: Done 1937 tasks      | elapsed: 15.1min\n",
      "[Parallel(n_jobs=-1)]: Done 2544 tasks      | elapsed: 19.6min\n",
      "[Parallel(n_jobs=-1)]: Done 3233 tasks      | elapsed: 24.8min\n",
      "[Parallel(n_jobs=-1)]: Done 4002 tasks      | elapsed: 30.7min\n",
      "[Parallel(n_jobs=-1)]: Done 4853 tasks      | elapsed: 37.1min\n",
      "[Parallel(n_jobs=-1)]: Done 5784 tasks      | elapsed: 44.2min\n",
      "[Parallel(n_jobs=-1)]: Done 6797 tasks      | elapsed: 51.8min\n",
      "[Parallel(n_jobs=-1)]: Done 7200 out of 7200 | elapsed: 54.9min finished\n"
     ]
    },
    {
     "name": "stdout",
     "output_type": "stream",
     "text": [
      "Intrapolation, group D, Propionate, best score and parameter combination = \n",
      "0.4399462780221858\n",
      "{'randomforestregressor__max_depth': 8, 'randomforestregressor__max_features': 0.32, 'randomforestregressor__min_samples_leaf': 2, 'randomforestregressor__min_samples_split': 2, 'selectfrommodel__estimator__alpha': 0.0001}\n",
      "\n",
      "\n",
      "Fitting 5 folds for each of 1440 candidates, totalling 7200 fits\n"
     ]
    },
    {
     "name": "stderr",
     "output_type": "stream",
     "text": [
      "[Parallel(n_jobs=-1)]: Using backend LokyBackend with 24 concurrent workers.\n",
      "[Parallel(n_jobs=-1)]: Done 114 tasks      | elapsed:   51.3s\n",
      "[Parallel(n_jobs=-1)]: Done 317 tasks      | elapsed:  2.3min\n",
      "[Parallel(n_jobs=-1)]: Done 600 tasks      | elapsed:  4.3min\n",
      "[Parallel(n_jobs=-1)]: Done 965 tasks      | elapsed:  6.7min\n",
      "[Parallel(n_jobs=-1)]: Done 1410 tasks      | elapsed:  9.8min\n",
      "[Parallel(n_jobs=-1)]: Done 1937 tasks      | elapsed: 13.5min\n",
      "[Parallel(n_jobs=-1)]: Done 2544 tasks      | elapsed: 18.2min\n",
      "[Parallel(n_jobs=-1)]: Done 3233 tasks      | elapsed: 23.7min\n",
      "[Parallel(n_jobs=-1)]: Done 4002 tasks      | elapsed: 30.0min\n",
      "[Parallel(n_jobs=-1)]: Done 4853 tasks      | elapsed: 36.8min\n",
      "[Parallel(n_jobs=-1)]: Done 5784 tasks      | elapsed: 44.5min\n",
      "[Parallel(n_jobs=-1)]: Done 6797 tasks      | elapsed: 52.6min\n",
      "[Parallel(n_jobs=-1)]: Done 7200 out of 7200 | elapsed: 55.9min finished\n"
     ]
    },
    {
     "name": "stdout",
     "output_type": "stream",
     "text": [
      "Intrapolation, group D, Butyrate, best score and parameter combination = \n",
      "0.372049035927692\n",
      "{'randomforestregressor__max_depth': 16, 'randomforestregressor__max_features': 'log2', 'randomforestregressor__min_samples_leaf': 1, 'randomforestregressor__min_samples_split': 4, 'selectfrommodel__estimator__alpha': 0.001}\n",
      "\n",
      "\n"
     ]
    }
   ],
   "source": [
    "if use_weights and plot_weights:\n",
    "    fig, ax = plt.subplots(nrows=1, ncols=4, figsize=(20,4), sharex=True, sharey=True)\n",
    "\n",
    "for k,group_to_exclude in enumerate(['A','B','C','D']):\n",
    "\n",
    "    # split train/test data\n",
    "    mice_to_keep = list(set(df_meta[df_meta.RandomizedGroup!=group_to_exclude].MiceID))\n",
    "    samples_to_keep = list(set(df_meta[df_meta.MiceID.isin(mice_to_keep)].index))\n",
    "    mice_to_exclude = list(set(df_meta[df_meta.RandomizedGroup==group_to_exclude].MiceID))\n",
    "    samples_to_exclude = list(set(df_meta[df_meta.MiceID.isin(mice_to_exclude)].index))\n",
    "\n",
    "    # get weights of training sets\n",
    "    xdata_train = df_bac.loc[samples_to_keep]\n",
    "    xdata_test = df_bac.loc[samples_to_exclude]\n",
    "    if use_weights:        \n",
    "        roc_auc[group_to_exclude], weights, df_ord = get_weights(X=deepcopy(xdata_test), Z=deepcopy(xdata_train), method='PCoA')\n",
    "        assert len(xdata_train)==len(weights)\n",
    "        print (\"ROC-AUC (%s): %2.2f\" % (group_to_exclude, roc_auc[group_to_exclude]))\n",
    "     \n",
    "        # show weights on train and test\n",
    "        if plot_weights:\n",
    "            # _ = sns.scatterplot(x='Axis1', y='Axis2', hue='is_z', size='size', data=df_ord, ax=ax[k])\n",
    "            df_ord_0 = df_ord.loc[df_ord.is_z==0]\n",
    "            _ = ax[k].scatter(df_ord_0['Axis1'], df_ord_0['Axis2'], marker='o', s=df_ord_0['size'], c='r', label='test')\n",
    "            df_ord_1 = df_ord.loc[df_ord.is_z==1]\n",
    "            _ = ax[k].scatter(df_ord_1['Axis1'], df_ord_1['Axis2'], marker='o', s=df_ord_1['size'], c='b', label='train')\n",
    "\n",
    "    xdata_train = np.asarray(xdata_train.values)\n",
    "    xdata_test = np.asarray(xdata_test.values)\n",
    "    \n",
    "    # run random forest regression with weights\n",
    "    for scfa in ['Acetate','Propionate','Butyrate']:                \n",
    "        ydata_train = np.asarray(df_scfa.loc[samples_to_keep, scfa])\n",
    "        ydata_test = np.asarray(df_scfa.loc[samples_to_exclude, scfa])\n",
    "\n",
    "        # make pipeline\n",
    "        # use standardscaler for transformation\n",
    "        # use lasso for feature selection\n",
    "        # use random forest for prediction\n",
    "        param_grid = {\n",
    "            'selectfrommodel__estimator__alpha':[10**v for v in [-4,-3,-2,-1,0]], # too large alpha will produce a null model (all features are 0)\n",
    "            'randomforestregressor__max_features':['auto','sqrt','log2',0.16,0.32,0.64],\n",
    "            'randomforestregressor__max_depth':[2,4,8,16],\n",
    "            'randomforestregressor__min_samples_split':[2,4,8,16],\n",
    "            'randomforestregressor__min_samples_leaf':[1,2,4]\n",
    "        }\n",
    "        \n",
    "        clf1 = linear_model.Lasso(tol=1e-5,positive=True,random_state=0,max_iter=1000000)\n",
    "        clf2 = RandomForestRegressor(n_estimators=2000,random_state=0,oob_score=True)\n",
    "        pipe = make_pipeline(StandardScaler(), SelectFromModel(clf1, threshold=1e-5), clone(clf2))  \n",
    "        CV = GridSearchCV(pipe, param_grid, scoring='r2', cv=5, n_jobs=-1, verbose=2)\n",
    "        if use_weights:\n",
    "            CV.fit(xdata_train, ydata_train, selectfrommodel__sample_weight=weights, randomforestregressor__sample_weight=weights)   \n",
    "        else:\n",
    "            CV.fit(xdata_train, ydata_train)\n",
    "\n",
    "        print('Intrapolation, group %s, %s, best score and parameter combination = '%(group_to_exclude, scfa))\n",
    "        print(CV.best_score_)    \n",
    "        print(CV.best_params_)    \n",
    "        print('\\n')\n",
    "\n",
    "        # predict training set\n",
    "        ydata_train_predicted = CV.predict(xdata_train)\n",
    "        ydata_test_predicted = CV.predict(xdata_test)\n",
    "\n",
    "        for sample_, obs_, pred_ in zip(samples_to_keep, ydata_train, ydata_train_predicted):\n",
    "            day_ = df_meta.loc[sample_,'Day']\n",
    "            results.append(['intrapolation', scfa, group_to_exclude, 'train', sample_, day_, obs_, pred_])\n",
    "        for sample_, obs_, pred_ in zip(samples_to_exclude, ydata_test, ydata_test_predicted):\n",
    "            day_ = df_meta.loc[sample_,'Day']\n",
    "            results.append(['intrapolation', scfa, group_to_exclude, 'test', sample_, day_, obs_, pred_])\n",
    "\n",
    "if use_weights and plot_weights:\n",
    "    plt.tight_layout()"
   ]
  },
  {
   "cell_type": "markdown",
   "metadata": {},
   "source": [
    "## extrapolation"
   ]
  },
  {
   "cell_type": "code",
   "execution_count": 20,
   "metadata": {},
   "outputs": [
    {
     "name": "stdout",
     "output_type": "stream",
     "text": [
      "Fitting 5 folds for each of 1440 candidates, totalling 7200 fits\n"
     ]
    },
    {
     "name": "stderr",
     "output_type": "stream",
     "text": [
      "[Parallel(n_jobs=-1)]: Using backend LokyBackend with 24 concurrent workers.\n",
      "[Parallel(n_jobs=-1)]: Done 114 tasks      | elapsed:  1.0min\n",
      "[Parallel(n_jobs=-1)]: Done 317 tasks      | elapsed:  2.7min\n",
      "[Parallel(n_jobs=-1)]: Done 600 tasks      | elapsed:  5.0min\n",
      "[Parallel(n_jobs=-1)]: Done 965 tasks      | elapsed:  7.9min\n",
      "[Parallel(n_jobs=-1)]: Done 1410 tasks      | elapsed: 11.5min\n",
      "[Parallel(n_jobs=-1)]: Done 1937 tasks      | elapsed: 15.8min\n",
      "[Parallel(n_jobs=-1)]: Done 2544 tasks      | elapsed: 20.3min\n",
      "[Parallel(n_jobs=-1)]: Done 3233 tasks      | elapsed: 25.1min\n",
      "[Parallel(n_jobs=-1)]: Done 4002 tasks      | elapsed: 30.7min\n",
      "[Parallel(n_jobs=-1)]: Done 4853 tasks      | elapsed: 36.9min\n",
      "[Parallel(n_jobs=-1)]: Done 5784 tasks      | elapsed: 43.8min\n",
      "[Parallel(n_jobs=-1)]: Done 6797 tasks      | elapsed: 51.2min\n",
      "[Parallel(n_jobs=-1)]: Done 7200 out of 7200 | elapsed: 54.2min finished\n"
     ]
    },
    {
     "name": "stdout",
     "output_type": "stream",
     "text": [
      "Extrapolation, vendor Beijing, Acetate, best score and parameter combination = \n",
      "0.2565794425343416\n",
      "{'randomforestregressor__max_depth': 16, 'randomforestregressor__max_features': 0.16, 'randomforestregressor__min_samples_leaf': 1, 'randomforestregressor__min_samples_split': 8, 'selectfrommodel__estimator__alpha': 1}\n",
      "\n",
      "\n",
      "Fitting 5 folds for each of 1440 candidates, totalling 7200 fits\n"
     ]
    },
    {
     "name": "stderr",
     "output_type": "stream",
     "text": [
      "[Parallel(n_jobs=-1)]: Using backend LokyBackend with 24 concurrent workers.\n",
      "[Parallel(n_jobs=-1)]: Done 114 tasks      | elapsed:   52.5s\n",
      "[Parallel(n_jobs=-1)]: Done 317 tasks      | elapsed:  2.4min\n",
      "[Parallel(n_jobs=-1)]: Done 600 tasks      | elapsed:  4.4min\n",
      "[Parallel(n_jobs=-1)]: Done 965 tasks      | elapsed:  6.9min\n",
      "[Parallel(n_jobs=-1)]: Done 1410 tasks      | elapsed: 10.1min\n",
      "[Parallel(n_jobs=-1)]: Done 1937 tasks      | elapsed: 13.8min\n",
      "[Parallel(n_jobs=-1)]: Done 2544 tasks      | elapsed: 18.2min\n",
      "[Parallel(n_jobs=-1)]: Done 3233 tasks      | elapsed: 23.0min\n",
      "[Parallel(n_jobs=-1)]: Done 4002 tasks      | elapsed: 28.7min\n",
      "[Parallel(n_jobs=-1)]: Done 4853 tasks      | elapsed: 34.7min\n",
      "[Parallel(n_jobs=-1)]: Done 5784 tasks      | elapsed: 41.5min\n",
      "[Parallel(n_jobs=-1)]: Done 6797 tasks      | elapsed: 48.7min\n",
      "[Parallel(n_jobs=-1)]: Done 7200 out of 7200 | elapsed: 51.6min finished\n"
     ]
    },
    {
     "name": "stdout",
     "output_type": "stream",
     "text": [
      "Extrapolation, vendor Beijing, Propionate, best score and parameter combination = \n",
      "0.5254434586375032\n",
      "{'randomforestregressor__max_depth': 4, 'randomforestregressor__max_features': 0.64, 'randomforestregressor__min_samples_leaf': 1, 'randomforestregressor__min_samples_split': 8, 'selectfrommodel__estimator__alpha': 0.1}\n",
      "\n",
      "\n",
      "Fitting 5 folds for each of 1440 candidates, totalling 7200 fits\n"
     ]
    },
    {
     "name": "stderr",
     "output_type": "stream",
     "text": [
      "[Parallel(n_jobs=-1)]: Using backend LokyBackend with 24 concurrent workers.\n",
      "[Parallel(n_jobs=-1)]: Done 114 tasks      | elapsed:  1.0min\n",
      "[Parallel(n_jobs=-1)]: Done 317 tasks      | elapsed:  2.6min\n",
      "[Parallel(n_jobs=-1)]: Done 600 tasks      | elapsed:  4.8min\n",
      "[Parallel(n_jobs=-1)]: Done 965 tasks      | elapsed:  7.6min\n",
      "[Parallel(n_jobs=-1)]: Done 1410 tasks      | elapsed: 11.0min\n",
      "[Parallel(n_jobs=-1)]: Done 1937 tasks      | elapsed: 15.0min\n",
      "[Parallel(n_jobs=-1)]: Done 2544 tasks      | elapsed: 19.6min\n",
      "[Parallel(n_jobs=-1)]: Done 3233 tasks      | elapsed: 24.8min\n",
      "[Parallel(n_jobs=-1)]: Done 4002 tasks      | elapsed: 30.7min\n",
      "[Parallel(n_jobs=-1)]: Done 4853 tasks      | elapsed: 37.1min\n",
      "[Parallel(n_jobs=-1)]: Done 5784 tasks      | elapsed: 44.3min\n",
      "[Parallel(n_jobs=-1)]: Done 6797 tasks      | elapsed: 51.9min\n",
      "[Parallel(n_jobs=-1)]: Done 7200 out of 7200 | elapsed: 55.0min finished\n"
     ]
    },
    {
     "name": "stdout",
     "output_type": "stream",
     "text": [
      "Extrapolation, vendor Beijing, Butyrate, best score and parameter combination = \n",
      "0.40330391745785743\n",
      "{'randomforestregressor__max_depth': 16, 'randomforestregressor__max_features': 'sqrt', 'randomforestregressor__min_samples_leaf': 2, 'randomforestregressor__min_samples_split': 2, 'selectfrommodel__estimator__alpha': 0.01}\n",
      "\n",
      "\n",
      "Fitting 5 folds for each of 1440 candidates, totalling 7200 fits\n"
     ]
    },
    {
     "name": "stderr",
     "output_type": "stream",
     "text": [
      "[Parallel(n_jobs=-1)]: Using backend LokyBackend with 24 concurrent workers.\n",
      "[Parallel(n_jobs=-1)]: Done 114 tasks      | elapsed:   59.0s\n",
      "[Parallel(n_jobs=-1)]: Done 317 tasks      | elapsed:  2.6min\n",
      "[Parallel(n_jobs=-1)]: Done 600 tasks      | elapsed:  4.8min\n",
      "[Parallel(n_jobs=-1)]: Done 965 tasks      | elapsed:  7.6min\n",
      "[Parallel(n_jobs=-1)]: Done 1410 tasks      | elapsed: 11.0min\n",
      "[Parallel(n_jobs=-1)]: Done 1937 tasks      | elapsed: 15.2min\n",
      "[Parallel(n_jobs=-1)]: Done 2544 tasks      | elapsed: 19.9min\n",
      "[Parallel(n_jobs=-1)]: Done 3233 tasks      | elapsed: 25.3min\n",
      "[Parallel(n_jobs=-1)]: Done 4002 tasks      | elapsed: 31.5min\n",
      "[Parallel(n_jobs=-1)]: Done 4853 tasks      | elapsed: 38.1min\n",
      "[Parallel(n_jobs=-1)]: Done 5784 tasks      | elapsed: 45.3min\n",
      "[Parallel(n_jobs=-1)]: Done 6797 tasks      | elapsed: 52.9min\n",
      "[Parallel(n_jobs=-1)]: Done 7200 out of 7200 | elapsed: 56.1min finished\n"
     ]
    },
    {
     "name": "stdout",
     "output_type": "stream",
     "text": [
      "Extrapolation, vendor Guangdong, Acetate, best score and parameter combination = \n",
      "0.047740583932912695\n",
      "{'randomforestregressor__max_depth': 4, 'randomforestregressor__max_features': 0.16, 'randomforestregressor__min_samples_leaf': 4, 'randomforestregressor__min_samples_split': 2, 'selectfrommodel__estimator__alpha': 0.001}\n",
      "\n",
      "\n",
      "Fitting 5 folds for each of 1440 candidates, totalling 7200 fits\n"
     ]
    },
    {
     "name": "stderr",
     "output_type": "stream",
     "text": [
      "[Parallel(n_jobs=-1)]: Using backend LokyBackend with 24 concurrent workers.\n",
      "[Parallel(n_jobs=-1)]: Done 114 tasks      | elapsed:   57.4s\n",
      "[Parallel(n_jobs=-1)]: Done 317 tasks      | elapsed:  2.5min\n",
      "[Parallel(n_jobs=-1)]: Done 600 tasks      | elapsed:  4.7min\n",
      "[Parallel(n_jobs=-1)]: Done 965 tasks      | elapsed:  7.4min\n",
      "[Parallel(n_jobs=-1)]: Done 1410 tasks      | elapsed: 10.7min\n",
      "[Parallel(n_jobs=-1)]: Done 1937 tasks      | elapsed: 14.7min\n",
      "[Parallel(n_jobs=-1)]: Done 2544 tasks      | elapsed: 19.4min\n",
      "[Parallel(n_jobs=-1)]: Done 3233 tasks      | elapsed: 24.6min\n",
      "[Parallel(n_jobs=-1)]: Done 4002 tasks      | elapsed: 30.6min\n",
      "[Parallel(n_jobs=-1)]: Done 4853 tasks      | elapsed: 37.0min\n",
      "[Parallel(n_jobs=-1)]: Done 5784 tasks      | elapsed: 44.3min\n",
      "[Parallel(n_jobs=-1)]: Done 6797 tasks      | elapsed: 52.0min\n",
      "[Parallel(n_jobs=-1)]: Done 7200 out of 7200 | elapsed: 55.1min finished\n"
     ]
    },
    {
     "name": "stdout",
     "output_type": "stream",
     "text": [
      "Extrapolation, vendor Guangdong, Propionate, best score and parameter combination = \n",
      "0.5179450014786515\n",
      "{'randomforestregressor__max_depth': 16, 'randomforestregressor__max_features': 0.32, 'randomforestregressor__min_samples_leaf': 2, 'randomforestregressor__min_samples_split': 2, 'selectfrommodel__estimator__alpha': 0.0001}\n",
      "\n",
      "\n",
      "Fitting 5 folds for each of 1440 candidates, totalling 7200 fits\n"
     ]
    },
    {
     "name": "stderr",
     "output_type": "stream",
     "text": [
      "[Parallel(n_jobs=-1)]: Using backend LokyBackend with 24 concurrent workers.\n",
      "[Parallel(n_jobs=-1)]: Done 114 tasks      | elapsed:   54.7s\n",
      "[Parallel(n_jobs=-1)]: Done 317 tasks      | elapsed:  2.4min\n",
      "[Parallel(n_jobs=-1)]: Done 600 tasks      | elapsed:  4.4min\n",
      "[Parallel(n_jobs=-1)]: Done 965 tasks      | elapsed:  6.9min\n",
      "[Parallel(n_jobs=-1)]: Done 1410 tasks      | elapsed: 10.1min\n",
      "[Parallel(n_jobs=-1)]: Done 1937 tasks      | elapsed: 13.9min\n",
      "[Parallel(n_jobs=-1)]: Done 2544 tasks      | elapsed: 18.2min\n",
      "[Parallel(n_jobs=-1)]: Done 3233 tasks      | elapsed: 23.1min\n",
      "[Parallel(n_jobs=-1)]: Done 4002 tasks      | elapsed: 28.8min\n",
      "[Parallel(n_jobs=-1)]: Done 4853 tasks      | elapsed: 34.8min\n",
      "[Parallel(n_jobs=-1)]: Done 5784 tasks      | elapsed: 41.7min\n",
      "[Parallel(n_jobs=-1)]: Done 6797 tasks      | elapsed: 48.9min\n",
      "[Parallel(n_jobs=-1)]: Done 7200 out of 7200 | elapsed: 51.9min finished\n"
     ]
    },
    {
     "name": "stdout",
     "output_type": "stream",
     "text": [
      "Extrapolation, vendor Guangdong, Butyrate, best score and parameter combination = \n",
      "0.5368760896495186\n",
      "{'randomforestregressor__max_depth': 8, 'randomforestregressor__max_features': 'auto', 'randomforestregressor__min_samples_leaf': 1, 'randomforestregressor__min_samples_split': 4, 'selectfrommodel__estimator__alpha': 0.001}\n",
      "\n",
      "\n",
      "Fitting 5 folds for each of 1440 candidates, totalling 7200 fits\n"
     ]
    },
    {
     "name": "stderr",
     "output_type": "stream",
     "text": [
      "[Parallel(n_jobs=-1)]: Using backend LokyBackend with 24 concurrent workers.\n",
      "[Parallel(n_jobs=-1)]: Done 114 tasks      | elapsed:   48.6s\n",
      "[Parallel(n_jobs=-1)]: Done 317 tasks      | elapsed:  2.2min\n",
      "[Parallel(n_jobs=-1)]: Done 600 tasks      | elapsed:  4.0min\n",
      "[Parallel(n_jobs=-1)]: Done 965 tasks      | elapsed:  6.4min\n",
      "[Parallel(n_jobs=-1)]: Done 1410 tasks      | elapsed:  9.3min\n",
      "[Parallel(n_jobs=-1)]: Done 1937 tasks      | elapsed: 12.8min\n",
      "[Parallel(n_jobs=-1)]: Done 2544 tasks      | elapsed: 16.8min\n",
      "[Parallel(n_jobs=-1)]: Done 3233 tasks      | elapsed: 21.3min\n",
      "[Parallel(n_jobs=-1)]: Done 4002 tasks      | elapsed: 26.5min\n",
      "[Parallel(n_jobs=-1)]: Done 4853 tasks      | elapsed: 32.1min\n",
      "[Parallel(n_jobs=-1)]: Done 5784 tasks      | elapsed: 38.5min\n",
      "[Parallel(n_jobs=-1)]: Done 6797 tasks      | elapsed: 45.2min\n",
      "[Parallel(n_jobs=-1)]: Done 7200 out of 7200 | elapsed: 47.9min finished\n"
     ]
    },
    {
     "name": "stdout",
     "output_type": "stream",
     "text": [
      "Extrapolation, vendor Hunan, Acetate, best score and parameter combination = \n",
      "0.16221432177904166\n",
      "{'randomforestregressor__max_depth': 4, 'randomforestregressor__max_features': 0.64, 'randomforestregressor__min_samples_leaf': 4, 'randomforestregressor__min_samples_split': 2, 'selectfrommodel__estimator__alpha': 0.0001}\n",
      "\n",
      "\n",
      "Fitting 5 folds for each of 1440 candidates, totalling 7200 fits\n"
     ]
    },
    {
     "name": "stderr",
     "output_type": "stream",
     "text": [
      "[Parallel(n_jobs=-1)]: Using backend LokyBackend with 24 concurrent workers.\n",
      "[Parallel(n_jobs=-1)]: Done 114 tasks      | elapsed:   49.6s\n",
      "[Parallel(n_jobs=-1)]: Done 317 tasks      | elapsed:  2.2min\n",
      "[Parallel(n_jobs=-1)]: Done 600 tasks      | elapsed:  4.1min\n",
      "[Parallel(n_jobs=-1)]: Done 965 tasks      | elapsed:  6.4min\n",
      "[Parallel(n_jobs=-1)]: Done 1410 tasks      | elapsed:  9.4min\n",
      "[Parallel(n_jobs=-1)]: Done 1937 tasks      | elapsed: 12.9min\n",
      "[Parallel(n_jobs=-1)]: Done 2544 tasks      | elapsed: 17.0min\n",
      "[Parallel(n_jobs=-1)]: Done 3233 tasks      | elapsed: 21.6min\n",
      "[Parallel(n_jobs=-1)]: Done 4002 tasks      | elapsed: 26.9min\n",
      "[Parallel(n_jobs=-1)]: Done 4853 tasks      | elapsed: 32.5min\n",
      "[Parallel(n_jobs=-1)]: Done 5784 tasks      | elapsed: 38.9min\n",
      "[Parallel(n_jobs=-1)]: Done 6797 tasks      | elapsed: 45.7min\n",
      "[Parallel(n_jobs=-1)]: Done 7200 out of 7200 | elapsed: 48.4min finished\n"
     ]
    },
    {
     "name": "stdout",
     "output_type": "stream",
     "text": [
      "Extrapolation, vendor Hunan, Propionate, best score and parameter combination = \n",
      "0.5042025162462126\n",
      "{'randomforestregressor__max_depth': 8, 'randomforestregressor__max_features': 0.32, 'randomforestregressor__min_samples_leaf': 2, 'randomforestregressor__min_samples_split': 2, 'selectfrommodel__estimator__alpha': 0.001}\n",
      "\n",
      "\n",
      "Fitting 5 folds for each of 1440 candidates, totalling 7200 fits\n"
     ]
    },
    {
     "name": "stderr",
     "output_type": "stream",
     "text": [
      "[Parallel(n_jobs=-1)]: Using backend LokyBackend with 24 concurrent workers.\n",
      "[Parallel(n_jobs=-1)]: Done 114 tasks      | elapsed:   47.5s\n",
      "[Parallel(n_jobs=-1)]: Done 317 tasks      | elapsed:  2.2min\n",
      "[Parallel(n_jobs=-1)]: Done 600 tasks      | elapsed:  4.0min\n",
      "[Parallel(n_jobs=-1)]: Done 965 tasks      | elapsed:  6.3min\n",
      "[Parallel(n_jobs=-1)]: Done 1410 tasks      | elapsed:  9.1min\n",
      "[Parallel(n_jobs=-1)]: Done 1937 tasks      | elapsed: 12.5min\n",
      "[Parallel(n_jobs=-1)]: Done 2544 tasks      | elapsed: 16.5min\n",
      "[Parallel(n_jobs=-1)]: Done 3233 tasks      | elapsed: 20.9min\n",
      "[Parallel(n_jobs=-1)]: Done 4002 tasks      | elapsed: 26.0min\n",
      "[Parallel(n_jobs=-1)]: Done 4853 tasks      | elapsed: 31.5min\n",
      "[Parallel(n_jobs=-1)]: Done 5784 tasks      | elapsed: 37.6min\n",
      "[Parallel(n_jobs=-1)]: Done 6797 tasks      | elapsed: 44.2min\n",
      "[Parallel(n_jobs=-1)]: Done 7200 out of 7200 | elapsed: 46.8min finished\n"
     ]
    },
    {
     "name": "stdout",
     "output_type": "stream",
     "text": [
      "Extrapolation, vendor Hunan, Butyrate, best score and parameter combination = \n",
      "0.6246444386158225\n",
      "{'randomforestregressor__max_depth': 8, 'randomforestregressor__max_features': 0.16, 'randomforestregressor__min_samples_leaf': 1, 'randomforestregressor__min_samples_split': 2, 'selectfrommodel__estimator__alpha': 0.01}\n",
      "\n",
      "\n",
      "Fitting 5 folds for each of 1440 candidates, totalling 7200 fits\n"
     ]
    },
    {
     "name": "stderr",
     "output_type": "stream",
     "text": [
      "[Parallel(n_jobs=-1)]: Using backend LokyBackend with 24 concurrent workers.\n",
      "[Parallel(n_jobs=-1)]: Done 114 tasks      | elapsed:   59.7s\n",
      "[Parallel(n_jobs=-1)]: Done 317 tasks      | elapsed:  2.6min\n",
      "[Parallel(n_jobs=-1)]: Done 600 tasks      | elapsed:  4.9min\n",
      "[Parallel(n_jobs=-1)]: Done 965 tasks      | elapsed:  7.8min\n",
      "[Parallel(n_jobs=-1)]: Done 1410 tasks      | elapsed: 11.3min\n",
      "[Parallel(n_jobs=-1)]: Done 1937 tasks      | elapsed: 15.6min\n",
      "[Parallel(n_jobs=-1)]: Done 2544 tasks      | elapsed: 20.5min\n",
      "[Parallel(n_jobs=-1)]: Done 3233 tasks      | elapsed: 26.1min\n",
      "[Parallel(n_jobs=-1)]: Done 4002 tasks      | elapsed: 32.5min\n",
      "[Parallel(n_jobs=-1)]: Done 4853 tasks      | elapsed: 39.3min\n",
      "[Parallel(n_jobs=-1)]: Done 5784 tasks      | elapsed: 47.1min\n",
      "[Parallel(n_jobs=-1)]: Done 6797 tasks      | elapsed: 55.3min\n",
      "[Parallel(n_jobs=-1)]: Done 7200 out of 7200 | elapsed: 58.8min finished\n"
     ]
    },
    {
     "name": "stdout",
     "output_type": "stream",
     "text": [
      "Extrapolation, vendor Shanghai, Acetate, best score and parameter combination = \n",
      "0.1305273658214709\n",
      "{'randomforestregressor__max_depth': 2, 'randomforestregressor__max_features': 0.32, 'randomforestregressor__min_samples_leaf': 4, 'randomforestregressor__min_samples_split': 2, 'selectfrommodel__estimator__alpha': 1}\n",
      "\n",
      "\n",
      "Fitting 5 folds for each of 1440 candidates, totalling 7200 fits\n"
     ]
    },
    {
     "name": "stderr",
     "output_type": "stream",
     "text": [
      "[Parallel(n_jobs=-1)]: Using backend LokyBackend with 24 concurrent workers.\n",
      "[Parallel(n_jobs=-1)]: Done 114 tasks      | elapsed:   58.6s\n",
      "[Parallel(n_jobs=-1)]: Done 317 tasks      | elapsed:  2.7min\n",
      "[Parallel(n_jobs=-1)]: Done 600 tasks      | elapsed:  5.0min\n",
      "[Parallel(n_jobs=-1)]: Done 965 tasks      | elapsed:  7.9min\n",
      "[Parallel(n_jobs=-1)]: Done 1410 tasks      | elapsed: 11.6min\n",
      "[Parallel(n_jobs=-1)]: Done 1937 tasks      | elapsed: 15.9min\n",
      "[Parallel(n_jobs=-1)]: Done 2544 tasks      | elapsed: 20.9min\n",
      "[Parallel(n_jobs=-1)]: Done 3233 tasks      | elapsed: 26.5min\n",
      "[Parallel(n_jobs=-1)]: Done 4002 tasks      | elapsed: 33.0min\n",
      "[Parallel(n_jobs=-1)]: Done 4853 tasks      | elapsed: 40.0min\n",
      "[Parallel(n_jobs=-1)]: Done 5784 tasks      | elapsed: 47.8min\n",
      "[Parallel(n_jobs=-1)]: Done 6797 tasks      | elapsed: 56.2min\n",
      "[Parallel(n_jobs=-1)]: Done 7200 out of 7200 | elapsed: 59.8min finished\n"
     ]
    },
    {
     "name": "stdout",
     "output_type": "stream",
     "text": [
      "Extrapolation, vendor Shanghai, Propionate, best score and parameter combination = \n",
      "0.2105436009475409\n",
      "{'randomforestregressor__max_depth': 8, 'randomforestregressor__max_features': 0.64, 'randomforestregressor__min_samples_leaf': 2, 'randomforestregressor__min_samples_split': 8, 'selectfrommodel__estimator__alpha': 0.01}\n",
      "\n",
      "\n",
      "Fitting 5 folds for each of 1440 candidates, totalling 7200 fits\n"
     ]
    },
    {
     "name": "stderr",
     "output_type": "stream",
     "text": [
      "[Parallel(n_jobs=-1)]: Using backend LokyBackend with 24 concurrent workers.\n",
      "[Parallel(n_jobs=-1)]: Done 114 tasks      | elapsed:   59.4s\n",
      "[Parallel(n_jobs=-1)]: Done 317 tasks      | elapsed:  2.6min\n",
      "[Parallel(n_jobs=-1)]: Done 600 tasks      | elapsed:  5.0min\n",
      "[Parallel(n_jobs=-1)]: Done 965 tasks      | elapsed:  7.9min\n",
      "[Parallel(n_jobs=-1)]: Done 1410 tasks      | elapsed: 11.5min\n",
      "[Parallel(n_jobs=-1)]: Done 1937 tasks      | elapsed: 15.8min\n",
      "[Parallel(n_jobs=-1)]: Done 2544 tasks      | elapsed: 20.8min\n",
      "[Parallel(n_jobs=-1)]: Done 3233 tasks      | elapsed: 26.4min\n",
      "[Parallel(n_jobs=-1)]: Done 4002 tasks      | elapsed: 32.8min\n",
      "[Parallel(n_jobs=-1)]: Done 4853 tasks      | elapsed: 39.8min\n",
      "[Parallel(n_jobs=-1)]: Done 5784 tasks      | elapsed: 47.6min\n",
      "[Parallel(n_jobs=-1)]: Done 6797 tasks      | elapsed: 55.9min\n",
      "[Parallel(n_jobs=-1)]: Done 7200 out of 7200 | elapsed: 59.4min finished\n"
     ]
    },
    {
     "name": "stdout",
     "output_type": "stream",
     "text": [
      "Extrapolation, vendor Shanghai, Butyrate, best score and parameter combination = \n",
      "0.10888336450254413\n",
      "{'randomforestregressor__max_depth': 4, 'randomforestregressor__max_features': 0.64, 'randomforestregressor__min_samples_leaf': 4, 'randomforestregressor__min_samples_split': 2, 'selectfrommodel__estimator__alpha': 0.001}\n",
      "\n",
      "\n"
     ]
    }
   ],
   "source": [
    "if use_weights and plot_weights:\n",
    "    fig, ax = plt.subplots(nrows=1, ncols=4, figsize=(20,4), sharex=True, sharey=True)\n",
    "\n",
    "for k,vendor_to_exclude in enumerate(['Beijing','Guangdong','Hunan','Shanghai']):\n",
    "        \n",
    "    # split train/test data\n",
    "    mice_to_keep = list(set(df_meta[df_meta.Vendor!=vendor_to_exclude].MiceID))\n",
    "    samples_to_keep = list(set(df_meta[df_meta.MiceID.isin(mice_to_keep)].index))\n",
    "    mice_to_exclude = list(set(df_meta[df_meta.Vendor==vendor_to_exclude].MiceID))\n",
    "    samples_to_exclude = list(set(df_meta[df_meta.MiceID.isin(mice_to_exclude)].index))\n",
    "\n",
    "    # get weights of training sets\n",
    "    xdata_train = df_bac.loc[samples_to_keep]\n",
    "    xdata_test = df_bac.loc[samples_to_exclude]\n",
    "    if use_weights:\n",
    "        roc_auc[vendor_to_exclude], weights, df_ord = get_weights(X=deepcopy(xdata_test), Z=deepcopy(xdata_train), method='PCoA')\n",
    "        assert len(xdata_train)==len(weights)\n",
    "        print (\"ROC-AUC (%s): %2.2f\" % (vendor_to_exclude, roc_auc[vendor_to_exclude]))\n",
    "    \n",
    "        # show weights on train and test\n",
    "        if plot_weights:\n",
    "            # _ = sns.scatterplot(x='Axis1', y='Axis2', hue='is_z', size='size', data=df_ord, ax=ax[k])\n",
    "            df_ord_0 = df_ord.loc[df_ord.is_z==0]\n",
    "            _ = ax[k].scatter(df_ord_0['Axis1'], df_ord_0['Axis2'], marker='o', s=df_ord_0['size'], c='r', label='test')\n",
    "            df_ord_1 = df_ord.loc[df_ord.is_z==1]\n",
    "            _ = ax[k].scatter(df_ord_1['Axis1'], df_ord_1['Axis2'], marker='o', s=df_ord_1['size'], c='b', label='train')\n",
    "\n",
    "    xdata_train = np.asarray(xdata_train.values)\n",
    "    xdata_test = np.asarray(xdata_test.values)\n",
    "    \n",
    "    # run random forest regression with weights\n",
    "    for scfa in ['Acetate','Propionate','Butyrate']:                \n",
    "        ydata_train = np.asarray(df_scfa.loc[samples_to_keep, scfa])\n",
    "        ydata_test = np.asarray(df_scfa.loc[samples_to_exclude, scfa])\n",
    "\n",
    "        # make pipeline\n",
    "        # use lasso for feature selection\n",
    "        param_grid = {\n",
    "            'selectfrommodel__estimator__alpha':[10**v for v in [-4,-3,-2,-1,0]], # too large alpha will produce a null model (all features are 0)\n",
    "            'randomforestregressor__max_features':['auto','sqrt','log2',0.16,0.32,0.64],\n",
    "            'randomforestregressor__max_depth':[2,4,8,16],\n",
    "            'randomforestregressor__min_samples_split':[2,4,8,16],\n",
    "            'randomforestregressor__min_samples_leaf':[1,2,4]\n",
    "        }\n",
    "        \n",
    "        clf1 = linear_model.Lasso(tol=1e-5,positive=True,random_state=0,max_iter=1000000)\n",
    "        clf2 = RandomForestRegressor(n_estimators=2000,random_state=0,oob_score=True)\n",
    "        pipe = make_pipeline(StandardScaler(), SelectFromModel(clf1, threshold=1e-5), clone(clf2))  \n",
    "        CV = GridSearchCV(pipe, param_grid, scoring='r2', cv=5, n_jobs=-1, verbose=2)\n",
    "        if use_weights:\n",
    "            CV.fit(xdata_train, ydata_train, selectfrommodel__sample_weight=weights, randomforestregressor__sample_weight=weights)\n",
    "        else:\n",
    "            CV.fit(xdata_train, ydata_train)\n",
    "\n",
    "        print('Extrapolation, vendor %s, %s, best score and parameter combination = '%(vendor_to_exclude, scfa))\n",
    "        print(CV.best_score_)    \n",
    "        print(CV.best_params_)    \n",
    "        print('\\n')   \n",
    "\n",
    "        # predict training set\n",
    "        ydata_train_predicted = CV.predict(xdata_train)\n",
    "        ydata_test_predicted = CV.predict(xdata_test)\n",
    "\n",
    "        for sample_, obs_, pred_ in zip(samples_to_keep, ydata_train, ydata_train_predicted):\n",
    "            day_ = df_meta.loc[sample_,'Day']\n",
    "            results.append(['extrapolation', scfa, vendor_to_exclude, 'train', sample_, day_, obs_, pred_])\n",
    "        for sample_, obs_, pred_ in zip(samples_to_exclude, ydata_test, ydata_test_predicted):\n",
    "            day_ = df_meta.loc[sample_,'Day']\n",
    "            results.append(['extrapolation', scfa, vendor_to_exclude, 'test', sample_, day_, obs_, pred_])\n",
    "\n",
    "if use_weights and plot_weights:\n",
    "    plt.tight_layout()"
   ]
  },
  {
   "cell_type": "markdown",
   "metadata": {},
   "source": [
    "## save results to file"
   ]
  },
  {
   "cell_type": "code",
   "execution_count": 21,
   "metadata": {},
   "outputs": [
    {
     "data": {
      "text/html": [
       "<div>\n",
       "<style scoped>\n",
       "    .dataframe tbody tr th:only-of-type {\n",
       "        vertical-align: middle;\n",
       "    }\n",
       "\n",
       "    .dataframe tbody tr th {\n",
       "        vertical-align: top;\n",
       "    }\n",
       "\n",
       "    .dataframe thead th {\n",
       "        text-align: right;\n",
       "    }\n",
       "</style>\n",
       "<table border=\"1\" class=\"dataframe\">\n",
       "  <thead>\n",
       "    <tr style=\"text-align: right;\">\n",
       "      <th></th>\n",
       "    </tr>\n",
       "  </thead>\n",
       "  <tbody>\n",
       "  </tbody>\n",
       "</table>\n",
       "</div>"
      ],
      "text/plain": [
       "Empty DataFrame\n",
       "Columns: []\n",
       "Index: []"
      ]
     },
     "execution_count": 21,
     "metadata": {},
     "output_type": "execute_result"
    }
   ],
   "source": [
    "df_roc_w_weights = pd.DataFrame.from_dict(roc_auc, orient='index').rename({0:'AUC'}, axis=1)\n",
    "df_roc_w_weights"
   ]
  },
  {
   "cell_type": "code",
   "execution_count": 22,
   "metadata": {},
   "outputs": [],
   "source": [
    "df_prediction = pd.DataFrame(results, columns=['PerturbationType','SCFA','Permutation','PredictionType','SampleID','Day','ObservedValue','PredictedValue'])\n",
    "if use_weights:\n",
    "    df_prediction.to_csv('rf_prediction_predictor_asvonly_w_weights.csv')\n",
    "else:\n",
    "    df_prediction.to_csv('rf_prediction_predictor_asvonly_wo_weights.csv')"
   ]
  },
  {
   "cell_type": "code",
   "execution_count": null,
   "metadata": {},
   "outputs": [],
   "source": []
  }
 ],
 "metadata": {
  "kernelspec": {
   "display_name": "Python 3",
   "language": "python",
   "name": "python3"
  },
  "language_info": {
   "codemirror_mode": {
    "name": "ipython",
    "version": 3
   },
   "file_extension": ".py",
   "mimetype": "text/x-python",
   "name": "python",
   "nbconvert_exporter": "python",
   "pygments_lexer": "ipython3",
   "version": "3.8.5"
  }
 },
 "nbformat": 4,
 "nbformat_minor": 4
}
