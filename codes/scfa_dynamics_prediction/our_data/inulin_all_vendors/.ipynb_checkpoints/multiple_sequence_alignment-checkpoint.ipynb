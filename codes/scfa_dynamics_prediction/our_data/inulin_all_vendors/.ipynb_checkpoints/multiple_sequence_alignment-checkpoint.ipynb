{
 "cells": [
  {
   "cell_type": "code",
   "execution_count": 2,
   "metadata": {},
   "outputs": [],
   "source": [
    "import Bio\n",
    "from Bio import AlignIO, SeqIO\n",
    "from Bio.Align.Applications import ClustalwCommandline, ClustalOmegaCommandline\n",
    "import pandas as pd"
   ]
  },
  {
   "cell_type": "markdown",
   "metadata": {},
   "source": [
    "# Align rep_set_v35 sequences"
   ]
  },
  {
   "cell_type": "code",
   "execution_count": 2,
   "metadata": {},
   "outputs": [],
   "source": [
    "# clustalw_cline = ClustalwCommandline(\"/usr/local/bin/clustalw2\", infile=\"rep_set_v35.fna\")\n",
    "# stdout, stderr = clustalw_cline()\n",
    "# alignments = AlignIO.read(\"rep_set_v35.aln\", \"clustal\")\n",
    "# SeqIO.write(alignments, \"rep_set_v35_aligned.fna\", \"fasta\")"
   ]
  },
  {
   "cell_type": "code",
   "execution_count": 5,
   "metadata": {},
   "outputs": [],
   "source": [
    "in_file = \"rep_set_v35.fna\"\n",
    "out_file = \"rep_set_v35_aligned.fna\"\n",
    "clustalomega_cline = ClustalOmegaCommandline(infile=in_file, outfile=out_file, verbose=True, auto=True)\n",
    "stdout, stderr = clustalomega_cline()"
   ]
  },
  {
   "cell_type": "markdown",
   "metadata": {},
   "source": [
    "# Correct for sequence ID"
   ]
  },
  {
   "cell_type": "code",
   "execution_count": 7,
   "metadata": {},
   "outputs": [],
   "source": [
    "with open(\"rep_set_v35_aligned.id_corrected.fna\", \"w\") as output_handle:\n",
    "    for record in SeqIO.parse(\"rep_set_v35_aligned.fna\", \"fasta\"):\n",
    "        output_handle.write('>'+record.id+'\\n')\n",
    "        output_handle.write(str(record.seq)+'\\n')"
   ]
  },
  {
   "cell_type": "code",
   "execution_count": null,
   "metadata": {},
   "outputs": [],
   "source": []
  }
 ],
 "metadata": {
  "kernelspec": {
   "display_name": "Python 3",
   "language": "python",
   "name": "python3"
  },
  "language_info": {
   "codemirror_mode": {
    "name": "ipython",
    "version": 3
   },
   "file_extension": ".py",
   "mimetype": "text/x-python",
   "name": "python",
   "nbconvert_exporter": "python",
   "pygments_lexer": "ipython3",
   "version": "3.8.3"
  }
 },
 "nbformat": 4,
 "nbformat_minor": 4
}
