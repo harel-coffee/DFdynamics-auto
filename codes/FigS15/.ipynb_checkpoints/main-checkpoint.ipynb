{
 "cells": [
  {
   "cell_type": "code",
   "execution_count": 1,
   "metadata": {},
   "outputs": [],
   "source": [
    "import pandas as pd\n",
    "import matplotlib.pyplot as plt\n",
    "import seaborn as sns\n",
    "import numpy as np"
   ]
  },
  {
   "cell_type": "markdown",
   "metadata": {},
   "source": [
    "# Load data"
   ]
  },
  {
   "cell_type": "code",
   "execution_count": 2,
   "metadata": {},
   "outputs": [],
   "source": [
    "# read meta data\n",
    "df_meta = pd.read_csv('../../our_data/meta_data.csv', index_col=0)\n",
    "df_meta = df_meta[df_meta.Day == 0] # baseline microbiota\n",
    "\n",
    "# read bacterial relative abundance\n",
    "df_bac = pd.read_csv('../../our_data/16S_relative_abundance_species.csv', index_col=0)\n",
    "df_bac = df_bac.loc[df_meta.index]\n",
    "\n",
    "# remove species that are not present in all baseline\n",
    "df_bac = df_bac.loc[:, (df_bac != 0).any(axis=0)]"
   ]
  },
  {
   "cell_type": "markdown",
   "metadata": {},
   "source": [
    "# Presence/absence of Bifidobacterium across all baseline samples"
   ]
  },
  {
   "cell_type": "code",
   "execution_count": 3,
   "metadata": {},
   "outputs": [
    {
     "data": {
      "text/plain": [
       "0.1724137931034483"
      ]
     },
     "execution_count": 3,
     "metadata": {},
     "output_type": "execute_result"
    }
   ],
   "source": [
    "np.sum(df_bac['Bifidobacterium-choerinum']>=1e-5)/len(df_bac)"
   ]
  },
  {
   "cell_type": "code",
   "execution_count": 4,
   "metadata": {},
   "outputs": [
    {
     "data": {
      "text/plain": [
       "0.6551724137931034"
      ]
     },
     "execution_count": 4,
     "metadata": {},
     "output_type": "execute_result"
    }
   ],
   "source": [
    "np.sum(df_bac['Bifidobacterium']>=1e-5)/len(df_bac)"
   ]
  },
  {
   "cell_type": "markdown",
   "metadata": {},
   "source": [
    "# Presence/absence of Bifidobacterium in baseline samples of specific vendors"
   ]
  },
  {
   "cell_type": "code",
   "execution_count": 8,
   "metadata": {},
   "outputs": [
    {
     "name": "stdout",
     "output_type": "stream",
     "text": [
      "Beijing 0.6\n",
      "Guangdong 0.0\n",
      "Hunan 0.0\n",
      "Shanghai 0.06666666666666667\n"
     ]
    }
   ],
   "source": [
    "for vendor in ['Beijing','Guangdong','Hunan','Shanghai']:\n",
    "    df_bac_vendor = df_bac.loc[df_meta[df_meta.Vendor==vendor].index]\n",
    "    percent = np.sum(df_bac_vendor['Bifidobacterium-choerinum']>=1e-5)/len(df_bac_vendor)\n",
    "    print(vendor, percent)"
   ]
  },
  {
   "cell_type": "code",
   "execution_count": 9,
   "metadata": {},
   "outputs": [
    {
     "name": "stdout",
     "output_type": "stream",
     "text": [
      "Beijing 0.5333333333333333\n",
      "Guangdong 0.7857142857142857\n",
      "Hunan 0.5714285714285714\n",
      "Shanghai 0.7333333333333333\n"
     ]
    }
   ],
   "source": [
    "for vendor in ['Beijing','Guangdong','Hunan','Shanghai']:\n",
    "    df_bac_vendor = df_bac.loc[df_meta[df_meta.Vendor==vendor].index]\n",
    "    percent = np.sum(df_bac_vendor['Bifidobacterium']>=1e-5)/len(df_bac_vendor)\n",
    "    print(vendor, percent)"
   ]
  },
  {
   "cell_type": "code",
   "execution_count": null,
   "metadata": {},
   "outputs": [],
   "source": []
  }
 ],
 "metadata": {
  "kernelspec": {
   "display_name": "Python 3",
   "language": "python",
   "name": "python3"
  },
  "language_info": {
   "codemirror_mode": {
    "name": "ipython",
    "version": 3
   },
   "file_extension": ".py",
   "mimetype": "text/x-python",
   "name": "python",
   "nbconvert_exporter": "python",
   "pygments_lexer": "ipython3",
   "version": "3.8.5"
  }
 },
 "nbformat": 4,
 "nbformat_minor": 4
}
