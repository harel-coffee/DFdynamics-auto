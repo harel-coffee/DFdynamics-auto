{
 "cells": [
  {
   "cell_type": "code",
   "execution_count": 1,
   "metadata": {},
   "outputs": [],
   "source": [
    "import pandas as pd\n",
    "import matplotlib.pyplot as plt\n",
    "import seaborn as sns\n",
    "import numpy as np"
   ]
  },
  {
   "cell_type": "markdown",
   "metadata": {},
   "source": [
    "# Load data"
   ]
  },
  {
   "cell_type": "code",
   "execution_count": 2,
   "metadata": {},
   "outputs": [],
   "source": [
    "# read meta data\n",
    "df_meta = pd.read_csv('../../our_data/meta_data.csv', index_col=0)\n",
    "df_meta = df_meta[df_meta.Day == 0] # baseline microbiota\n",
    "\n",
    "# read bacterial relative abundance\n",
    "df_bac = pd.read_csv('../../our_data/16S_relative_abundance_species.csv', index_col=0)\n",
    "df_bac = df_bac.loc[df_meta.index]\n",
    "\n",
    "# remove species that are not present in all baseline\n",
    "df_bac = df_bac.loc[:, (df_bac != 0).any(axis=0)]"
   ]
  },
  {
   "cell_type": "markdown",
   "metadata": {},
   "source": [
    "# Presence/absence of Bifidobacterium across all baseline samples"
   ]
  },
  {
   "cell_type": "code",
   "execution_count": 3,
   "metadata": {},
   "outputs": [
    {
     "data": {
      "text/plain": [
       "0.1724137931034483"
      ]
     },
     "execution_count": 3,
     "metadata": {},
     "output_type": "execute_result"
    }
   ],
   "source": [
    "np.sum(df_bac['Bifidobacterium-choerinum']>=1e-5)/len(df_bac)"
   ]
  },
  {
   "cell_type": "code",
   "execution_count": 4,
   "metadata": {},
   "outputs": [
    {
     "data": {
      "text/plain": [
       "0.6551724137931034"
      ]
     },
     "execution_count": 4,
     "metadata": {},
     "output_type": "execute_result"
    }
   ],
   "source": [
    "np.sum(df_bac['Bifidobacterium']>=1e-5)/len(df_bac)"
   ]
  },
  {
   "cell_type": "markdown",
   "metadata": {},
   "source": [
    "# Presence/absence of Bifidobacterium in baseline samples of specific vendors"
   ]
  },
  {
   "cell_type": "code",
   "execution_count": 20,
   "metadata": {},
   "outputs": [
    {
     "name": "stdout",
     "output_type": "stream",
     "text": [
      "Beijing 0.6\n",
      "Guangdong 0.0\n",
      "Hunan 0.0\n",
      "Shanghai 0.06666666666666667\n"
     ]
    },
    {
     "ename": "AssertionError",
     "evalue": "",
     "output_type": "error",
     "traceback": [
      "\u001b[0;31m---------------------------------------------------------------------------\u001b[0m",
      "\u001b[0;31mAssertionError\u001b[0m                            Traceback (most recent call last)",
      "\u001b[0;32m<ipython-input-20-9646da7fc67f>\u001b[0m in \u001b[0;36m<module>\u001b[0;34m\u001b[0m\n\u001b[1;32m      5\u001b[0m \u001b[0;34m\u001b[0m\u001b[0m\n\u001b[1;32m      6\u001b[0m     \u001b[0;32mif\u001b[0m \u001b[0mvendor\u001b[0m\u001b[0;34m==\u001b[0m\u001b[0;34m'Shanghai'\u001b[0m\u001b[0;34m:\u001b[0m\u001b[0;34m\u001b[0m\u001b[0;34m\u001b[0m\u001b[0m\n\u001b[0;32m----> 7\u001b[0;31m         \u001b[0;32massert\u001b[0m \u001b[0;36m0\u001b[0m\u001b[0;34m\u001b[0m\u001b[0;34m\u001b[0m\u001b[0m\n\u001b[0m",
      "\u001b[0;31mAssertionError\u001b[0m: "
     ]
    }
   ],
   "source": [
    "for vendor in ['Beijing','Guangdong','Hunan','Shanghai']:\n",
    "    df_bac_vendor = df_bac.loc[df_meta[df_meta.Vendor==vendor].index]\n",
    "    percent = np.sum(df_bac_vendor['Bifidobacterium-choerinum']>=1e-5)/len(df_bac_vendor)\n",
    "    print(vendor, percent)\n",
    "    \n",
    "    if vendor=='Shanghai':\n",
    "        assert 0"
   ]
  },
  {
   "cell_type": "code",
   "execution_count": 21,
   "metadata": {},
   "outputs": [
    {
     "data": {
      "text/plain": [
       "SampleID\n",
       "sample1     0.00000\n",
       "sample2     0.00000\n",
       "sample3     0.00000\n",
       "sample4     0.00007\n",
       "sample5     0.00000\n",
       "sample6     0.00000\n",
       "sample7     0.00000\n",
       "sample8     0.00000\n",
       "sample9     0.00000\n",
       "sample10    0.00000\n",
       "sample31    0.00000\n",
       "sample32    0.00000\n",
       "sample33    0.00000\n",
       "sample34    0.00000\n",
       "sample35    0.00000\n",
       "Name: Bifidobacterium-choerinum, dtype: float64"
      ]
     },
     "execution_count": 21,
     "metadata": {},
     "output_type": "execute_result"
    }
   ],
   "source": [
    "df_bac_vendor['Bifidobacterium-choerinum']"
   ]
  },
  {
   "cell_type": "code",
   "execution_count": 9,
   "metadata": {},
   "outputs": [
    {
     "name": "stdout",
     "output_type": "stream",
     "text": [
      "Beijing 0.5333333333333333\n",
      "Guangdong 0.7857142857142857\n",
      "Hunan 0.5714285714285714\n",
      "Shanghai 0.7333333333333333\n"
     ]
    }
   ],
   "source": [
    "for vendor in ['Beijing','Guangdong','Hunan','Shanghai']:\n",
    "    df_bac_vendor = df_bac.loc[df_meta[df_meta.Vendor==vendor].index]\n",
    "    percent = np.sum(df_bac_vendor['Bifidobacterium']>=1e-5)/len(df_bac_vendor)\n",
    "    print(vendor, percent)"
   ]
  },
  {
   "cell_type": "code",
   "execution_count": null,
   "metadata": {},
   "outputs": [],
   "source": []
  }
 ],
 "metadata": {
  "kernelspec": {
   "display_name": "Python 3",
   "language": "python",
   "name": "python3"
  },
  "language_info": {
   "codemirror_mode": {
    "name": "ipython",
    "version": 3
   },
   "file_extension": ".py",
   "mimetype": "text/x-python",
   "name": "python",
   "nbconvert_exporter": "python",
   "pygments_lexer": "ipython3",
   "version": "3.8.5"
  }
 },
 "nbformat": 4,
 "nbformat_minor": 4
}
