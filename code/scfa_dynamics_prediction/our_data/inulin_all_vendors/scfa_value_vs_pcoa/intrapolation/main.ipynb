{
 "cells": [
  {
   "cell_type": "code",
   "execution_count": 1,
   "metadata": {},
   "outputs": [],
   "source": [
    "import matplotlib.pyplot as plt\n",
    "import seaborn as sns\n",
    "import pandas as pd\n",
    "from sklearn.metrics import r2_score\n",
    "%run -i '../../../../../../utils.py'"
   ]
  },
  {
   "cell_type": "markdown",
   "metadata": {},
   "source": [
    "# Get data"
   ]
  },
  {
   "cell_type": "code",
   "execution_count": 2,
   "metadata": {},
   "outputs": [
    {
     "data": {
      "text/html": [
       "<div>\n",
       "<style scoped>\n",
       "    .dataframe tbody tr th:only-of-type {\n",
       "        vertical-align: middle;\n",
       "    }\n",
       "\n",
       "    .dataframe tbody tr th {\n",
       "        vertical-align: top;\n",
       "    }\n",
       "\n",
       "    .dataframe thead th {\n",
       "        text-align: right;\n",
       "    }\n",
       "</style>\n",
       "<table border=\"1\" class=\"dataframe\">\n",
       "  <thead>\n",
       "    <tr style=\"text-align: right;\">\n",
       "      <th></th>\n",
       "      <th>SubjectID</th>\n",
       "      <th>Vendor</th>\n",
       "      <th>Day</th>\n",
       "      <th>RandomizedGroup</th>\n",
       "    </tr>\n",
       "    <tr>\n",
       "      <th>SampleID</th>\n",
       "      <th></th>\n",
       "      <th></th>\n",
       "      <th></th>\n",
       "      <th></th>\n",
       "    </tr>\n",
       "  </thead>\n",
       "  <tbody>\n",
       "    <tr>\n",
       "      <th>sample141</th>\n",
       "      <td>BI1</td>\n",
       "      <td>Beijing</td>\n",
       "      <td>0</td>\n",
       "      <td>A</td>\n",
       "    </tr>\n",
       "    <tr>\n",
       "      <th>sample142</th>\n",
       "      <td>BI2</td>\n",
       "      <td>Beijing</td>\n",
       "      <td>0</td>\n",
       "      <td>B</td>\n",
       "    </tr>\n",
       "    <tr>\n",
       "      <th>sample143</th>\n",
       "      <td>BI3</td>\n",
       "      <td>Beijing</td>\n",
       "      <td>0</td>\n",
       "      <td>D</td>\n",
       "    </tr>\n",
       "    <tr>\n",
       "      <th>sample144</th>\n",
       "      <td>BI4</td>\n",
       "      <td>Beijing</td>\n",
       "      <td>0</td>\n",
       "      <td>E</td>\n",
       "    </tr>\n",
       "    <tr>\n",
       "      <th>sample145</th>\n",
       "      <td>BI5</td>\n",
       "      <td>Beijing</td>\n",
       "      <td>0</td>\n",
       "      <td>C</td>\n",
       "    </tr>\n",
       "  </tbody>\n",
       "</table>\n",
       "</div>"
      ],
      "text/plain": [
       "          SubjectID   Vendor  Day RandomizedGroup\n",
       "SampleID                                         \n",
       "sample141       BI1  Beijing    0               A\n",
       "sample142       BI2  Beijing    0               B\n",
       "sample143       BI3  Beijing    0               D\n",
       "sample144       BI4  Beijing    0               E\n",
       "sample145       BI5  Beijing    0               C"
      ]
     },
     "execution_count": 2,
     "metadata": {},
     "output_type": "execute_result"
    }
   ],
   "source": [
    "# read meta data\n",
    "df_meta = pd.read_excel('../../../../../../our_data/meta_data.xlsx', index_col=0)\n",
    "df_meta = df_meta[df_meta.Diet=='Inulin']\n",
    "df_meta = df_meta.drop('Diet', axis=1)\n",
    "df_meta = df_meta.rename({'MiceID':'SubjectID'}, axis=1)\n",
    "df_meta.head()"
   ]
  },
  {
   "cell_type": "code",
   "execution_count": 3,
   "metadata": {},
   "outputs": [
    {
     "data": {
      "text/html": [
       "<div>\n",
       "<style scoped>\n",
       "    .dataframe tbody tr th:only-of-type {\n",
       "        vertical-align: middle;\n",
       "    }\n",
       "\n",
       "    .dataframe tbody tr th {\n",
       "        vertical-align: top;\n",
       "    }\n",
       "\n",
       "    .dataframe thead th {\n",
       "        text-align: right;\n",
       "    }\n",
       "</style>\n",
       "<table border=\"1\" class=\"dataframe\">\n",
       "  <thead>\n",
       "    <tr style=\"text-align: right;\">\n",
       "      <th></th>\n",
       "      <th>Acetate</th>\n",
       "      <th>Propionate</th>\n",
       "      <th>Butyrate</th>\n",
       "    </tr>\n",
       "    <tr>\n",
       "      <th>SampleID</th>\n",
       "      <th></th>\n",
       "      <th></th>\n",
       "      <th></th>\n",
       "    </tr>\n",
       "  </thead>\n",
       "  <tbody>\n",
       "    <tr>\n",
       "      <th>sample36</th>\n",
       "      <td>1.372492</td>\n",
       "      <td>0.463378</td>\n",
       "      <td>0.553858</td>\n",
       "    </tr>\n",
       "    <tr>\n",
       "      <th>sample86</th>\n",
       "      <td>2.019028</td>\n",
       "      <td>0.644090</td>\n",
       "      <td>0.757294</td>\n",
       "    </tr>\n",
       "    <tr>\n",
       "      <th>sample277</th>\n",
       "      <td>2.061243</td>\n",
       "      <td>1.140312</td>\n",
       "      <td>1.142147</td>\n",
       "    </tr>\n",
       "    <tr>\n",
       "      <th>sample116</th>\n",
       "      <td>2.066010</td>\n",
       "      <td>0.856857</td>\n",
       "      <td>0.582644</td>\n",
       "    </tr>\n",
       "    <tr>\n",
       "      <th>sample69</th>\n",
       "      <td>2.644383</td>\n",
       "      <td>0.955464</td>\n",
       "      <td>0.682562</td>\n",
       "    </tr>\n",
       "  </tbody>\n",
       "</table>\n",
       "</div>"
      ],
      "text/plain": [
       "            Acetate  Propionate  Butyrate\n",
       "SampleID                                 \n",
       "sample36   1.372492    0.463378  0.553858\n",
       "sample86   2.019028    0.644090  0.757294\n",
       "sample277  2.061243    1.140312  1.142147\n",
       "sample116  2.066010    0.856857  0.582644\n",
       "sample69   2.644383    0.955464  0.682562"
      ]
     },
     "execution_count": 3,
     "metadata": {},
     "output_type": "execute_result"
    }
   ],
   "source": [
    "# read SCFA data\n",
    "df_scfa = pd.read_excel('../../../../../../our_data/SCFA.xlsx', index_col=0)\n",
    "df_scfa.head()"
   ]
  },
  {
   "cell_type": "code",
   "execution_count": 4,
   "metadata": {},
   "outputs": [
    {
     "data": {
      "text/html": [
       "<div>\n",
       "<style scoped>\n",
       "    .dataframe tbody tr th:only-of-type {\n",
       "        vertical-align: middle;\n",
       "    }\n",
       "\n",
       "    .dataframe tbody tr th {\n",
       "        vertical-align: top;\n",
       "    }\n",
       "\n",
       "    .dataframe thead th {\n",
       "        text-align: right;\n",
       "    }\n",
       "</style>\n",
       "<table border=\"1\" class=\"dataframe\">\n",
       "  <thead>\n",
       "    <tr style=\"text-align: right;\">\n",
       "      <th></th>\n",
       "      <th>A2</th>\n",
       "      <th>ASF356</th>\n",
       "      <th>Acetatifactor</th>\n",
       "      <th>Acetatifactor-muris</th>\n",
       "      <th>Acidovorax</th>\n",
       "      <th>Acinetobacter</th>\n",
       "      <th>Acinetobacter-sp.-CIP-56.2</th>\n",
       "      <th>Acutalibacter-muris</th>\n",
       "      <th>Adlercreutzia-mucosicola</th>\n",
       "      <th>Adlercreutzia-muris</th>\n",
       "      <th>...</th>\n",
       "      <th>[Eubacterium]-ventriosum-group</th>\n",
       "      <th>[Eubacterium]-xylanophilum-group</th>\n",
       "      <th>[Ruminococcus]-gnavus-group</th>\n",
       "      <th>[Ruminococcus]-torques-group</th>\n",
       "      <th>bacterium-enrichment-culture-clone-M153</th>\n",
       "      <th>gut-metagenome</th>\n",
       "      <th>human-gut-metagenome</th>\n",
       "      <th>marine-metagenome</th>\n",
       "      <th>metagenome</th>\n",
       "      <th>mouse-gut-metagenome</th>\n",
       "    </tr>\n",
       "    <tr>\n",
       "      <th>SampleID</th>\n",
       "      <th></th>\n",
       "      <th></th>\n",
       "      <th></th>\n",
       "      <th></th>\n",
       "      <th></th>\n",
       "      <th></th>\n",
       "      <th></th>\n",
       "      <th></th>\n",
       "      <th></th>\n",
       "      <th></th>\n",
       "      <th></th>\n",
       "      <th></th>\n",
       "      <th></th>\n",
       "      <th></th>\n",
       "      <th></th>\n",
       "      <th></th>\n",
       "      <th></th>\n",
       "      <th></th>\n",
       "      <th></th>\n",
       "      <th></th>\n",
       "      <th></th>\n",
       "    </tr>\n",
       "  </thead>\n",
       "  <tbody>\n",
       "    <tr>\n",
       "      <th>sample131</th>\n",
       "      <td>0.0</td>\n",
       "      <td>0.000291</td>\n",
       "      <td>0.000019</td>\n",
       "      <td>0.0</td>\n",
       "      <td>0.0</td>\n",
       "      <td>0.0</td>\n",
       "      <td>0.0</td>\n",
       "      <td>0.0</td>\n",
       "      <td>0.000000</td>\n",
       "      <td>0.0</td>\n",
       "      <td>...</td>\n",
       "      <td>0.0</td>\n",
       "      <td>0.000170</td>\n",
       "      <td>0.0</td>\n",
       "      <td>0.0</td>\n",
       "      <td>0.0</td>\n",
       "      <td>0.000444</td>\n",
       "      <td>0.0</td>\n",
       "      <td>0.0</td>\n",
       "      <td>0.0</td>\n",
       "      <td>0.000356</td>\n",
       "    </tr>\n",
       "    <tr>\n",
       "      <th>sample132</th>\n",
       "      <td>0.0</td>\n",
       "      <td>0.001090</td>\n",
       "      <td>0.000135</td>\n",
       "      <td>0.0</td>\n",
       "      <td>0.0</td>\n",
       "      <td>0.0</td>\n",
       "      <td>0.0</td>\n",
       "      <td>0.0</td>\n",
       "      <td>0.000000</td>\n",
       "      <td>0.0</td>\n",
       "      <td>...</td>\n",
       "      <td>0.0</td>\n",
       "      <td>0.000215</td>\n",
       "      <td>0.0</td>\n",
       "      <td>0.0</td>\n",
       "      <td>0.0</td>\n",
       "      <td>0.000286</td>\n",
       "      <td>0.0</td>\n",
       "      <td>0.0</td>\n",
       "      <td>0.0</td>\n",
       "      <td>0.002698</td>\n",
       "    </tr>\n",
       "    <tr>\n",
       "      <th>sample133</th>\n",
       "      <td>0.0</td>\n",
       "      <td>0.000097</td>\n",
       "      <td>0.000122</td>\n",
       "      <td>0.0</td>\n",
       "      <td>0.0</td>\n",
       "      <td>0.0</td>\n",
       "      <td>0.0</td>\n",
       "      <td>0.0</td>\n",
       "      <td>0.000000</td>\n",
       "      <td>0.0</td>\n",
       "      <td>...</td>\n",
       "      <td>0.0</td>\n",
       "      <td>0.000000</td>\n",
       "      <td>0.0</td>\n",
       "      <td>0.0</td>\n",
       "      <td>0.0</td>\n",
       "      <td>0.000597</td>\n",
       "      <td>0.0</td>\n",
       "      <td>0.0</td>\n",
       "      <td>0.0</td>\n",
       "      <td>0.000502</td>\n",
       "    </tr>\n",
       "    <tr>\n",
       "      <th>sample134</th>\n",
       "      <td>0.0</td>\n",
       "      <td>0.001303</td>\n",
       "      <td>0.000027</td>\n",
       "      <td>0.0</td>\n",
       "      <td>0.0</td>\n",
       "      <td>0.0</td>\n",
       "      <td>0.0</td>\n",
       "      <td>0.0</td>\n",
       "      <td>0.000000</td>\n",
       "      <td>0.0</td>\n",
       "      <td>...</td>\n",
       "      <td>0.0</td>\n",
       "      <td>0.000285</td>\n",
       "      <td>0.0</td>\n",
       "      <td>0.0</td>\n",
       "      <td>0.0</td>\n",
       "      <td>0.002473</td>\n",
       "      <td>0.0</td>\n",
       "      <td>0.0</td>\n",
       "      <td>0.0</td>\n",
       "      <td>0.002344</td>\n",
       "    </tr>\n",
       "    <tr>\n",
       "      <th>sample135</th>\n",
       "      <td>0.0</td>\n",
       "      <td>0.000246</td>\n",
       "      <td>0.000114</td>\n",
       "      <td>0.0</td>\n",
       "      <td>0.0</td>\n",
       "      <td>0.0</td>\n",
       "      <td>0.0</td>\n",
       "      <td>0.0</td>\n",
       "      <td>0.000034</td>\n",
       "      <td>0.0</td>\n",
       "      <td>...</td>\n",
       "      <td>0.0</td>\n",
       "      <td>0.000000</td>\n",
       "      <td>0.0</td>\n",
       "      <td>0.0</td>\n",
       "      <td>0.0</td>\n",
       "      <td>0.001565</td>\n",
       "      <td>0.0</td>\n",
       "      <td>0.0</td>\n",
       "      <td>0.0</td>\n",
       "      <td>0.001435</td>\n",
       "    </tr>\n",
       "  </tbody>\n",
       "</table>\n",
       "<p>5 rows × 304 columns</p>\n",
       "</div>"
      ],
      "text/plain": [
       "            A2    ASF356  Acetatifactor  Acetatifactor-muris  Acidovorax  \\\n",
       "SampleID                                                                   \n",
       "sample131  0.0  0.000291       0.000019                  0.0         0.0   \n",
       "sample132  0.0  0.001090       0.000135                  0.0         0.0   \n",
       "sample133  0.0  0.000097       0.000122                  0.0         0.0   \n",
       "sample134  0.0  0.001303       0.000027                  0.0         0.0   \n",
       "sample135  0.0  0.000246       0.000114                  0.0         0.0   \n",
       "\n",
       "           Acinetobacter  Acinetobacter-sp.-CIP-56.2  Acutalibacter-muris  \\\n",
       "SampleID                                                                    \n",
       "sample131            0.0                         0.0                  0.0   \n",
       "sample132            0.0                         0.0                  0.0   \n",
       "sample133            0.0                         0.0                  0.0   \n",
       "sample134            0.0                         0.0                  0.0   \n",
       "sample135            0.0                         0.0                  0.0   \n",
       "\n",
       "           Adlercreutzia-mucosicola  Adlercreutzia-muris  ...  \\\n",
       "SampleID                                                  ...   \n",
       "sample131                  0.000000                  0.0  ...   \n",
       "sample132                  0.000000                  0.0  ...   \n",
       "sample133                  0.000000                  0.0  ...   \n",
       "sample134                  0.000000                  0.0  ...   \n",
       "sample135                  0.000034                  0.0  ...   \n",
       "\n",
       "           [Eubacterium]-ventriosum-group  [Eubacterium]-xylanophilum-group  \\\n",
       "SampleID                                                                      \n",
       "sample131                             0.0                          0.000170   \n",
       "sample132                             0.0                          0.000215   \n",
       "sample133                             0.0                          0.000000   \n",
       "sample134                             0.0                          0.000285   \n",
       "sample135                             0.0                          0.000000   \n",
       "\n",
       "           [Ruminococcus]-gnavus-group  [Ruminococcus]-torques-group  \\\n",
       "SampleID                                                               \n",
       "sample131                          0.0                           0.0   \n",
       "sample132                          0.0                           0.0   \n",
       "sample133                          0.0                           0.0   \n",
       "sample134                          0.0                           0.0   \n",
       "sample135                          0.0                           0.0   \n",
       "\n",
       "           bacterium-enrichment-culture-clone-M153  gut-metagenome  \\\n",
       "SampleID                                                             \n",
       "sample131                                      0.0        0.000444   \n",
       "sample132                                      0.0        0.000286   \n",
       "sample133                                      0.0        0.000597   \n",
       "sample134                                      0.0        0.002473   \n",
       "sample135                                      0.0        0.001565   \n",
       "\n",
       "           human-gut-metagenome  marine-metagenome  metagenome  \\\n",
       "SampleID                                                         \n",
       "sample131                   0.0                0.0         0.0   \n",
       "sample132                   0.0                0.0         0.0   \n",
       "sample133                   0.0                0.0         0.0   \n",
       "sample134                   0.0                0.0         0.0   \n",
       "sample135                   0.0                0.0         0.0   \n",
       "\n",
       "           mouse-gut-metagenome  \n",
       "SampleID                         \n",
       "sample131              0.000356  \n",
       "sample132              0.002698  \n",
       "sample133              0.000502  \n",
       "sample134              0.002344  \n",
       "sample135              0.001435  \n",
       "\n",
       "[5 rows x 304 columns]"
      ]
     },
     "execution_count": 4,
     "metadata": {},
     "output_type": "execute_result"
    }
   ],
   "source": [
    "# read bacterial abundance\n",
    "df_bac = pd.read_excel('../../../../../../our_data/16S_absolute_abundance.xlsx', index_col=0)\n",
    "df_bac = df_bac/df_bac.max().max()\n",
    "df_bac.head()"
   ]
  },
  {
   "cell_type": "markdown",
   "metadata": {},
   "source": [
    "# Run RandomForest"
   ]
  },
  {
   "cell_type": "code",
   "execution_count": 5,
   "metadata": {
    "scrolled": true
   },
   "outputs": [
    {
     "name": "stdout",
     "output_type": "stream",
     "text": [
      "Fitting 5 folds for each of 480 candidates, totalling 2400 fits\n"
     ]
    },
    {
     "name": "stderr",
     "output_type": "stream",
     "text": [
      "[Parallel(n_jobs=-1)]: Using backend LokyBackend with 36 concurrent workers.\n",
      "[Parallel(n_jobs=-1)]: Done  90 tasks      | elapsed:   11.4s\n",
      "[Parallel(n_jobs=-1)]: Done 293 tasks      | elapsed:   35.4s\n",
      "[Parallel(n_jobs=-1)]: Done 576 tasks      | elapsed:  1.4min\n",
      "[Parallel(n_jobs=-1)]: Done 941 tasks      | elapsed:  2.5min\n",
      "[Parallel(n_jobs=-1)]: Done 1386 tasks      | elapsed:  3.8min\n",
      "[Parallel(n_jobs=-1)]: Done 1913 tasks      | elapsed:  5.3min\n",
      "[Parallel(n_jobs=-1)]: Done 2400 out of 2400 | elapsed:  6.6min finished\n"
     ]
    },
    {
     "name": "stdout",
     "output_type": "stream",
     "text": [
      "Fitting 5 folds for each of 480 candidates, totalling 2400 fits\n"
     ]
    },
    {
     "name": "stderr",
     "output_type": "stream",
     "text": [
      "[Parallel(n_jobs=-1)]: Using backend LokyBackend with 36 concurrent workers.\n",
      "[Parallel(n_jobs=-1)]: Done  90 tasks      | elapsed:   19.4s\n",
      "[Parallel(n_jobs=-1)]: Done 293 tasks      | elapsed:   43.2s\n",
      "[Parallel(n_jobs=-1)]: Done 576 tasks      | elapsed:  1.5min\n",
      "[Parallel(n_jobs=-1)]: Done 941 tasks      | elapsed:  2.6min\n",
      "[Parallel(n_jobs=-1)]: Done 1386 tasks      | elapsed:  3.9min\n",
      "[Parallel(n_jobs=-1)]: Done 1913 tasks      | elapsed:  5.3min\n",
      "[Parallel(n_jobs=-1)]: Done 2400 out of 2400 | elapsed:  6.6min finished\n"
     ]
    },
    {
     "name": "stdout",
     "output_type": "stream",
     "text": [
      "Fitting 5 folds for each of 480 candidates, totalling 2400 fits\n"
     ]
    },
    {
     "name": "stderr",
     "output_type": "stream",
     "text": [
      "[Parallel(n_jobs=-1)]: Using backend LokyBackend with 36 concurrent workers.\n",
      "[Parallel(n_jobs=-1)]: Done  90 tasks      | elapsed:   18.9s\n",
      "[Parallel(n_jobs=-1)]: Done 293 tasks      | elapsed:   48.6s\n",
      "[Parallel(n_jobs=-1)]: Done 576 tasks      | elapsed:  1.6min\n",
      "[Parallel(n_jobs=-1)]: Done 941 tasks      | elapsed:  2.6min\n",
      "[Parallel(n_jobs=-1)]: Done 1386 tasks      | elapsed:  3.9min\n",
      "[Parallel(n_jobs=-1)]: Done 1913 tasks      | elapsed:  5.4min\n",
      "[Parallel(n_jobs=-1)]: Done 2400 out of 2400 | elapsed:  6.6min finished\n"
     ]
    },
    {
     "name": "stdout",
     "output_type": "stream",
     "text": [
      "Fitting 5 folds for each of 480 candidates, totalling 2400 fits\n"
     ]
    },
    {
     "name": "stderr",
     "output_type": "stream",
     "text": [
      "[Parallel(n_jobs=-1)]: Using backend LokyBackend with 36 concurrent workers.\n",
      "[Parallel(n_jobs=-1)]: Done  90 tasks      | elapsed:   19.8s\n",
      "[Parallel(n_jobs=-1)]: Done 293 tasks      | elapsed:   48.8s\n",
      "[Parallel(n_jobs=-1)]: Done 576 tasks      | elapsed:  1.6min\n",
      "[Parallel(n_jobs=-1)]: Done 941 tasks      | elapsed:  2.7min\n",
      "[Parallel(n_jobs=-1)]: Done 1386 tasks      | elapsed:  4.0min\n",
      "[Parallel(n_jobs=-1)]: Done 1913 tasks      | elapsed:  5.5min\n",
      "[Parallel(n_jobs=-1)]: Done 2400 out of 2400 | elapsed:  6.8min finished\n"
     ]
    },
    {
     "name": "stdout",
     "output_type": "stream",
     "text": [
      "Fitting 5 folds for each of 480 candidates, totalling 2400 fits\n"
     ]
    },
    {
     "name": "stderr",
     "output_type": "stream",
     "text": [
      "[Parallel(n_jobs=-1)]: Using backend LokyBackend with 36 concurrent workers.\n",
      "[Parallel(n_jobs=-1)]: Done  90 tasks      | elapsed:   19.4s\n",
      "[Parallel(n_jobs=-1)]: Done 293 tasks      | elapsed:   48.7s\n",
      "[Parallel(n_jobs=-1)]: Done 576 tasks      | elapsed:  1.6min\n",
      "[Parallel(n_jobs=-1)]: Done 941 tasks      | elapsed:  2.7min\n",
      "[Parallel(n_jobs=-1)]: Done 1386 tasks      | elapsed:  3.9min\n",
      "[Parallel(n_jobs=-1)]: Done 1913 tasks      | elapsed:  5.4min\n",
      "[Parallel(n_jobs=-1)]: Done 2400 out of 2400 | elapsed:  6.6min finished\n"
     ]
    },
    {
     "name": "stdout",
     "output_type": "stream",
     "text": [
      "Fitting 5 folds for each of 480 candidates, totalling 2400 fits\n"
     ]
    },
    {
     "name": "stderr",
     "output_type": "stream",
     "text": [
      "[Parallel(n_jobs=-1)]: Using backend LokyBackend with 36 concurrent workers.\n",
      "[Parallel(n_jobs=-1)]: Done  90 tasks      | elapsed:   18.7s\n",
      "[Parallel(n_jobs=-1)]: Done 293 tasks      | elapsed:   48.3s\n",
      "[Parallel(n_jobs=-1)]: Done 576 tasks      | elapsed:  1.6min\n",
      "[Parallel(n_jobs=-1)]: Done 941 tasks      | elapsed:  2.6min\n",
      "[Parallel(n_jobs=-1)]: Done 1386 tasks      | elapsed:  4.0min\n",
      "[Parallel(n_jobs=-1)]: Done 1913 tasks      | elapsed:  5.4min\n",
      "[Parallel(n_jobs=-1)]: Done 2400 out of 2400 | elapsed:  6.6min finished\n"
     ]
    },
    {
     "name": "stdout",
     "output_type": "stream",
     "text": [
      "Fitting 5 folds for each of 480 candidates, totalling 2400 fits\n"
     ]
    },
    {
     "name": "stderr",
     "output_type": "stream",
     "text": [
      "[Parallel(n_jobs=-1)]: Using backend LokyBackend with 36 concurrent workers.\n",
      "[Parallel(n_jobs=-1)]: Done  90 tasks      | elapsed:   20.4s\n",
      "[Parallel(n_jobs=-1)]: Done 293 tasks      | elapsed:   49.0s\n",
      "[Parallel(n_jobs=-1)]: Done 576 tasks      | elapsed:  1.6min\n",
      "[Parallel(n_jobs=-1)]: Done 941 tasks      | elapsed:  2.8min\n",
      "[Parallel(n_jobs=-1)]: Done 1386 tasks      | elapsed:  4.1min\n",
      "[Parallel(n_jobs=-1)]: Done 1913 tasks      | elapsed:  5.5min\n",
      "[Parallel(n_jobs=-1)]: Done 2400 out of 2400 | elapsed:  6.7min finished\n"
     ]
    },
    {
     "name": "stdout",
     "output_type": "stream",
     "text": [
      "Fitting 5 folds for each of 480 candidates, totalling 2400 fits\n"
     ]
    },
    {
     "name": "stderr",
     "output_type": "stream",
     "text": [
      "[Parallel(n_jobs=-1)]: Using backend LokyBackend with 36 concurrent workers.\n",
      "[Parallel(n_jobs=-1)]: Done  90 tasks      | elapsed:   18.1s\n",
      "[Parallel(n_jobs=-1)]: Done 293 tasks      | elapsed:   46.6s\n",
      "[Parallel(n_jobs=-1)]: Done 576 tasks      | elapsed:  1.5min\n",
      "[Parallel(n_jobs=-1)]: Done 941 tasks      | elapsed:  2.6min\n",
      "[Parallel(n_jobs=-1)]: Done 1386 tasks      | elapsed:  3.8min\n",
      "[Parallel(n_jobs=-1)]: Done 1913 tasks      | elapsed:  5.2min\n",
      "[Parallel(n_jobs=-1)]: Done 2400 out of 2400 | elapsed:  6.3min finished\n"
     ]
    },
    {
     "name": "stdout",
     "output_type": "stream",
     "text": [
      "Fitting 5 folds for each of 480 candidates, totalling 2400 fits\n"
     ]
    },
    {
     "name": "stderr",
     "output_type": "stream",
     "text": [
      "[Parallel(n_jobs=-1)]: Using backend LokyBackend with 36 concurrent workers.\n",
      "[Parallel(n_jobs=-1)]: Done  90 tasks      | elapsed:   18.2s\n",
      "[Parallel(n_jobs=-1)]: Done 293 tasks      | elapsed:   46.6s\n",
      "[Parallel(n_jobs=-1)]: Done 576 tasks      | elapsed:  1.5min\n",
      "[Parallel(n_jobs=-1)]: Done 941 tasks      | elapsed:  2.6min\n",
      "[Parallel(n_jobs=-1)]: Done 1386 tasks      | elapsed:  3.9min\n",
      "[Parallel(n_jobs=-1)]: Done 1913 tasks      | elapsed:  5.3min\n",
      "[Parallel(n_jobs=-1)]: Done 2400 out of 2400 | elapsed:  6.5min finished\n"
     ]
    },
    {
     "name": "stdout",
     "output_type": "stream",
     "text": [
      "Fitting 5 folds for each of 480 candidates, totalling 2400 fits\n"
     ]
    },
    {
     "name": "stderr",
     "output_type": "stream",
     "text": [
      "[Parallel(n_jobs=-1)]: Using backend LokyBackend with 36 concurrent workers.\n",
      "[Parallel(n_jobs=-1)]: Done  90 tasks      | elapsed:   19.4s\n",
      "[Parallel(n_jobs=-1)]: Done 293 tasks      | elapsed:   48.3s\n",
      "[Parallel(n_jobs=-1)]: Done 576 tasks      | elapsed:  1.6min\n",
      "[Parallel(n_jobs=-1)]: Done 941 tasks      | elapsed:  2.7min\n",
      "[Parallel(n_jobs=-1)]: Done 1386 tasks      | elapsed:  4.0min\n",
      "[Parallel(n_jobs=-1)]: Done 1913 tasks      | elapsed:  5.5min\n",
      "[Parallel(n_jobs=-1)]: Done 2400 out of 2400 | elapsed:  6.7min finished\n"
     ]
    },
    {
     "name": "stdout",
     "output_type": "stream",
     "text": [
      "Fitting 5 folds for each of 480 candidates, totalling 2400 fits\n"
     ]
    },
    {
     "name": "stderr",
     "output_type": "stream",
     "text": [
      "[Parallel(n_jobs=-1)]: Using backend LokyBackend with 36 concurrent workers.\n",
      "[Parallel(n_jobs=-1)]: Done  90 tasks      | elapsed:   19.7s\n",
      "[Parallel(n_jobs=-1)]: Done 293 tasks      | elapsed:   50.2s\n",
      "[Parallel(n_jobs=-1)]: Done 576 tasks      | elapsed:  1.6min\n",
      "[Parallel(n_jobs=-1)]: Done 941 tasks      | elapsed:  2.7min\n",
      "[Parallel(n_jobs=-1)]: Done 1386 tasks      | elapsed:  4.1min\n",
      "[Parallel(n_jobs=-1)]: Done 1913 tasks      | elapsed:  5.5min\n",
      "[Parallel(n_jobs=-1)]: Done 2400 out of 2400 | elapsed:  6.8min finished\n"
     ]
    },
    {
     "name": "stdout",
     "output_type": "stream",
     "text": [
      "Fitting 5 folds for each of 480 candidates, totalling 2400 fits\n"
     ]
    },
    {
     "name": "stderr",
     "output_type": "stream",
     "text": [
      "[Parallel(n_jobs=-1)]: Using backend LokyBackend with 36 concurrent workers.\n",
      "[Parallel(n_jobs=-1)]: Done  90 tasks      | elapsed:   16.2s\n",
      "[Parallel(n_jobs=-1)]: Done 293 tasks      | elapsed:   48.6s\n",
      "[Parallel(n_jobs=-1)]: Done 576 tasks      | elapsed:  1.6min\n",
      "[Parallel(n_jobs=-1)]: Done 941 tasks      | elapsed:  2.6min\n",
      "[Parallel(n_jobs=-1)]: Done 1386 tasks      | elapsed:  3.9min\n",
      "[Parallel(n_jobs=-1)]: Done 1913 tasks      | elapsed:  5.4min\n",
      "[Parallel(n_jobs=-1)]: Done 2400 out of 2400 | elapsed:  6.6min finished\n"
     ]
    }
   ],
   "source": [
    "for group_to_exclude in ['A','B','C','D']:\n",
    "    df_rf_reg, df_rf_opt_paras, _ = train_scfa_dynamics_model(\n",
    "        df_meta = df_meta, \n",
    "        df_bac = df_bac, \n",
    "        df_scfa = df_scfa, \n",
    "        target_scfa=['Acetate','Butyrate','Propionate'],\n",
    "        topN=40,\n",
    "        exclude_group=group_to_exclude,\n",
    "        exclude_vendor=None,\n",
    "        model='RandomForest',\n",
    "        use_deriv_scfa=False,\n",
    "        use_deriv_microbiome=False,\n",
    "        use_pcoa=True\n",
    "    )\n",
    "    df_rf_opt_paras.to_csv('optimal_rf_parameters_exclude_group%s.csv'%(group_to_exclude))\n",
    "    df_rf_reg.to_csv('rf_regression_exclude_group%s.csv'%(group_to_exclude))"
   ]
  },
  {
   "cell_type": "code",
   "execution_count": 6,
   "metadata": {},
   "outputs": [],
   "source": [
    "df_train_error = None\n",
    "for idx, group_to_exclude in enumerate(['A','B','C','D']):\n",
    "    df_tmp = get_rf_training_error(\n",
    "        df_meta = df_meta, \n",
    "        df_bac = df_bac, \n",
    "        df_scfa = df_scfa, \n",
    "        target_scfa=['Acetate','Butyrate','Propionate'],\n",
    "        topN=40,\n",
    "        exclude_group=group_to_exclude,\n",
    "        exclude_vendor=None,\n",
    "        use_deriv_scfa=False,\n",
    "        use_deriv_microbiome=False,\n",
    "        use_pcoa=True\n",
    "    )\n",
    "    df_tmp['TrainSetLabel'] = 'ExcludeGroup'+group_to_exclude\n",
    "    if idx==0:\n",
    "        df_train_error = df_tmp\n",
    "    else:\n",
    "        df_train_error = pd.concat([df_train_error, df_tmp], ignore_index=True)\n",
    "df_train_error.to_csv('training_error_intrapolation.csv')"
   ]
  },
  {
   "cell_type": "code",
   "execution_count": 7,
   "metadata": {},
   "outputs": [
    {
     "ename": "TypeError",
     "evalue": "get_rf_training_error() missing 1 required positional argument: 'use_pcoa'",
     "output_type": "error",
     "traceback": [
      "\u001b[0;31m---------------------------------------------------------------------------\u001b[0m",
      "\u001b[0;31mTypeError\u001b[0m                                 Traceback (most recent call last)",
      "\u001b[0;32m~/Documents/Source_code_for_SCFA_dynamics_project/utils.py\u001b[0m in \u001b[0;36m<module>\u001b[0;34m\u001b[0m\n\u001b[1;32m      2\u001b[0m \u001b[0;34m\u001b[0m\u001b[0m\n\u001b[1;32m      3\u001b[0m \u001b[0;32mfor\u001b[0m \u001b[0midx\u001b[0m\u001b[0;34m,\u001b[0m \u001b[0mgroup_to_exclude\u001b[0m \u001b[0;32min\u001b[0m \u001b[0menumerate\u001b[0m\u001b[0;34m(\u001b[0m\u001b[0;34m[\u001b[0m\u001b[0;34m'A'\u001b[0m\u001b[0;34m,\u001b[0m\u001b[0;34m'B'\u001b[0m\u001b[0;34m,\u001b[0m\u001b[0;34m'C'\u001b[0m\u001b[0;34m,\u001b[0m\u001b[0;34m'D'\u001b[0m\u001b[0;34m]\u001b[0m\u001b[0;34m)\u001b[0m\u001b[0;34m:\u001b[0m\u001b[0;34m\u001b[0m\u001b[0;34m\u001b[0m\u001b[0m\n\u001b[0;32m----> 4\u001b[0;31m     df_train_error = get_rf_training_error(\n\u001b[0m\u001b[1;32m      5\u001b[0m         \u001b[0mdf_meta\u001b[0m \u001b[0;34m=\u001b[0m \u001b[0mdf_meta\u001b[0m\u001b[0;34m,\u001b[0m\u001b[0;34m\u001b[0m\u001b[0;34m\u001b[0m\u001b[0m\n\u001b[1;32m      6\u001b[0m         \u001b[0mdf_bac\u001b[0m \u001b[0;34m=\u001b[0m \u001b[0mdf_bac\u001b[0m\u001b[0;34m,\u001b[0m\u001b[0;34m\u001b[0m\u001b[0;34m\u001b[0m\u001b[0m\n",
      "\u001b[0;31mTypeError\u001b[0m: get_rf_training_error() missing 1 required positional argument: 'use_pcoa'"
     ]
    },
    {
     "data": {
      "image/png": "[encoded data removed]",
      "text/plain": [
       "<Figure size 1440x360 with 4 Axes>"
      ]
     },
     "metadata": {
      "needs_background": "light"
     },
     "output_type": "display_data"
    }
   ],
   "source": [
    "fig, ax = plt.subplots(figsize=(20,5), nrows=1, ncols=4, sharex=True, sharey=True)\n",
    "\n",
    "for idx, group_to_exclude in enumerate(['A','B','C','D']):\n",
    "    df_train_error = get_rf_training_error(\n",
    "        df_meta = df_meta, \n",
    "        df_bac = df_bac, \n",
    "        df_scfa = df_scfa, \n",
    "        target_scfa=['Acetate','Butyrate','Propionate'],\n",
    "        topN=40,\n",
    "        exclude_group=group_to_exclude,\n",
    "        exclude_vendor=None,\n",
    "        use_deriv_scfa=False,\n",
    "        use_deriv_microbiome=False\n",
    "    )\n",
    "    _ = sns.scatterplot(x='SCFA_observed',y='SCFA_predicted', hue='SCFA_mol', size='Day', palette=sns.color_palette(\"hls\", 3), data=df_train_error, ax=ax[idx])\n",
    "    _ = ax[idx].plot([-5,45],[-5,45],'k--')\n",
    "    _ = ax[idx].set_xlim([-5,45])\n",
    "    _ = ax[idx].set_ylim([-5,45])\n",
    "    _ = ax[idx].set_title('excluded group = %s, R2 = %2.2f'%(group_to_exclude,r2_score(df_train_error.SCFA_observed, df_train_error.SCFA_predicted)))\n",
    "                \n",
    "plt.tight_layout()"
   ]
  },
  {
   "cell_type": "code",
   "execution_count": null,
   "metadata": {},
   "outputs": [],
   "source": []
  }
 ],
 "metadata": {
  "kernelspec": {
   "display_name": "Python 3",
   "language": "python",
   "name": "python3"
  },
  "language_info": {
   "codemirror_mode": {
    "name": "ipython",
    "version": 3
   },
   "file_extension": ".py",
   "mimetype": "text/x-python",
   "name": "python",
   "nbconvert_exporter": "python",
   "pygments_lexer": "ipython3",
   "version": "3.8.5"
  }
 },
 "nbformat": 4,
 "nbformat_minor": 4
}
