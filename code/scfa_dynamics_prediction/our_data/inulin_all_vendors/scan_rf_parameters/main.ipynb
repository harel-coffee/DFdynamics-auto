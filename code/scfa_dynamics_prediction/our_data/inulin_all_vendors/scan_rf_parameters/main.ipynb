{
 "cells": [
  {
   "cell_type": "code",
   "execution_count": 41,
   "metadata": {},
   "outputs": [],
   "source": [
    "import matplotlib.pyplot as plt\n",
    "import seaborn as sns\n",
    "import pandas as pd\n",
    "from sklearn.metrics import r2_score\n",
    "from sklearn.pipeline import make_pipeline                                           \n",
    "from sklearn.preprocessing import StandardScaler                                     \n",
    "from sklearn.feature_selection import SelectFromModel\n",
    "from sklearn.base import clone\n",
    "from sklearn import tree\n",
    "from sklearn.model_selection import ParameterGrid\n",
    "from joblib import Parallel, delayed\n",
    "from multiprocessing import Pool\n",
    "%run -i '../../../../../utils.py'"
   ]
  },
  {
   "cell_type": "markdown",
   "metadata": {},
   "source": [
    "# Get data"
   ]
  },
  {
   "cell_type": "code",
   "execution_count": 4,
   "metadata": {},
   "outputs": [],
   "source": [
    "# read meta data\n",
    "df_meta = pd.read_csv('../../../../../our_data/meta_data.csv', index_col=0)\n",
    "df_meta = df_meta[df_meta.Diet=='Inulin'] # only for inulin group\n",
    "df_meta = df_meta[df_meta.Day != 0] # remove day 0\n",
    "\n",
    "# read SCFA data\n",
    "df_scfa = pd.read_csv('../../../../../our_data/SCFA.csv', index_col=0)\n",
    "\n",
    "# read bacterial abundance\n",
    "df_bac = pd.read_csv('../../../../../our_data/16S_absolute_abundance_species.csv', index_col=0)\n",
    "\n",
    "# find common samples\n",
    "common_samples = list(set(df_meta.index).intersection(df_scfa.index).intersection(df_bac.index))\n",
    "df_meta = df_meta.loc[common_samples]\n",
    "df_scfa = df_scfa.loc[common_samples]\n",
    "df_bac = df_bac.loc[common_samples]"
   ]
  },
  {
   "cell_type": "markdown",
   "metadata": {},
   "source": [
    "# Scan parameters"
   ]
  },
  {
   "cell_type": "code",
   "execution_count": 54,
   "metadata": {},
   "outputs": [],
   "source": [
    "def run_random_forest(params):\n",
    "    # get data\n",
    "    xdata_train = np.asarray(df_bac.values)\n",
    "    ydata_train = np.asarray(df_scfa[params['scfa']])\n",
    "\n",
    "    print(params)\n",
    "    # make pipeline\n",
    "    clf = RandomForestRegressor(n_estimators=params['n_trees'],\n",
    "                                max_features=params['max_features'],\n",
    "                                random_state=0, \n",
    "                                oob_score=True, \n",
    "                                max_depth=params['max_depth'],\n",
    "                                min_samples_split=params['min_samples_split'],\n",
    "                                min_samples_leaf=params['min_samples_leaf']\n",
    "                               )\n",
    "    pipe = make_pipeline(StandardScaler(), SelectFromModel(clf, max_features=params['n_features_to_select'], threshold=-np.inf), clone(clf))  \n",
    "    pipe.fit(xdata_train, ydata_train)\n",
    "    return list([params['scfa'],\n",
    "                 params['n_features_to_select'],\n",
    "                 params['n_trees'],\n",
    "                 params['max_features'],\n",
    "                 params['max_depth'],\n",
    "                 params['min_samples_split'],\n",
    "                 params['min_samples_leaf'],\n",
    "                 pipe[2].oob_score_])\n",
    "       \n",
    "#     # convert to panda\n",
    "#     df_tmp = pd.DataFrame.from_dict(params_exp, orient='index').T\n",
    "#     if df_oob is None:\n",
    "#         df_oob = deepcopy(df_tmp)\n",
    "#     else:\n",
    "#         df_oob = pd.concat([df_oob, df_tmp], ignore_index=True)\n"
   ]
  },
  {
   "cell_type": "code",
   "execution_count": null,
   "metadata": {},
   "outputs": [],
   "source": [
    "# parameters to test\n",
    "param_grid = {'scfa':['Acetate','Butyrate','Propionate'],\n",
    "              'n_features_to_select':[2,4,8,16,32],\n",
    "              'n_trees':[1024,2048,4096,8192],\n",
    "              'max_features':['auto','sqrt','log2',0.16,0.32,0.64],\n",
    "              'max_depth':[2,4,8,16],\n",
    "              'min_samples_split':[2,4,8,16],\n",
    "              'min_samples_leaf':[1,2,4]\n",
    "             }\n",
    "param_scores = Parallel(n_jobs=12)(delayed(run_random_forest)(params) for params in ParameterGrid(param_grid))"
   ]
  },
  {
   "cell_type": "code",
   "execution_count": null,
   "metadata": {},
   "outputs": [],
   "source": []
  }
 ],
 "metadata": {
  "kernelspec": {
   "display_name": "Python 3",
   "language": "python",
   "name": "python3"
  },
  "language_info": {
   "codemirror_mode": {
    "name": "ipython",
    "version": 3
   },
   "file_extension": ".py",
   "mimetype": "text/x-python",
   "name": "python",
   "nbconvert_exporter": "python",
   "pygments_lexer": "ipython3",
   "version": "3.8.3"
  }
 },
 "nbformat": 4,
 "nbformat_minor": 4
}
