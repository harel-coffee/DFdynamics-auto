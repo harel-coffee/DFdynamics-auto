{
 "cells": [
  {
   "cell_type": "code",
   "execution_count": 17,
   "metadata": {},
   "outputs": [],
   "source": [
    "import matplotlib.pyplot as plt\n",
    "import seaborn as sns\n",
    "import pandas as pd\n",
    "from sklearn.metrics import r2_score\n",
    "from sklearn.pipeline import make_pipeline                                           \n",
    "from sklearn.preprocessing import StandardScaler                                     \n",
    "from sklearn.feature_selection import SelectFromModel, RFE #SequentialFeatureSelector\n",
    "from sklearn.base import clone\n",
    "from sklearn import tree\n",
    "%run -i '../../../../../../utils.py'"
   ]
  },
  {
   "cell_type": "markdown",
   "metadata": {},
   "source": [
    "# Get data"
   ]
  },
  {
   "cell_type": "code",
   "execution_count": 7,
   "metadata": {},
   "outputs": [],
   "source": [
    "# read meta data\n",
    "df_meta = pd.read_csv('../../../../../../our_data/meta_data.csv', index_col=0)\n",
    "df_meta = df_meta[df_meta.Diet=='Inulin'] # only for inulin group\n",
    "df_meta = df_meta[df_meta.Day != 0] # remove day 0\n",
    "\n",
    "# read SCFA data\n",
    "df_scfa = pd.read_csv('../../../../../../our_data/SCFA.csv', index_col=0)\n",
    "\n",
    "# read bacterial abundance\n",
    "df_bac = pd.read_csv('../../../../../../our_data/16S_absolute_abundance_species.csv', index_col=0)\n",
    "\n",
    "# find common samples\n",
    "common_samples = list(set(df_meta.index).intersection(df_scfa.index).intersection(df_bac.index))\n",
    "df_meta = df_meta.loc[common_samples]\n",
    "df_scfa = df_scfa.loc[common_samples]\n",
    "df_bac = df_bac.loc[common_samples]"
   ]
  },
  {
   "cell_type": "markdown",
   "metadata": {},
   "source": [
    "# Run RandomForest"
   ]
  },
  {
   "cell_type": "code",
   "execution_count": 35,
   "metadata": {
    "scrolled": true
   },
   "outputs": [
    {
     "name": "stdout",
     "output_type": "stream",
     "text": [
      "Acetate Beijing\n",
      "Fitting 5 folds for each of 36 candidates, totalling 180 fits\n"
     ]
    },
    {
     "name": "stderr",
     "output_type": "stream",
     "text": [
      "[Parallel(n_jobs=-1)]: Using backend LokyBackend with 12 concurrent workers.\n",
      "[Parallel(n_jobs=-1)]: Done  17 tasks      | elapsed:   27.9s\n",
      "[Parallel(n_jobs=-1)]: Done 138 tasks      | elapsed:  8.3min\n",
      "[Parallel(n_jobs=-1)]: Done 180 out of 180 | elapsed: 10.7min finished\n"
     ]
    },
    {
     "ename": "AssertionError",
     "evalue": "",
     "output_type": "error",
     "traceback": [
      "\u001b[0;31m---------------------------------------------------------------------------\u001b[0m",
      "\u001b[0;31mAssertionError\u001b[0m                            Traceback (most recent call last)",
      "\u001b[0;32m~/Documents/Source_code_for_SCFA_dynamics_project/utils.py\u001b[0m in \u001b[0;36m<module>\u001b[0;34m\u001b[0m\n\u001b[1;32m     41\u001b[0m         \u001b[0mydata_train_predicted\u001b[0m \u001b[0;34m=\u001b[0m \u001b[0mrf_pipe\u001b[0m\u001b[0;34m.\u001b[0m\u001b[0mpredict\u001b[0m\u001b[0;34m(\u001b[0m\u001b[0mxdata_train\u001b[0m\u001b[0;34m)\u001b[0m\u001b[0;34m\u001b[0m\u001b[0;34m\u001b[0m\u001b[0m\n\u001b[1;32m     42\u001b[0m         \u001b[0mydata_test_predicted\u001b[0m \u001b[0;34m=\u001b[0m \u001b[0mrf_pipe\u001b[0m\u001b[0;34m.\u001b[0m\u001b[0mpredict\u001b[0m\u001b[0;34m(\u001b[0m\u001b[0mxdata_test\u001b[0m\u001b[0;34m)\u001b[0m\u001b[0;34m\u001b[0m\u001b[0;34m\u001b[0m\u001b[0m\n\u001b[0;32m---> 43\u001b[0;31m         \u001b[0;32massert\u001b[0m \u001b[0;36m0\u001b[0m\u001b[0;34m\u001b[0m\u001b[0;34m\u001b[0m\u001b[0m\n\u001b[0m\u001b[1;32m     44\u001b[0m \u001b[0;34m\u001b[0m\u001b[0m\n\u001b[1;32m     45\u001b[0m         \u001b[0;32mfor\u001b[0m \u001b[0msample_\u001b[0m\u001b[0;34m,\u001b[0m \u001b[0mobs_\u001b[0m\u001b[0;34m,\u001b[0m \u001b[0mpred_\u001b[0m \u001b[0;32min\u001b[0m \u001b[0mzip\u001b[0m\u001b[0;34m(\u001b[0m\u001b[0msamples_to_keep\u001b[0m\u001b[0;34m,\u001b[0m \u001b[0mydata_train\u001b[0m\u001b[0;34m,\u001b[0m \u001b[0mydata_train_predicted\u001b[0m\u001b[0;34m)\u001b[0m\u001b[0;34m:\u001b[0m\u001b[0;34m\u001b[0m\u001b[0;34m\u001b[0m\u001b[0m\n",
      "\u001b[0;31mAssertionError\u001b[0m: "
     ]
    }
   ],
   "source": [
    "# parameters to run model training\n",
    "method = 'selectfrommodel' # selectfrommodel or sequentialfeatureselector, or rfe\n",
    "n_features_to_select = 3 # number of features to be kept\n",
    "\n",
    "# model training\n",
    "lines = []\n",
    "for scfa in ['Acetate','Propionate','Butyrate']:\n",
    "    for vendor_to_exclude in ['Beijing','Guangdong','Hunan','Shanghai']:\n",
    "        print(scfa, vendor_to_exclude)\n",
    "        \n",
    "        # split train/test data\n",
    "        mice_to_keep = list(set(df_meta[df_meta.Vendor!=vendor_to_exclude].MiceID))\n",
    "        samples_to_keep = list(set(df_meta[df_meta.MiceID.isin(mice_to_keep)].index))\n",
    "        mice_to_exclude = list(set(df_meta[df_meta.Vendor==vendor_to_exclude].MiceID))\n",
    "        samples_to_exclude = list(set(df_meta[df_meta.MiceID.isin(mice_to_exclude)].index))\n",
    "        \n",
    "        # get X and Y data\n",
    "        xdata_train = np.asarray(df_bac.loc[samples_to_keep].values)\n",
    "        xdata_test = np.asarray(df_bac.loc[samples_to_exclude].values)\n",
    "        ydata_train = np.asarray(df_scfa.loc[samples_to_keep, scfa])\n",
    "        ydata_test = np.asarray(df_scfa.loc[samples_to_exclude, scfa])\n",
    "\n",
    "        n_features = xdata_train.shape[1]\n",
    "        max_features = ['auto','sqrt','log2', 0.1, 0.2, 0.5]\n",
    "        \n",
    "        # make pipeline\n",
    "        clf = RandomForestRegressor(n_estimators=2000, random_state=0, oob_score=True, max_depth=5)\n",
    "        if method=='selectfrommodel':\n",
    "            pipe = make_pipeline(StandardScaler(), SelectFromModel(clf, max_features=n_features_to_select, threshold=-np.inf), clone(clf))  \n",
    "        if method=='sequentialfeatureselector':\n",
    "            pipe = make_pipeline(StandardScaler(), SequentialFeatureSelector(clf, n_features_to_select=n_features_to_select, direction='forward', scoring='r2', cv=5, n_jobs=-1), clone(clf))  \n",
    "        if method=='rfe':\n",
    "            pipe = make_pipeline(StandardScaler(), RFE(clf, step=10, n_features_to_select=n_features_to_select, verbose=2), clone(clf))\n",
    "        random_grid = {'%s__estimator__max_features'%(method): max_features,\n",
    "                       'randomforestregressor__max_features': max_features\n",
    "                      }\n",
    "        rf_pipe = GridSearchCV(estimator=pipe, param_grid=random_grid, cv=5, verbose=2, n_jobs=-1, scoring='r2')\n",
    "        rf_pipe.fit(xdata_train, ydata_train)\n",
    "        \n",
    "        # predict training set\n",
    "        ydata_train_predicted = rf_pipe.predict(xdata_train)\n",
    "        ydata_test_predicted = rf_pipe.predict(xdata_test)\n",
    "        assert 0\n",
    "\n",
    "        for sample_, obs_, pred_ in zip(samples_to_keep, ydata_train, ydata_train_predicted):\n",
    "            lines.append([scfa, vendor_to_exclude, 'train', sample_, obs_, pred_])\n",
    "        for sample_, obs_, pred_ in zip(samples_to_exclude, ydata_test, ydata_test_predicted):\n",
    "            lines.append([scfa, vendor_to_exclude, 'test', sample_, obs_, pred_])\n",
    "\n",
    "df_pred = pd.DataFrame(lines, columns=['SCFA','Permutation','PredictionType','SampleID','ObservedValue','PredictedValue'])\n",
    "df_pred.to_csv('rf_prediction_extrapolation_maxfeature%d_%s.csv'%(n_features_to_select, method))"
   ]
  },
  {
   "cell_type": "code",
   "execution_count": 39,
   "metadata": {},
   "outputs": [
    {
     "data": {
      "text/plain": [
       "0.2726621239260373"
      ]
     },
     "execution_count": 39,
     "metadata": {},
     "output_type": "execute_result"
    }
   ],
   "source": [
    "rf_pipe.best_estimator_[2].oob_score_"
   ]
  },
  {
   "cell_type": "code",
   "execution_count": 33,
   "metadata": {},
   "outputs": [
    {
     "data": {
      "text/plain": [
       "[<matplotlib.lines.Line2D at 0x118c0bee0>]"
      ]
     },
     "execution_count": 33,
     "metadata": {},
     "output_type": "execute_result"
    },
    {
     "data": {
      "image/png": "[encoded data removed]",
      "text/plain": [
       "<Figure size 432x288 with 1 Axes>"
      ]
     },
     "metadata": {
      "needs_background": "light"
     },
     "output_type": "display_data"
    }
   ],
   "source": [
    "plt.plot(ydata_test, ydata_test_predicted, 'ko')"
   ]
  },
  {
   "cell_type": "code",
   "execution_count": 38,
   "metadata": {},
   "outputs": [
    {
     "data": {
      "text/plain": [
       "[<matplotlib.lines.Line2D at 0x11ab58820>]"
      ]
     },
     "execution_count": 38,
     "metadata": {},
     "output_type": "execute_result"
    },
    {
     "data": {
      "image/png": "[encoded data removed]",
      "text/plain": [
       "<Figure size 432x288 with 1 Axes>"
      ]
     },
     "metadata": {
      "needs_background": "light"
     },
     "output_type": "display_data"
    }
   ],
   "source": [
    "plt.plot(ydata_test, ydata_test_predicted, 'ko')"
   ]
  },
  {
   "cell_type": "code",
   "execution_count": null,
   "metadata": {},
   "outputs": [],
   "source": []
  }
 ],
 "metadata": {
  "kernelspec": {
   "display_name": "Python 3",
   "language": "python",
   "name": "python3"
  },
  "language_info": {
   "codemirror_mode": {
    "name": "ipython",
    "version": 3
   },
   "file_extension": ".py",
   "mimetype": "text/x-python",
   "name": "python",
   "nbconvert_exporter": "python",
   "pygments_lexer": "ipython3",
   "version": "3.8.5"
  }
 },
 "nbformat": 4,
 "nbformat_minor": 4
}
