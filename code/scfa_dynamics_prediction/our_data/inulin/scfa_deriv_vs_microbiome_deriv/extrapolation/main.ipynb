{
 "cells": [
  {
   "cell_type": "code",
   "execution_count": 1,
   "metadata": {},
   "outputs": [],
   "source": [
    "import matplotlib.pyplot as plt\n",
    "import seaborn as sns\n",
    "import pandas as pd\n",
    "from sklearn.metrics import r2_score\n",
    "%run -i '../../../../../../utils.py'"
   ]
  },
  {
   "cell_type": "markdown",
   "metadata": {},
   "source": [
    "# Get data"
   ]
  },
  {
   "cell_type": "code",
   "execution_count": 2,
   "metadata": {},
   "outputs": [
    {
     "data": {
      "text/html": [
       "<div>\n",
       "<style scoped>\n",
       "    .dataframe tbody tr th:only-of-type {\n",
       "        vertical-align: middle;\n",
       "    }\n",
       "\n",
       "    .dataframe tbody tr th {\n",
       "        vertical-align: top;\n",
       "    }\n",
       "\n",
       "    .dataframe thead th {\n",
       "        text-align: right;\n",
       "    }\n",
       "</style>\n",
       "<table border=\"1\" class=\"dataframe\">\n",
       "  <thead>\n",
       "    <tr style=\"text-align: right;\">\n",
       "      <th></th>\n",
       "      <th>SubjectID</th>\n",
       "      <th>Vendor</th>\n",
       "      <th>Day</th>\n",
       "      <th>RandomizedGroup</th>\n",
       "    </tr>\n",
       "    <tr>\n",
       "      <th>SampleID</th>\n",
       "      <th></th>\n",
       "      <th></th>\n",
       "      <th></th>\n",
       "      <th></th>\n",
       "    </tr>\n",
       "  </thead>\n",
       "  <tbody>\n",
       "    <tr>\n",
       "      <th>sample141</th>\n",
       "      <td>BI1</td>\n",
       "      <td>Beijing</td>\n",
       "      <td>0</td>\n",
       "      <td>A</td>\n",
       "    </tr>\n",
       "    <tr>\n",
       "      <th>sample142</th>\n",
       "      <td>BI2</td>\n",
       "      <td>Beijing</td>\n",
       "      <td>0</td>\n",
       "      <td>B</td>\n",
       "    </tr>\n",
       "    <tr>\n",
       "      <th>sample143</th>\n",
       "      <td>BI3</td>\n",
       "      <td>Beijing</td>\n",
       "      <td>0</td>\n",
       "      <td>D</td>\n",
       "    </tr>\n",
       "    <tr>\n",
       "      <th>sample144</th>\n",
       "      <td>BI4</td>\n",
       "      <td>Beijing</td>\n",
       "      <td>0</td>\n",
       "      <td>E</td>\n",
       "    </tr>\n",
       "    <tr>\n",
       "      <th>sample145</th>\n",
       "      <td>BI5</td>\n",
       "      <td>Beijing</td>\n",
       "      <td>0</td>\n",
       "      <td>C</td>\n",
       "    </tr>\n",
       "  </tbody>\n",
       "</table>\n",
       "</div>"
      ],
      "text/plain": [
       "          SubjectID   Vendor  Day RandomizedGroup\n",
       "SampleID                                         \n",
       "sample141       BI1  Beijing    0               A\n",
       "sample142       BI2  Beijing    0               B\n",
       "sample143       BI3  Beijing    0               D\n",
       "sample144       BI4  Beijing    0               E\n",
       "sample145       BI5  Beijing    0               C"
      ]
     },
     "execution_count": 2,
     "metadata": {},
     "output_type": "execute_result"
    }
   ],
   "source": [
    "# read meta data\n",
    "df_meta = pd.read_excel('../../../../../../our_data/meta_data.xlsx', index_col=0)\n",
    "df_meta = df_meta[df_meta.Diet=='Inulin']\n",
    "df_meta = df_meta.drop('Diet', axis=1)\n",
    "df_meta = df_meta.rename({'MiceID':'SubjectID'}, axis=1)\n",
    "df_meta.head()"
   ]
  },
  {
   "cell_type": "code",
   "execution_count": 3,
   "metadata": {},
   "outputs": [
    {
     "data": {
      "text/html": [
       "<div>\n",
       "<style scoped>\n",
       "    .dataframe tbody tr th:only-of-type {\n",
       "        vertical-align: middle;\n",
       "    }\n",
       "\n",
       "    .dataframe tbody tr th {\n",
       "        vertical-align: top;\n",
       "    }\n",
       "\n",
       "    .dataframe thead th {\n",
       "        text-align: right;\n",
       "    }\n",
       "</style>\n",
       "<table border=\"1\" class=\"dataframe\">\n",
       "  <thead>\n",
       "    <tr style=\"text-align: right;\">\n",
       "      <th></th>\n",
       "      <th>Acetate</th>\n",
       "      <th>Propionate</th>\n",
       "      <th>Butyrate</th>\n",
       "    </tr>\n",
       "    <tr>\n",
       "      <th>SampleID</th>\n",
       "      <th></th>\n",
       "      <th></th>\n",
       "      <th></th>\n",
       "    </tr>\n",
       "  </thead>\n",
       "  <tbody>\n",
       "    <tr>\n",
       "      <th>sample36</th>\n",
       "      <td>1.372492</td>\n",
       "      <td>0.463378</td>\n",
       "      <td>0.553858</td>\n",
       "    </tr>\n",
       "    <tr>\n",
       "      <th>sample86</th>\n",
       "      <td>2.019028</td>\n",
       "      <td>0.644090</td>\n",
       "      <td>0.757294</td>\n",
       "    </tr>\n",
       "    <tr>\n",
       "      <th>sample277</th>\n",
       "      <td>2.061243</td>\n",
       "      <td>1.140312</td>\n",
       "      <td>1.142147</td>\n",
       "    </tr>\n",
       "    <tr>\n",
       "      <th>sample116</th>\n",
       "      <td>2.066010</td>\n",
       "      <td>0.856857</td>\n",
       "      <td>0.582644</td>\n",
       "    </tr>\n",
       "    <tr>\n",
       "      <th>sample69</th>\n",
       "      <td>2.644383</td>\n",
       "      <td>0.955464</td>\n",
       "      <td>0.682562</td>\n",
       "    </tr>\n",
       "  </tbody>\n",
       "</table>\n",
       "</div>"
      ],
      "text/plain": [
       "            Acetate  Propionate  Butyrate\n",
       "SampleID                                 \n",
       "sample36   1.372492    0.463378  0.553858\n",
       "sample86   2.019028    0.644090  0.757294\n",
       "sample277  2.061243    1.140312  1.142147\n",
       "sample116  2.066010    0.856857  0.582644\n",
       "sample69   2.644383    0.955464  0.682562"
      ]
     },
     "execution_count": 3,
     "metadata": {},
     "output_type": "execute_result"
    }
   ],
   "source": [
    "# read SCFA data\n",
    "df_scfa = pd.read_excel('../../../../../../our_data/SCFA.xlsx', index_col=0)\n",
    "df_scfa.head()"
   ]
  },
  {
   "cell_type": "code",
   "execution_count": 4,
   "metadata": {},
   "outputs": [
    {
     "data": {
      "text/html": [
       "<div>\n",
       "<style scoped>\n",
       "    .dataframe tbody tr th:only-of-type {\n",
       "        vertical-align: middle;\n",
       "    }\n",
       "\n",
       "    .dataframe tbody tr th {\n",
       "        vertical-align: top;\n",
       "    }\n",
       "\n",
       "    .dataframe thead th {\n",
       "        text-align: right;\n",
       "    }\n",
       "</style>\n",
       "<table border=\"1\" class=\"dataframe\">\n",
       "  <thead>\n",
       "    <tr style=\"text-align: right;\">\n",
       "      <th></th>\n",
       "      <th>A2</th>\n",
       "      <th>ASF356</th>\n",
       "      <th>Acetatifactor</th>\n",
       "      <th>Acetatifactor-muris</th>\n",
       "      <th>Acidovorax</th>\n",
       "      <th>Acinetobacter</th>\n",
       "      <th>Acinetobacter-sp.-CIP-56.2</th>\n",
       "      <th>Acutalibacter-muris</th>\n",
       "      <th>Adlercreutzia-mucosicola</th>\n",
       "      <th>Adlercreutzia-muris</th>\n",
       "      <th>...</th>\n",
       "      <th>[Eubacterium]-ventriosum-group</th>\n",
       "      <th>[Eubacterium]-xylanophilum-group</th>\n",
       "      <th>[Ruminococcus]-gnavus-group</th>\n",
       "      <th>[Ruminococcus]-torques-group</th>\n",
       "      <th>bacterium-enrichment-culture-clone-M153</th>\n",
       "      <th>gut-metagenome</th>\n",
       "      <th>human-gut-metagenome</th>\n",
       "      <th>marine-metagenome</th>\n",
       "      <th>metagenome</th>\n",
       "      <th>mouse-gut-metagenome</th>\n",
       "    </tr>\n",
       "    <tr>\n",
       "      <th>SampleID</th>\n",
       "      <th></th>\n",
       "      <th></th>\n",
       "      <th></th>\n",
       "      <th></th>\n",
       "      <th></th>\n",
       "      <th></th>\n",
       "      <th></th>\n",
       "      <th></th>\n",
       "      <th></th>\n",
       "      <th></th>\n",
       "      <th></th>\n",
       "      <th></th>\n",
       "      <th></th>\n",
       "      <th></th>\n",
       "      <th></th>\n",
       "      <th></th>\n",
       "      <th></th>\n",
       "      <th></th>\n",
       "      <th></th>\n",
       "      <th></th>\n",
       "      <th></th>\n",
       "    </tr>\n",
       "  </thead>\n",
       "  <tbody>\n",
       "    <tr>\n",
       "      <th>sample131</th>\n",
       "      <td>0.0</td>\n",
       "      <td>0.000291</td>\n",
       "      <td>0.000019</td>\n",
       "      <td>0.0</td>\n",
       "      <td>0.0</td>\n",
       "      <td>0.0</td>\n",
       "      <td>0.0</td>\n",
       "      <td>0.0</td>\n",
       "      <td>0.000000</td>\n",
       "      <td>0.0</td>\n",
       "      <td>...</td>\n",
       "      <td>0.0</td>\n",
       "      <td>0.000170</td>\n",
       "      <td>0.0</td>\n",
       "      <td>0.0</td>\n",
       "      <td>0.0</td>\n",
       "      <td>0.000444</td>\n",
       "      <td>0.0</td>\n",
       "      <td>0.0</td>\n",
       "      <td>0.0</td>\n",
       "      <td>0.000356</td>\n",
       "    </tr>\n",
       "    <tr>\n",
       "      <th>sample132</th>\n",
       "      <td>0.0</td>\n",
       "      <td>0.001090</td>\n",
       "      <td>0.000135</td>\n",
       "      <td>0.0</td>\n",
       "      <td>0.0</td>\n",
       "      <td>0.0</td>\n",
       "      <td>0.0</td>\n",
       "      <td>0.0</td>\n",
       "      <td>0.000000</td>\n",
       "      <td>0.0</td>\n",
       "      <td>...</td>\n",
       "      <td>0.0</td>\n",
       "      <td>0.000215</td>\n",
       "      <td>0.0</td>\n",
       "      <td>0.0</td>\n",
       "      <td>0.0</td>\n",
       "      <td>0.000286</td>\n",
       "      <td>0.0</td>\n",
       "      <td>0.0</td>\n",
       "      <td>0.0</td>\n",
       "      <td>0.002698</td>\n",
       "    </tr>\n",
       "    <tr>\n",
       "      <th>sample133</th>\n",
       "      <td>0.0</td>\n",
       "      <td>0.000097</td>\n",
       "      <td>0.000122</td>\n",
       "      <td>0.0</td>\n",
       "      <td>0.0</td>\n",
       "      <td>0.0</td>\n",
       "      <td>0.0</td>\n",
       "      <td>0.0</td>\n",
       "      <td>0.000000</td>\n",
       "      <td>0.0</td>\n",
       "      <td>...</td>\n",
       "      <td>0.0</td>\n",
       "      <td>0.000000</td>\n",
       "      <td>0.0</td>\n",
       "      <td>0.0</td>\n",
       "      <td>0.0</td>\n",
       "      <td>0.000597</td>\n",
       "      <td>0.0</td>\n",
       "      <td>0.0</td>\n",
       "      <td>0.0</td>\n",
       "      <td>0.000502</td>\n",
       "    </tr>\n",
       "    <tr>\n",
       "      <th>sample134</th>\n",
       "      <td>0.0</td>\n",
       "      <td>0.001303</td>\n",
       "      <td>0.000027</td>\n",
       "      <td>0.0</td>\n",
       "      <td>0.0</td>\n",
       "      <td>0.0</td>\n",
       "      <td>0.0</td>\n",
       "      <td>0.0</td>\n",
       "      <td>0.000000</td>\n",
       "      <td>0.0</td>\n",
       "      <td>...</td>\n",
       "      <td>0.0</td>\n",
       "      <td>0.000285</td>\n",
       "      <td>0.0</td>\n",
       "      <td>0.0</td>\n",
       "      <td>0.0</td>\n",
       "      <td>0.002473</td>\n",
       "      <td>0.0</td>\n",
       "      <td>0.0</td>\n",
       "      <td>0.0</td>\n",
       "      <td>0.002344</td>\n",
       "    </tr>\n",
       "    <tr>\n",
       "      <th>sample135</th>\n",
       "      <td>0.0</td>\n",
       "      <td>0.000246</td>\n",
       "      <td>0.000114</td>\n",
       "      <td>0.0</td>\n",
       "      <td>0.0</td>\n",
       "      <td>0.0</td>\n",
       "      <td>0.0</td>\n",
       "      <td>0.0</td>\n",
       "      <td>0.000034</td>\n",
       "      <td>0.0</td>\n",
       "      <td>...</td>\n",
       "      <td>0.0</td>\n",
       "      <td>0.000000</td>\n",
       "      <td>0.0</td>\n",
       "      <td>0.0</td>\n",
       "      <td>0.0</td>\n",
       "      <td>0.001565</td>\n",
       "      <td>0.0</td>\n",
       "      <td>0.0</td>\n",
       "      <td>0.0</td>\n",
       "      <td>0.001435</td>\n",
       "    </tr>\n",
       "  </tbody>\n",
       "</table>\n",
       "<p>5 rows × 304 columns</p>\n",
       "</div>"
      ],
      "text/plain": [
       "            A2    ASF356  Acetatifactor  Acetatifactor-muris  Acidovorax  \\\n",
       "SampleID                                                                   \n",
       "sample131  0.0  0.000291       0.000019                  0.0         0.0   \n",
       "sample132  0.0  0.001090       0.000135                  0.0         0.0   \n",
       "sample133  0.0  0.000097       0.000122                  0.0         0.0   \n",
       "sample134  0.0  0.001303       0.000027                  0.0         0.0   \n",
       "sample135  0.0  0.000246       0.000114                  0.0         0.0   \n",
       "\n",
       "           Acinetobacter  Acinetobacter-sp.-CIP-56.2  Acutalibacter-muris  \\\n",
       "SampleID                                                                    \n",
       "sample131            0.0                         0.0                  0.0   \n",
       "sample132            0.0                         0.0                  0.0   \n",
       "sample133            0.0                         0.0                  0.0   \n",
       "sample134            0.0                         0.0                  0.0   \n",
       "sample135            0.0                         0.0                  0.0   \n",
       "\n",
       "           Adlercreutzia-mucosicola  Adlercreutzia-muris  ...  \\\n",
       "SampleID                                                  ...   \n",
       "sample131                  0.000000                  0.0  ...   \n",
       "sample132                  0.000000                  0.0  ...   \n",
       "sample133                  0.000000                  0.0  ...   \n",
       "sample134                  0.000000                  0.0  ...   \n",
       "sample135                  0.000034                  0.0  ...   \n",
       "\n",
       "           [Eubacterium]-ventriosum-group  [Eubacterium]-xylanophilum-group  \\\n",
       "SampleID                                                                      \n",
       "sample131                             0.0                          0.000170   \n",
       "sample132                             0.0                          0.000215   \n",
       "sample133                             0.0                          0.000000   \n",
       "sample134                             0.0                          0.000285   \n",
       "sample135                             0.0                          0.000000   \n",
       "\n",
       "           [Ruminococcus]-gnavus-group  [Ruminococcus]-torques-group  \\\n",
       "SampleID                                                               \n",
       "sample131                          0.0                           0.0   \n",
       "sample132                          0.0                           0.0   \n",
       "sample133                          0.0                           0.0   \n",
       "sample134                          0.0                           0.0   \n",
       "sample135                          0.0                           0.0   \n",
       "\n",
       "           bacterium-enrichment-culture-clone-M153  gut-metagenome  \\\n",
       "SampleID                                                             \n",
       "sample131                                      0.0        0.000444   \n",
       "sample132                                      0.0        0.000286   \n",
       "sample133                                      0.0        0.000597   \n",
       "sample134                                      0.0        0.002473   \n",
       "sample135                                      0.0        0.001565   \n",
       "\n",
       "           human-gut-metagenome  marine-metagenome  metagenome  \\\n",
       "SampleID                                                         \n",
       "sample131                   0.0                0.0         0.0   \n",
       "sample132                   0.0                0.0         0.0   \n",
       "sample133                   0.0                0.0         0.0   \n",
       "sample134                   0.0                0.0         0.0   \n",
       "sample135                   0.0                0.0         0.0   \n",
       "\n",
       "           mouse-gut-metagenome  \n",
       "SampleID                         \n",
       "sample131              0.000356  \n",
       "sample132              0.002698  \n",
       "sample133              0.000502  \n",
       "sample134              0.002344  \n",
       "sample135              0.001435  \n",
       "\n",
       "[5 rows x 304 columns]"
      ]
     },
     "execution_count": 4,
     "metadata": {},
     "output_type": "execute_result"
    }
   ],
   "source": [
    "# read bacterial abundance\n",
    "df_bac = pd.read_excel('../../../../../../our_data/16S_absolute_abundance.xlsx', index_col=0)\n",
    "df_bac = df_bac/df_bac.max().max()\n",
    "df_bac.head()"
   ]
  },
  {
   "cell_type": "markdown",
   "metadata": {},
   "source": [
    "# Run RandomForest"
   ]
  },
  {
   "cell_type": "code",
   "execution_count": 10,
   "metadata": {
    "scrolled": true
   },
   "outputs": [
    {
     "name": "stdout",
     "output_type": "stream",
     "text": [
      "Fitting 5 folds for each of 480 candidates, totalling 2400 fits\n"
     ]
    },
    {
     "name": "stderr",
     "output_type": "stream",
     "text": [
      "[Parallel(n_jobs=-1)]: Using backend LokyBackend with 36 concurrent workers.\n",
      "[Parallel(n_jobs=-1)]: Done  90 tasks      | elapsed:   23.6s\n",
      "[Parallel(n_jobs=-1)]: Done 293 tasks      | elapsed:  1.0min\n",
      "[Parallel(n_jobs=-1)]: Done 576 tasks      | elapsed:  2.0min\n",
      "[Parallel(n_jobs=-1)]: Done 941 tasks      | elapsed:  3.3min\n",
      "[Parallel(n_jobs=-1)]: Done 1386 tasks      | elapsed:  4.9min\n",
      "[Parallel(n_jobs=-1)]: Done 1913 tasks      | elapsed:  6.8min\n",
      "[Parallel(n_jobs=-1)]: Done 2400 out of 2400 | elapsed:  8.3min finished\n"
     ]
    },
    {
     "name": "stdout",
     "output_type": "stream",
     "text": [
      "Fitting 5 folds for each of 480 candidates, totalling 2400 fits\n"
     ]
    },
    {
     "name": "stderr",
     "output_type": "stream",
     "text": [
      "[Parallel(n_jobs=-1)]: Using backend LokyBackend with 36 concurrent workers.\n",
      "[Parallel(n_jobs=-1)]: Done  90 tasks      | elapsed:   24.7s\n",
      "[Parallel(n_jobs=-1)]: Done 293 tasks      | elapsed:  1.0min\n",
      "[Parallel(n_jobs=-1)]: Done 576 tasks      | elapsed:  2.0min\n",
      "[Parallel(n_jobs=-1)]: Done 941 tasks      | elapsed:  3.2min\n",
      "[Parallel(n_jobs=-1)]: Done 1386 tasks      | elapsed:  4.7min\n",
      "[Parallel(n_jobs=-1)]: Done 1913 tasks      | elapsed:  6.5min\n",
      "[Parallel(n_jobs=-1)]: Done 2400 out of 2400 | elapsed:  7.9min finished\n"
     ]
    },
    {
     "name": "stdout",
     "output_type": "stream",
     "text": [
      "Fitting 5 folds for each of 480 candidates, totalling 2400 fits\n"
     ]
    },
    {
     "name": "stderr",
     "output_type": "stream",
     "text": [
      "[Parallel(n_jobs=-1)]: Using backend LokyBackend with 36 concurrent workers.\n",
      "[Parallel(n_jobs=-1)]: Done  90 tasks      | elapsed:   22.8s\n",
      "[Parallel(n_jobs=-1)]: Done 293 tasks      | elapsed:  1.0min\n",
      "[Parallel(n_jobs=-1)]: Done 576 tasks      | elapsed:  2.0min\n",
      "[Parallel(n_jobs=-1)]: Done 941 tasks      | elapsed:  3.2min\n",
      "[Parallel(n_jobs=-1)]: Done 1386 tasks      | elapsed:  4.8min\n",
      "[Parallel(n_jobs=-1)]: Done 1913 tasks      | elapsed:  6.6min\n",
      "[Parallel(n_jobs=-1)]: Done 2400 out of 2400 | elapsed:  8.2min finished\n"
     ]
    },
    {
     "name": "stdout",
     "output_type": "stream",
     "text": [
      "Fitting 5 folds for each of 480 candidates, totalling 2400 fits\n"
     ]
    },
    {
     "name": "stderr",
     "output_type": "stream",
     "text": [
      "[Parallel(n_jobs=-1)]: Using backend LokyBackend with 36 concurrent workers.\n",
      "[Parallel(n_jobs=-1)]: Done  90 tasks      | elapsed:   19.5s\n",
      "[Parallel(n_jobs=-1)]: Done 293 tasks      | elapsed:   57.8s\n",
      "[Parallel(n_jobs=-1)]: Done 576 tasks      | elapsed:  1.9min\n",
      "[Parallel(n_jobs=-1)]: Done 941 tasks      | elapsed:  3.2min\n",
      "[Parallel(n_jobs=-1)]: Done 1386 tasks      | elapsed:  4.8min\n",
      "[Parallel(n_jobs=-1)]: Done 1913 tasks      | elapsed:  6.6min\n",
      "[Parallel(n_jobs=-1)]: Done 2400 out of 2400 | elapsed:  8.2min finished\n"
     ]
    },
    {
     "name": "stdout",
     "output_type": "stream",
     "text": [
      "Fitting 5 folds for each of 480 candidates, totalling 2400 fits\n"
     ]
    },
    {
     "name": "stderr",
     "output_type": "stream",
     "text": [
      "[Parallel(n_jobs=-1)]: Using backend LokyBackend with 36 concurrent workers.\n",
      "[Parallel(n_jobs=-1)]: Done  90 tasks      | elapsed:   22.8s\n",
      "[Parallel(n_jobs=-1)]: Done 293 tasks      | elapsed:   58.9s\n",
      "[Parallel(n_jobs=-1)]: Done 576 tasks      | elapsed:  1.9min\n",
      "[Parallel(n_jobs=-1)]: Done 941 tasks      | elapsed:  3.2min\n",
      "[Parallel(n_jobs=-1)]: Done 1386 tasks      | elapsed:  4.8min\n",
      "[Parallel(n_jobs=-1)]: Done 1913 tasks      | elapsed:  6.6min\n",
      "[Parallel(n_jobs=-1)]: Done 2400 out of 2400 | elapsed:  8.1min finished\n"
     ]
    },
    {
     "name": "stdout",
     "output_type": "stream",
     "text": [
      "Fitting 5 folds for each of 480 candidates, totalling 2400 fits\n"
     ]
    },
    {
     "name": "stderr",
     "output_type": "stream",
     "text": [
      "[Parallel(n_jobs=-1)]: Using backend LokyBackend with 36 concurrent workers.\n",
      "[Parallel(n_jobs=-1)]: Done  90 tasks      | elapsed:   22.0s\n",
      "[Parallel(n_jobs=-1)]: Done 293 tasks      | elapsed:  1.0min\n",
      "[Parallel(n_jobs=-1)]: Done 576 tasks      | elapsed:  2.0min\n",
      "[Parallel(n_jobs=-1)]: Done 941 tasks      | elapsed:  3.3min\n",
      "[Parallel(n_jobs=-1)]: Done 1386 tasks      | elapsed:  4.9min\n",
      "[Parallel(n_jobs=-1)]: Done 1913 tasks      | elapsed:  6.9min\n",
      "[Parallel(n_jobs=-1)]: Done 2400 out of 2400 | elapsed:  8.6min finished\n"
     ]
    },
    {
     "name": "stdout",
     "output_type": "stream",
     "text": [
      "Fitting 5 folds for each of 480 candidates, totalling 2400 fits\n"
     ]
    },
    {
     "name": "stderr",
     "output_type": "stream",
     "text": [
      "[Parallel(n_jobs=-1)]: Using backend LokyBackend with 36 concurrent workers.\n",
      "[Parallel(n_jobs=-1)]: Done  90 tasks      | elapsed:   21.6s\n",
      "[Parallel(n_jobs=-1)]: Done 293 tasks      | elapsed:   58.3s\n",
      "[Parallel(n_jobs=-1)]: Done 576 tasks      | elapsed:  1.9min\n",
      "[Parallel(n_jobs=-1)]: Done 941 tasks      | elapsed:  3.2min\n",
      "[Parallel(n_jobs=-1)]: Done 1386 tasks      | elapsed:  4.8min\n",
      "[Parallel(n_jobs=-1)]: Done 1913 tasks      | elapsed:  6.6min\n",
      "[Parallel(n_jobs=-1)]: Done 2400 out of 2400 | elapsed:  8.1min finished\n"
     ]
    },
    {
     "name": "stdout",
     "output_type": "stream",
     "text": [
      "Fitting 5 folds for each of 480 candidates, totalling 2400 fits\n"
     ]
    },
    {
     "name": "stderr",
     "output_type": "stream",
     "text": [
      "[Parallel(n_jobs=-1)]: Using backend LokyBackend with 36 concurrent workers.\n",
      "[Parallel(n_jobs=-1)]: Done  90 tasks      | elapsed:   23.0s\n",
      "[Parallel(n_jobs=-1)]: Done 293 tasks      | elapsed:   57.4s\n",
      "[Parallel(n_jobs=-1)]: Done 576 tasks      | elapsed:  1.9min\n",
      "[Parallel(n_jobs=-1)]: Done 941 tasks      | elapsed:  3.1min\n",
      "[Parallel(n_jobs=-1)]: Done 1386 tasks      | elapsed:  4.7min\n",
      "[Parallel(n_jobs=-1)]: Done 1913 tasks      | elapsed:  6.5min\n",
      "[Parallel(n_jobs=-1)]: Done 2400 out of 2400 | elapsed:  8.0min finished\n"
     ]
    },
    {
     "name": "stdout",
     "output_type": "stream",
     "text": [
      "Fitting 5 folds for each of 480 candidates, totalling 2400 fits\n"
     ]
    },
    {
     "name": "stderr",
     "output_type": "stream",
     "text": [
      "[Parallel(n_jobs=-1)]: Using backend LokyBackend with 36 concurrent workers.\n",
      "[Parallel(n_jobs=-1)]: Done  90 tasks      | elapsed:   25.8s\n",
      "[Parallel(n_jobs=-1)]: Done 293 tasks      | elapsed:   59.7s\n",
      "[Parallel(n_jobs=-1)]: Done 576 tasks      | elapsed:  2.0min\n",
      "[Parallel(n_jobs=-1)]: Done 941 tasks      | elapsed:  3.3min\n",
      "[Parallel(n_jobs=-1)]: Done 1386 tasks      | elapsed:  4.9min\n",
      "[Parallel(n_jobs=-1)]: Done 1913 tasks      | elapsed:  7.0min\n",
      "[Parallel(n_jobs=-1)]: Done 2400 out of 2400 | elapsed:  8.7min finished\n"
     ]
    },
    {
     "name": "stdout",
     "output_type": "stream",
     "text": [
      "Fitting 5 folds for each of 480 candidates, totalling 2400 fits\n"
     ]
    },
    {
     "name": "stderr",
     "output_type": "stream",
     "text": [
      "[Parallel(n_jobs=-1)]: Using backend LokyBackend with 36 concurrent workers.\n",
      "[Parallel(n_jobs=-1)]: Done  90 tasks      | elapsed:   22.7s\n",
      "[Parallel(n_jobs=-1)]: Done 293 tasks      | elapsed:   57.1s\n",
      "[Parallel(n_jobs=-1)]: Done 576 tasks      | elapsed:  1.9min\n",
      "[Parallel(n_jobs=-1)]: Done 941 tasks      | elapsed:  3.1min\n",
      "[Parallel(n_jobs=-1)]: Done 1386 tasks      | elapsed:  4.7min\n",
      "[Parallel(n_jobs=-1)]: Done 1913 tasks      | elapsed:  6.5min\n",
      "[Parallel(n_jobs=-1)]: Done 2400 out of 2400 | elapsed:  8.0min finished\n"
     ]
    },
    {
     "name": "stdout",
     "output_type": "stream",
     "text": [
      "Fitting 5 folds for each of 480 candidates, totalling 2400 fits\n"
     ]
    },
    {
     "name": "stderr",
     "output_type": "stream",
     "text": [
      "[Parallel(n_jobs=-1)]: Using backend LokyBackend with 36 concurrent workers.\n",
      "[Parallel(n_jobs=-1)]: Done  90 tasks      | elapsed:   22.6s\n",
      "[Parallel(n_jobs=-1)]: Done 293 tasks      | elapsed:   56.2s\n",
      "[Parallel(n_jobs=-1)]: Done 576 tasks      | elapsed:  1.9min\n",
      "[Parallel(n_jobs=-1)]: Done 941 tasks      | elapsed:  3.1min\n",
      "[Parallel(n_jobs=-1)]: Done 1386 tasks      | elapsed:  4.7min\n",
      "[Parallel(n_jobs=-1)]: Done 1913 tasks      | elapsed:  6.4min\n",
      "[Parallel(n_jobs=-1)]: Done 2400 out of 2400 | elapsed:  7.9min finished\n"
     ]
    },
    {
     "name": "stdout",
     "output_type": "stream",
     "text": [
      "Fitting 5 folds for each of 480 candidates, totalling 2400 fits\n"
     ]
    },
    {
     "name": "stderr",
     "output_type": "stream",
     "text": [
      "[Parallel(n_jobs=-1)]: Using backend LokyBackend with 36 concurrent workers.\n",
      "[Parallel(n_jobs=-1)]: Done  90 tasks      | elapsed:   24.3s\n",
      "[Parallel(n_jobs=-1)]: Done 293 tasks      | elapsed:  1.1min\n",
      "[Parallel(n_jobs=-1)]: Done 576 tasks      | elapsed:  2.0min\n",
      "[Parallel(n_jobs=-1)]: Done 941 tasks      | elapsed:  3.3min\n",
      "[Parallel(n_jobs=-1)]: Done 1386 tasks      | elapsed:  4.9min\n",
      "[Parallel(n_jobs=-1)]: Done 1913 tasks      | elapsed:  6.7min\n",
      "[Parallel(n_jobs=-1)]: Done 2400 out of 2400 | elapsed:  8.3min finished\n"
     ]
    },
    {
     "name": "stdout",
     "output_type": "stream",
     "text": [
      "Fitting 5 folds for each of 480 candidates, totalling 2400 fits\n"
     ]
    },
    {
     "name": "stderr",
     "output_type": "stream",
     "text": [
      "[Parallel(n_jobs=-1)]: Using backend LokyBackend with 36 concurrent workers.\n",
      "[Parallel(n_jobs=-1)]: Done  90 tasks      | elapsed:   24.9s\n",
      "[Parallel(n_jobs=-1)]: Done 293 tasks      | elapsed:  1.1min\n",
      "[Parallel(n_jobs=-1)]: Done 576 tasks      | elapsed:  2.0min\n",
      "[Parallel(n_jobs=-1)]: Done 941 tasks      | elapsed:  3.3min\n",
      "[Parallel(n_jobs=-1)]: Done 1386 tasks      | elapsed:  4.9min\n",
      "[Parallel(n_jobs=-1)]: Done 1913 tasks      | elapsed:  6.8min\n",
      "[Parallel(n_jobs=-1)]: Done 2400 out of 2400 | elapsed:  8.4min finished\n"
     ]
    },
    {
     "name": "stdout",
     "output_type": "stream",
     "text": [
      "Fitting 5 folds for each of 480 candidates, totalling 2400 fits\n"
     ]
    },
    {
     "name": "stderr",
     "output_type": "stream",
     "text": [
      "[Parallel(n_jobs=-1)]: Using backend LokyBackend with 36 concurrent workers.\n",
      "[Parallel(n_jobs=-1)]: Done  90 tasks      | elapsed:   23.0s\n",
      "[Parallel(n_jobs=-1)]: Done 293 tasks      | elapsed:  1.0min\n",
      "[Parallel(n_jobs=-1)]: Done 576 tasks      | elapsed:  1.9min\n",
      "[Parallel(n_jobs=-1)]: Done 941 tasks      | elapsed:  3.2min\n",
      "[Parallel(n_jobs=-1)]: Done 1386 tasks      | elapsed:  4.7min\n",
      "[Parallel(n_jobs=-1)]: Done 1913 tasks      | elapsed:  6.4min\n",
      "[Parallel(n_jobs=-1)]: Done 2400 out of 2400 | elapsed:  7.9min finished\n"
     ]
    },
    {
     "name": "stdout",
     "output_type": "stream",
     "text": [
      "Fitting 5 folds for each of 480 candidates, totalling 2400 fits\n"
     ]
    },
    {
     "name": "stderr",
     "output_type": "stream",
     "text": [
      "[Parallel(n_jobs=-1)]: Using backend LokyBackend with 36 concurrent workers.\n",
      "[Parallel(n_jobs=-1)]: Done  90 tasks      | elapsed:   25.5s\n",
      "[Parallel(n_jobs=-1)]: Done 293 tasks      | elapsed:  1.0min\n",
      "[Parallel(n_jobs=-1)]: Done 576 tasks      | elapsed:  2.0min\n",
      "[Parallel(n_jobs=-1)]: Done 941 tasks      | elapsed:  3.2min\n",
      "[Parallel(n_jobs=-1)]: Done 1386 tasks      | elapsed:  4.8min\n",
      "[Parallel(n_jobs=-1)]: Done 1913 tasks      | elapsed:  6.6min\n",
      "[Parallel(n_jobs=-1)]: Done 2400 out of 2400 | elapsed:  8.2min finished\n"
     ]
    },
    {
     "name": "stdout",
     "output_type": "stream",
     "text": [
      "Fitting 5 folds for each of 480 candidates, totalling 2400 fits\n"
     ]
    },
    {
     "name": "stderr",
     "output_type": "stream",
     "text": [
      "[Parallel(n_jobs=-1)]: Using backend LokyBackend with 36 concurrent workers.\n",
      "[Parallel(n_jobs=-1)]: Done  90 tasks      | elapsed:   25.8s\n",
      "[Parallel(n_jobs=-1)]: Done 293 tasks      | elapsed:  1.1min\n",
      "[Parallel(n_jobs=-1)]: Done 576 tasks      | elapsed:  2.0min\n",
      "[Parallel(n_jobs=-1)]: Done 941 tasks      | elapsed:  3.2min\n",
      "[Parallel(n_jobs=-1)]: Done 1386 tasks      | elapsed:  4.8min\n",
      "[Parallel(n_jobs=-1)]: Done 1913 tasks      | elapsed:  6.6min\n",
      "[Parallel(n_jobs=-1)]: Done 2400 out of 2400 | elapsed:  8.2min finished\n"
     ]
    },
    {
     "name": "stdout",
     "output_type": "stream",
     "text": [
      "Fitting 5 folds for each of 480 candidates, totalling 2400 fits\n"
     ]
    },
    {
     "name": "stderr",
     "output_type": "stream",
     "text": [
      "[Parallel(n_jobs=-1)]: Using backend LokyBackend with 36 concurrent workers.\n",
      "[Parallel(n_jobs=-1)]: Done  90 tasks      | elapsed:   23.1s\n",
      "[Parallel(n_jobs=-1)]: Done 293 tasks      | elapsed:  1.0min\n",
      "[Parallel(n_jobs=-1)]: Done 576 tasks      | elapsed:  2.0min\n",
      "[Parallel(n_jobs=-1)]: Done 941 tasks      | elapsed:  3.2min\n",
      "[Parallel(n_jobs=-1)]: Done 1386 tasks      | elapsed:  4.8min\n",
      "[Parallel(n_jobs=-1)]: Done 1913 tasks      | elapsed:  6.6min\n",
      "[Parallel(n_jobs=-1)]: Done 2400 out of 2400 | elapsed:  8.1min finished\n"
     ]
    },
    {
     "name": "stdout",
     "output_type": "stream",
     "text": [
      "Fitting 5 folds for each of 480 candidates, totalling 2400 fits\n"
     ]
    },
    {
     "name": "stderr",
     "output_type": "stream",
     "text": [
      "[Parallel(n_jobs=-1)]: Using backend LokyBackend with 36 concurrent workers.\n",
      "[Parallel(n_jobs=-1)]: Done  90 tasks      | elapsed:   23.8s\n",
      "[Parallel(n_jobs=-1)]: Done 293 tasks      | elapsed:  1.1min\n",
      "[Parallel(n_jobs=-1)]: Done 576 tasks      | elapsed:  2.0min\n",
      "[Parallel(n_jobs=-1)]: Done 941 tasks      | elapsed:  3.3min\n",
      "[Parallel(n_jobs=-1)]: Done 1386 tasks      | elapsed:  4.9min\n",
      "[Parallel(n_jobs=-1)]: Done 1913 tasks      | elapsed:  6.9min\n",
      "[Parallel(n_jobs=-1)]: Done 2400 out of 2400 | elapsed:  8.6min finished\n"
     ]
    },
    {
     "name": "stdout",
     "output_type": "stream",
     "text": [
      "Fitting 5 folds for each of 480 candidates, totalling 2400 fits\n"
     ]
    },
    {
     "name": "stderr",
     "output_type": "stream",
     "text": [
      "[Parallel(n_jobs=-1)]: Using backend LokyBackend with 36 concurrent workers.\n",
      "[Parallel(n_jobs=-1)]: Done  90 tasks      | elapsed:   23.4s\n",
      "[Parallel(n_jobs=-1)]: Done 293 tasks      | elapsed:  1.0min\n",
      "[Parallel(n_jobs=-1)]: Done 576 tasks      | elapsed:  1.9min\n",
      "[Parallel(n_jobs=-1)]: Done 941 tasks      | elapsed:  3.2min\n",
      "[Parallel(n_jobs=-1)]: Done 1386 tasks      | elapsed:  4.8min\n",
      "[Parallel(n_jobs=-1)]: Done 1913 tasks      | elapsed:  6.6min\n",
      "[Parallel(n_jobs=-1)]: Done 2400 out of 2400 | elapsed:  8.1min finished\n"
     ]
    },
    {
     "name": "stdout",
     "output_type": "stream",
     "text": [
      "Fitting 5 folds for each of 480 candidates, totalling 2400 fits\n"
     ]
    },
    {
     "name": "stderr",
     "output_type": "stream",
     "text": [
      "[Parallel(n_jobs=-1)]: Using backend LokyBackend with 36 concurrent workers.\n",
      "[Parallel(n_jobs=-1)]: Done  90 tasks      | elapsed:   22.8s\n",
      "[Parallel(n_jobs=-1)]: Done 293 tasks      | elapsed:  1.0min\n",
      "[Parallel(n_jobs=-1)]: Done 576 tasks      | elapsed:  2.0min\n",
      "[Parallel(n_jobs=-1)]: Done 941 tasks      | elapsed:  3.2min\n",
      "[Parallel(n_jobs=-1)]: Done 1386 tasks      | elapsed:  4.7min\n",
      "[Parallel(n_jobs=-1)]: Done 1913 tasks      | elapsed:  6.5min\n",
      "[Parallel(n_jobs=-1)]: Done 2400 out of 2400 | elapsed:  8.1min finished\n"
     ]
    },
    {
     "name": "stdout",
     "output_type": "stream",
     "text": [
      "Fitting 5 folds for each of 480 candidates, totalling 2400 fits\n"
     ]
    },
    {
     "name": "stderr",
     "output_type": "stream",
     "text": [
      "[Parallel(n_jobs=-1)]: Using backend LokyBackend with 36 concurrent workers.\n",
      "[Parallel(n_jobs=-1)]: Done  90 tasks      | elapsed:   24.0s\n",
      "[Parallel(n_jobs=-1)]: Done 293 tasks      | elapsed:  1.1min\n",
      "[Parallel(n_jobs=-1)]: Done 576 tasks      | elapsed:  2.0min\n",
      "[Parallel(n_jobs=-1)]: Done 941 tasks      | elapsed:  3.3min\n",
      "[Parallel(n_jobs=-1)]: Done 1386 tasks      | elapsed:  4.9min\n",
      "[Parallel(n_jobs=-1)]: Done 1913 tasks      | elapsed:  7.0min\n",
      "[Parallel(n_jobs=-1)]: Done 2400 out of 2400 | elapsed:  8.7min finished\n"
     ]
    },
    {
     "name": "stdout",
     "output_type": "stream",
     "text": [
      "Fitting 5 folds for each of 480 candidates, totalling 2400 fits\n"
     ]
    },
    {
     "name": "stderr",
     "output_type": "stream",
     "text": [
      "[Parallel(n_jobs=-1)]: Using backend LokyBackend with 36 concurrent workers.\n",
      "[Parallel(n_jobs=-1)]: Done  90 tasks      | elapsed:   22.8s\n",
      "[Parallel(n_jobs=-1)]: Done 293 tasks      | elapsed:  1.0min\n",
      "[Parallel(n_jobs=-1)]: Done 576 tasks      | elapsed:  2.0min\n",
      "[Parallel(n_jobs=-1)]: Done 941 tasks      | elapsed:  2.8min\n",
      "[Parallel(n_jobs=-1)]: Done 1386 tasks      | elapsed:  3.7min\n",
      "[Parallel(n_jobs=-1)]: Done 1913 tasks      | elapsed:  4.8min\n",
      "[Parallel(n_jobs=-1)]: Done 2400 out of 2400 | elapsed:  5.7min finished\n"
     ]
    },
    {
     "name": "stdout",
     "output_type": "stream",
     "text": [
      "Fitting 5 folds for each of 480 candidates, totalling 2400 fits\n"
     ]
    },
    {
     "name": "stderr",
     "output_type": "stream",
     "text": [
      "[Parallel(n_jobs=-1)]: Using backend LokyBackend with 36 concurrent workers.\n",
      "[Parallel(n_jobs=-1)]: Done  90 tasks      | elapsed:   13.6s\n",
      "[Parallel(n_jobs=-1)]: Done 293 tasks      | elapsed:   37.3s\n",
      "[Parallel(n_jobs=-1)]: Done 576 tasks      | elapsed:  1.2min\n",
      "[Parallel(n_jobs=-1)]: Done 941 tasks      | elapsed:  2.0min\n",
      "[Parallel(n_jobs=-1)]: Done 1386 tasks      | elapsed:  2.9min\n",
      "[Parallel(n_jobs=-1)]: Done 1913 tasks      | elapsed:  4.0min\n",
      "[Parallel(n_jobs=-1)]: Done 2400 out of 2400 | elapsed:  4.8min finished\n"
     ]
    },
    {
     "name": "stdout",
     "output_type": "stream",
     "text": [
      "Fitting 5 folds for each of 480 candidates, totalling 2400 fits\n"
     ]
    },
    {
     "name": "stderr",
     "output_type": "stream",
     "text": [
      "[Parallel(n_jobs=-1)]: Using backend LokyBackend with 36 concurrent workers.\n",
      "[Parallel(n_jobs=-1)]: Done  90 tasks      | elapsed:   14.4s\n",
      "[Parallel(n_jobs=-1)]: Done 293 tasks      | elapsed:   38.6s\n",
      "[Parallel(n_jobs=-1)]: Done 576 tasks      | elapsed:  1.2min\n",
      "[Parallel(n_jobs=-1)]: Done 941 tasks      | elapsed:  2.0min\n",
      "[Parallel(n_jobs=-1)]: Done 1386 tasks      | elapsed:  3.0min\n",
      "[Parallel(n_jobs=-1)]: Done 1913 tasks      | elapsed:  4.1min\n",
      "[Parallel(n_jobs=-1)]: Done 2400 out of 2400 | elapsed:  5.0min finished\n"
     ]
    }
   ],
   "source": [
    "for vendor_to_exclude in ['Shanghai','Hunan','Guangdong','Beijing']:\n",
    "    df_rf_reg, df_rf_opt_paras, _ = train_scfa_dynamics_model(\n",
    "        df_meta = df_meta, \n",
    "        df_bac = df_bac, \n",
    "        df_scfa = df_scfa, \n",
    "        target_scfa=['Acetate','Butyrate','Propionate'],\n",
    "        topN=40,\n",
    "        exclude_group=None,\n",
    "        exclude_vendor=vendor_to_exclude,\n",
    "        model='RandomForest',\n",
    "        use_deriv_scfa=True,\n",
    "        use_deriv_microbiome=True\n",
    "    )\n",
    "    df_rf_opt_paras.to_csv('optimal_rf_parameters_exclude_vendor%s.csv'%(vendor_to_exclude))\n",
    "    df_rf_reg.to_csv('rf_regression_exclude_vendor%s.csv'%(vendor_to_exclude))"
   ]
  },
  {
   "cell_type": "markdown",
   "metadata": {},
   "source": [
    "# Compare observed and predicted SCFA production"
   ]
  },
  {
   "cell_type": "code",
   "execution_count": 16,
   "metadata": {},
   "outputs": [],
   "source": [
    "def predict_scfa_deriv(addVar,vendor_to_exclude):\n",
    "    df_pred = None\n",
    "\n",
    "    # get raw data\n",
    "    df_meta = pd.read_excel('../../../../../../our_data/meta_data.xlsx', index_col=0)\n",
    "    df_meta = df_meta[df_meta.Diet=='Inulin']\n",
    "    df_meta = df_meta.drop('Diet', axis=1)\n",
    "    df_meta = df_meta.rename({'MiceID':'SubjectID'}, axis=1)\n",
    "    df_scfa = pd.read_excel('../../../../../../our_data/SCFA.xlsx', index_col=0)\n",
    "    df_bac = pd.read_excel('../../../../../../our_data/16S_absolute_abundance.xlsx', index_col=0)\n",
    "\n",
    "    # get trained model\n",
    "    target_scfa=['Acetate','Butyrate','Propionate']\n",
    "    if addVar is not None:\n",
    "        df_opt_paras = pd.read_csv('optimal_rf_parameters_w_SCFA_exclude_vendor%s.csv'%(vendor_to_exclude), index_col=0)\n",
    "    else:\n",
    "        df_opt_paras = pd.read_csv('optimal_rf_parameters_no_SCFA_exclude_vendor%s.csv'%(vendor_to_exclude), index_col=0)\n",
    "\n",
    "    target_scfa_sliced, selected_topN_bac, df_meta_sliced, df_bac_sliced, df_bac_deriv, df_scfa_sliced, df_scfa_deriv = data_processing_scfa(\n",
    "        df_meta, df_bac, df_scfa, target_scfa, topN=40, exclude_group=None, exclude_vendor=vendor_to_exclude, use_deriv_scfa=True, use_deriv_microbiome=True)\n",
    "\n",
    "    _,_,reg = train_scfa_dynamics_model(\n",
    "        df_meta=df_meta, # meta data\n",
    "        df_bac=df_bac,  # relative abundace or absolute abundance of gut microbiome\n",
    "        df_scfa=df_scfa, # SCFA measurement\n",
    "        target_scfa=target_scfa, # dependent variable(s) in the regression\n",
    "        topN=40, # keep only the most abundance N taxa in the model\n",
    "        normalize_X=True, # normalize maximum of bacterial abundance to 1\n",
    "        exclude_group=None, # group of mice excluded from model training\n",
    "        exclude_vendor=vendor_to_exclude, # group of mice excluded from model training\n",
    "        model='RandomForest',# regression model\n",
    "        opt_params = df_opt_paras, # optimal model parameters\n",
    "        addVar=addVar,\n",
    "        use_deriv_scfa=True,\n",
    "        use_deriv_microbiome=True\n",
    "    )\n",
    "\n",
    "    # predict SCFA derivative\n",
    "    for scfa_ in target_scfa:\n",
    "        df_pred_tmp = deepcopy(df_scfa_deriv)\n",
    "        df_pred_tmp = df_pred_tmp[[x for x in df_pred_tmp.columns if x not in list(set(target_scfa)-set([scfa_]))]]\n",
    "        df_pred_tmp = df_pred_tmp.rename({scfa_:'SCFA_deriv_observed'}, axis=1)\n",
    "        df_pred_tmp['SCFA_mol'] = scfa_\n",
    "        df_pred_tmp['SCFA_value_observed'] = df_scfa_sliced[scfa_]\n",
    "\n",
    "        if addVar is not None:\n",
    "            X_var = np.concatenate((np.asarray(df_bac_sliced.values), np.asarray(df_scfa_sliced[scfa_]).reshape(-1,1)), 1)\n",
    "        else:\n",
    "            X_var = np.asarray(df_bac_sliced.values)\n",
    "        X_var = X_var/X_var.max().max()\n",
    "        df_pred_tmp['SCFA_deriv_predicted'] = reg[scfa_].predict(X_var)\n",
    "\n",
    "        if df_pred is None:\n",
    "            df_pred = df_pred_tmp\n",
    "        else:\n",
    "            df_pred = pd.concat([df_pred, df_pred_tmp], ignore_index=True)\n",
    "\n",
    "    return df_pred"
   ]
  },
  {
   "cell_type": "code",
   "execution_count": 17,
   "metadata": {},
   "outputs": [],
   "source": [
    "for addVar in ['SCFA',None]:\n",
    "    df = None\n",
    "    for idx_j, vendor_to_exclude in enumerate(['Guangdong','Shanghai','Hunan','Beijing']):\n",
    "        df_tmp = predict_scfa_deriv(addVar=addVar, vendor_to_exclude=vendor_to_exclude)\n",
    "        if idx_j==0:\n",
    "            df = df_tmp\n",
    "        else:\n",
    "            df = pd.concat([df, df_tmp], ignore_index=True)\n",
    "    df['RelativeError'] = (df['SCFA_deriv_predicted']-df['SCFA_deriv_observed'])/df['SCFA_deriv_observed']*100\n",
    "    df['RelativeAbsError'] = np.abs(df['RelativeError'])\n",
    "    if addVar is not None:\n",
    "        df.to_csv('training_error_extrapolation_w_SCFA.csv')\n",
    "    else:\n",
    "        df.to_csv('training_error_extrapolation_no_SCFA.csv')"
   ]
  },
  {
   "cell_type": "code",
   "execution_count": 18,
   "metadata": {},
   "outputs": [
    {
     "name": "stdout",
     "output_type": "stream",
     "text": [
      "unknown additional variable False\n"
     ]
    },
    {
     "ename": "RuntimeError",
     "evalue": "No active exception to reraise",
     "output_type": "error",
     "traceback": [
      "\u001b[0;31m---------------------------------------------------------------------------\u001b[0m",
      "\u001b[0;31mRuntimeError\u001b[0m                              Traceback (most recent call last)",
      "\u001b[0;32m~/GoogleDrive/Source_code_for_SCFA_dynamics_project/utils.py\u001b[0m in \u001b[0;36m<module>\u001b[0;34m\u001b[0m\n\u001b[1;32m      3\u001b[0m \u001b[0;32mfor\u001b[0m \u001b[0midx_i\u001b[0m\u001b[0;34m,\u001b[0m\u001b[0maddVar\u001b[0m \u001b[0;32min\u001b[0m \u001b[0menumerate\u001b[0m\u001b[0;34m(\u001b[0m\u001b[0;34m[\u001b[0m\u001b[0;32mFalse\u001b[0m\u001b[0;34m,\u001b[0m \u001b[0;32mTrue\u001b[0m\u001b[0;34m]\u001b[0m\u001b[0;34m)\u001b[0m\u001b[0;34m:\u001b[0m\u001b[0;34m\u001b[0m\u001b[0;34m\u001b[0m\u001b[0m\n\u001b[1;32m      4\u001b[0m     \u001b[0;32mfor\u001b[0m \u001b[0midx_j\u001b[0m\u001b[0;34m,\u001b[0m \u001b[0mvendor_to_exclude\u001b[0m \u001b[0;32min\u001b[0m \u001b[0menumerate\u001b[0m\u001b[0;34m(\u001b[0m\u001b[0;34m[\u001b[0m\u001b[0;34m'Guangdong'\u001b[0m\u001b[0;34m,\u001b[0m\u001b[0;34m'Shanghai'\u001b[0m\u001b[0;34m,\u001b[0m\u001b[0;34m'Hunan'\u001b[0m\u001b[0;34m,\u001b[0m\u001b[0;34m'Beijing'\u001b[0m\u001b[0;34m]\u001b[0m\u001b[0;34m)\u001b[0m\u001b[0;34m:\u001b[0m\u001b[0;34m\u001b[0m\u001b[0;34m\u001b[0m\u001b[0m\n\u001b[0;32m----> 5\u001b[0;31m         \u001b[0mdf_pred\u001b[0m \u001b[0;34m=\u001b[0m \u001b[0mpredict_scfa_deriv\u001b[0m\u001b[0;34m(\u001b[0m\u001b[0maddVar\u001b[0m\u001b[0;34m=\u001b[0m\u001b[0maddVar\u001b[0m\u001b[0;34m,\u001b[0m \u001b[0mvendor_to_exclude\u001b[0m\u001b[0;34m=\u001b[0m\u001b[0mvendor_to_exclude\u001b[0m\u001b[0;34m)\u001b[0m\u001b[0;34m\u001b[0m\u001b[0;34m\u001b[0m\u001b[0m\n\u001b[0m\u001b[1;32m      6\u001b[0m         \u001b[0m_\u001b[0m \u001b[0;34m=\u001b[0m \u001b[0msns\u001b[0m\u001b[0;34m.\u001b[0m\u001b[0mscatterplot\u001b[0m\u001b[0;34m(\u001b[0m\u001b[0mx\u001b[0m\u001b[0;34m=\u001b[0m\u001b[0;34m'SCFA_deriv_observed'\u001b[0m\u001b[0;34m,\u001b[0m\u001b[0my\u001b[0m\u001b[0;34m=\u001b[0m\u001b[0;34m'SCFA_deriv_predicted'\u001b[0m\u001b[0;34m,\u001b[0m \u001b[0mhue\u001b[0m\u001b[0;34m=\u001b[0m\u001b[0;34m'SCFA_mol'\u001b[0m\u001b[0;34m,\u001b[0m \u001b[0msize\u001b[0m\u001b[0;34m=\u001b[0m\u001b[0;34m'Day'\u001b[0m\u001b[0;34m,\u001b[0m \u001b[0mpalette\u001b[0m\u001b[0;34m=\u001b[0m\u001b[0msns\u001b[0m\u001b[0;34m.\u001b[0m\u001b[0mcolor_palette\u001b[0m\u001b[0;34m(\u001b[0m\u001b[0;34m\"hls\"\u001b[0m\u001b[0;34m,\u001b[0m \u001b[0;36m3\u001b[0m\u001b[0;34m)\u001b[0m\u001b[0;34m,\u001b[0m \u001b[0mdata\u001b[0m\u001b[0;34m=\u001b[0m\u001b[0mdf_pred\u001b[0m\u001b[0;34m,\u001b[0m \u001b[0max\u001b[0m\u001b[0;34m=\u001b[0m\u001b[0max\u001b[0m\u001b[0;34m[\u001b[0m\u001b[0midx_i\u001b[0m\u001b[0;34m,\u001b[0m\u001b[0midx_j\u001b[0m\u001b[0;34m]\u001b[0m\u001b[0;34m)\u001b[0m\u001b[0;34m\u001b[0m\u001b[0;34m\u001b[0m\u001b[0m\n\u001b[1;32m      7\u001b[0m         \u001b[0m_\u001b[0m \u001b[0;34m=\u001b[0m \u001b[0max\u001b[0m\u001b[0;34m[\u001b[0m\u001b[0midx_i\u001b[0m\u001b[0;34m,\u001b[0m\u001b[0midx_j\u001b[0m\u001b[0;34m]\u001b[0m\u001b[0;34m.\u001b[0m\u001b[0mplot\u001b[0m\u001b[0;34m(\u001b[0m\u001b[0;34m[\u001b[0m\u001b[0;34m-\u001b[0m\u001b[0;36m12\u001b[0m\u001b[0;34m,\u001b[0m\u001b[0;36m28\u001b[0m\u001b[0;34m]\u001b[0m\u001b[0;34m,\u001b[0m\u001b[0;34m[\u001b[0m\u001b[0;34m-\u001b[0m\u001b[0;36m12\u001b[0m\u001b[0;34m,\u001b[0m\u001b[0;36m28\u001b[0m\u001b[0;34m]\u001b[0m\u001b[0;34m,\u001b[0m\u001b[0;34m'k--'\u001b[0m\u001b[0;34m)\u001b[0m\u001b[0;34m\u001b[0m\u001b[0;34m\u001b[0m\u001b[0m\n",
      "\u001b[0;32m~/GoogleDrive/Source_code_for_SCFA_dynamics_project/utils.py\u001b[0m in \u001b[0;36mpredict_scfa_deriv\u001b[0;34m(addVar, vendor_to_exclude)\u001b[0m\n\u001b[1;32m     20\u001b[0m         df_meta, df_bac, df_scfa, target_scfa, topN=40, exclude_group=None, exclude_vendor=vendor_to_exclude, use_deriv_scfa=True, use_deriv_microbiome=True)\n\u001b[1;32m     21\u001b[0m \u001b[0;34m\u001b[0m\u001b[0m\n\u001b[0;32m---> 22\u001b[0;31m     _,_,reg = train_scfa_dynamics_model(\n\u001b[0m\u001b[1;32m     23\u001b[0m         \u001b[0mdf_meta\u001b[0m\u001b[0;34m=\u001b[0m\u001b[0mdf_meta\u001b[0m\u001b[0;34m,\u001b[0m \u001b[0;31m# meta data\u001b[0m\u001b[0;34m\u001b[0m\u001b[0;34m\u001b[0m\u001b[0m\n\u001b[1;32m     24\u001b[0m         \u001b[0mdf_bac\u001b[0m\u001b[0;34m=\u001b[0m\u001b[0mdf_bac\u001b[0m\u001b[0;34m,\u001b[0m  \u001b[0;31m# relative abundace or absolute abundance of gut microbiome\u001b[0m\u001b[0;34m\u001b[0m\u001b[0;34m\u001b[0m\u001b[0m\n",
      "\u001b[0;32m~/GoogleDrive/Source_code_for_SCFA_dynamics_project/utils.py\u001b[0m in \u001b[0;36mtrain_scfa_dynamics_model\u001b[0;34m(df_meta, df_bac, df_scfa, target_scfa, topN, normalize_X, exclude_group, exclude_vendor, model, opt_params, addVar, use_deriv_scfa, use_deriv_microbiome)\u001b[0m\n\u001b[1;32m    211\u001b[0m                 \u001b[0;32melse\u001b[0m\u001b[0;34m:\u001b[0m\u001b[0;34m\u001b[0m\u001b[0;34m\u001b[0m\u001b[0m\n\u001b[1;32m    212\u001b[0m                     \u001b[0mprint\u001b[0m\u001b[0;34m(\u001b[0m\u001b[0;34m'unknown additional variable %s'\u001b[0m\u001b[0;34m%\u001b[0m\u001b[0;34m(\u001b[0m\u001b[0maddVar\u001b[0m\u001b[0;34m)\u001b[0m\u001b[0;34m)\u001b[0m\u001b[0;34m\u001b[0m\u001b[0;34m\u001b[0m\u001b[0m\n\u001b[0;32m--> 213\u001b[0;31m                     \u001b[0;32mraise\u001b[0m\u001b[0;34m\u001b[0m\u001b[0;34m\u001b[0m\u001b[0m\n\u001b[0m\u001b[1;32m    214\u001b[0m             \u001b[0;32melse\u001b[0m\u001b[0;34m:\u001b[0m\u001b[0;34m\u001b[0m\u001b[0;34m\u001b[0m\u001b[0m\n\u001b[1;32m    215\u001b[0m                 \u001b[0mX_var\u001b[0m \u001b[0;34m=\u001b[0m \u001b[0mnp\u001b[0m\u001b[0;34m.\u001b[0m\u001b[0masarray\u001b[0m\u001b[0;34m(\u001b[0m\u001b[0mdf_bac_deriv\u001b[0m\u001b[0;34m.\u001b[0m\u001b[0mvalues\u001b[0m\u001b[0;34m)\u001b[0m\u001b[0;34m\u001b[0m\u001b[0;34m\u001b[0m\u001b[0m\n",
      "\u001b[0;31mRuntimeError\u001b[0m: No active exception to reraise"
     ]
    },
    {
     "data": {
      "image/png": "[encoded data removed]",
      "text/plain": [
       "<Figure size 1584x720 with 8 Axes>"
      ]
     },
     "metadata": {
      "needs_background": "light"
     },
     "output_type": "display_data"
    }
   ],
   "source": [
    "fig, ax = plt.subplots(figsize=(22,10), nrows=2, ncols=4, sharex=True, sharey=True)\n",
    "\n",
    "for idx_i,addVar in enumerate([False, True]):\n",
    "    for idx_j, vendor_to_exclude in enumerate(['Guangdong','Shanghai','Hunan','Beijing']):\n",
    "        df_pred = predict_scfa_deriv(addVar=addVar, vendor_to_exclude=vendor_to_exclude)\n",
    "        _ = sns.scatterplot(x='SCFA_deriv_observed',y='SCFA_deriv_predicted', hue='SCFA_mol', size='Day', palette=sns.color_palette(\"hls\", 3), data=df_pred, ax=ax[idx_i,idx_j])\n",
    "        _ = ax[idx_i,idx_j].plot([-12,28],[-12,28],'k--')\n",
    "        _ = ax[idx_i,idx_j].set_xlim([-12,28])\n",
    "        _ = ax[idx_i,idx_j].set_ylim([-12,28])\n",
    "        if addVar is not None:\n",
    "            _ = ax[1,idx_j].set_title('w/ SCFA, excluded vendor = %s, R2 = %2.2f'%(vendor_to_exclude,r2_score(df_pred.SCFA_deriv_observed, df_pred.SCFA_deriv_predicted)))\n",
    "        else:\n",
    "            _ = ax[0,idx_j].set_title('w/o SCFA, excluded vendor= %s, R2 = %2.2f'%(vendor_to_exclude,r2_score(df_pred.SCFA_deriv_observed, df_pred.SCFA_deriv_predicted)))\n",
    "            \n",
    "plt.tight_layout()"
   ]
  },
  {
   "cell_type": "code",
   "execution_count": null,
   "metadata": {},
   "outputs": [],
   "source": []
  }
 ],
 "metadata": {
  "kernelspec": {
   "display_name": "Python 3",
   "language": "python",
   "name": "python3"
  },
  "language_info": {
   "codemirror_mode": {
    "name": "ipython",
    "version": 3
   },
   "file_extension": ".py",
   "mimetype": "text/x-python",
   "name": "python",
   "nbconvert_exporter": "python",
   "pygments_lexer": "ipython3",
   "version": "3.8.3"
  }
 },
 "nbformat": 4,
 "nbformat_minor": 4
}
